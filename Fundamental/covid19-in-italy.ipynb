{
 "metadata": {
  "language_info": {
   "codemirror_mode": {
    "name": "ipython",
    "version": 3
   },
   "file_extension": ".py",
   "mimetype": "text/x-python",
   "name": "python",
   "nbconvert_exporter": "python",
   "pygments_lexer": "ipython3",
   "version": 3
  },
  "orig_nbformat": 4
 },
 "nbformat": 4,
 "nbformat_minor": 2,
 "cells": [
  {
   "source": [
    "# pandas와 함께 EDA 시작하기\n",
    "## 데이터셋 - covid19-italy-region.csv\n",
    "\n",
    "출처 : https://www.kaggle.com/sudalairajkumar/covid19-in-italy\n"
   ],
   "cell_type": "markdown",
   "metadata": {}
  },
  {
   "cell_type": "code",
   "execution_count": null,
   "metadata": {},
   "outputs": [],
   "source": [
    "import pandas as pd\n",
    "import os\n",
    "\n",
    "csv_path = os.getenv(\"HOME\") + \"/aiffel/data_represent/data/covid19_italy_region.csv\"\n",
    "data = pd.read_csv(csv_path)\n",
    "type(data)"
   ]
  },
  {
   "cell_type": "code",
   "execution_count": null,
   "metadata": {},
   "outputs": [],
   "source": [
    "# Check for basic statistical data (count, mean, std, min, max, 25% 50% 75%)\n",
    "data.describe()"
   ]
  },
  {
   "cell_type": "code",
   "execution_count": null,
   "metadata": {},
   "outputs": [],
   "source": [
    "# Check for missing value\n",
    "data.isnull().sum()"
   ]
  },
  {
   "cell_type": "code",
   "execution_count": null,
   "metadata": {},
   "outputs": [],
   "source": [
    "data['RegionName'].value_counts()"
   ]
  },
  {
   "source": [
    "Check for the sum of each statistical data per column"
   ],
   "cell_type": "markdown",
   "metadata": {}
  },
  {
   "cell_type": "code",
   "execution_count": null,
   "metadata": {},
   "outputs": [],
   "source": [
    "data['RegionName'].value_counts().sum()\n",
    "data.sum()"
   ]
  },
  {
   "source": [
    "### Summary\n",
    "count(): NA를 제외한 수를 반환합니다.   \n",
    "describe(): 요약통계를 계산합니다.   \n",
    "min(), max(): 최소, 최댓값을 계산합니다.   \n",
    "sum(): 합을 계산합니다.   \n",
    "mean(): 평균을 계산합니다.   \n",
    "median(): 중앙값을 계산합니다.   \n",
    "var(): 분산을 계산합니다.   \n",
    "std(): 표준편차를 계산합니다.   \n",
    "argmin(), argmax(): 최소, 최댓값을 가지고 있는 값을 반환 합니다.   \n",
    "idxmin(), idxmax(): 최소, 최댓값을 가지고 있는 인덱스를 반환합니다.   \n",
    "cumsum(): 누적 합을 계산합니다.   \n",
    "pct_change(): 퍼센트 변화율을 계산합니다.   \n",
    "\n",
    "\n"
   ],
   "cell_type": "markdown",
   "metadata": {}
  }
 ]
}