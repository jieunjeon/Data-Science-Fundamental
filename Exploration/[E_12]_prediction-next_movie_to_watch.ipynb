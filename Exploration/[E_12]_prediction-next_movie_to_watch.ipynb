{
 "cells": [
  {
   "cell_type": "markdown",
   "source": [
    "# Predict The Next Movie To Watch\r\n",
    "Goal of this project:   \r\n",
    "1. Preprocess the Movielens dataset from the perspective of session based recommendation was systematically carried out.\r\n",
    "2. The RNN-based predictive model was normally configured and training proceeded stably.\r\n",
    "3. Changed the session definition, model structure, hyperparameters, etc. and observed the changes in Recall and MRR."
   ],
   "metadata": {}
  },
  {
   "cell_type": "markdown",
   "source": [
    "# Dataset\n",
    "Movielens 1M Dataset (https://grouplens.org/datasets/movielens/1m/)   \n",
    "Stable benchmark dataset. 1 million ratings from 6000 users on 4000 movies. Released 2/2003.\n",
    "\n",
    "Using this Movielens dataset, I will create a SBR system (Session based Recommendation system)"
   ],
   "metadata": {}
  },
  {
   "cell_type": "markdown",
   "source": [
    "# Table of Contents\r\n",
    "1. Load the Data\r\n",
    "2. Data Preprocessing\r\n",
    "3. Train / Valid / Test Data Split\r\n",
    "4. Data Pipeline\r\n",
    "5. Model Configuration\r\n",
    "6. Model Train\r\n",
    "7. Model Test and check Recall and MRR"
   ],
   "metadata": {}
  },
  {
   "cell_type": "code",
   "execution_count": 5,
   "source": [
    "import datetime as dt\r\n",
    "from pathlib import Path\r\n",
    "import os\r\n",
    "\r\n",
    "import numpy as np\r\n",
    "import pandas as pd\r\n",
    "import warnings\r\n",
    "warnings.filterwarnings('ignore')"
   ],
   "outputs": [],
   "metadata": {}
  },
  {
   "cell_type": "code",
   "execution_count": 6,
   "source": [
    "data_path = Path(os.getenv('HOME')+'/aiffel/yoochoose/data/') \r\n",
    "train_path = data_path / 'ratings.dat'\r\n",
    "\r\n",
    "def load_data(data_path: Path, nrows=None):\r\n",
    "    data = pd.read_csv(data_path, sep='::', header=None, usecols=[0, 1, 2, 3], dtype={0: np.int32, 1: np.int32, 2: np.int32}, nrows=nrows)\r\n",
    "    data.columns = ['UserId', 'ItemId', 'Rating', 'Time']\r\n",
    "    return data"
   ],
   "outputs": [],
   "metadata": {}
  },
  {
   "cell_type": "code",
   "execution_count": 7,
   "source": [
    "data = load_data(train_path, None)\r\n",
    "data.sort_values(['UserId', 'Time'], inplace=True)  # sort by id and timestamp\r\n",
    "data"
   ],
   "outputs": [
    {
     "output_type": "execute_result",
     "data": {
      "text/plain": [
       "         UserId  ItemId  Rating       Time\n",
       "31            1    3186       4  978300019\n",
       "22            1    1270       5  978300055\n",
       "27            1    1721       4  978300055\n",
       "37            1    1022       5  978300055\n",
       "24            1    2340       3  978300103\n",
       "...         ...     ...     ...        ...\n",
       "1000019    6040    2917       4  997454429\n",
       "999988     6040    1921       4  997454464\n",
       "1000172    6040    1784       3  997454464\n",
       "1000167    6040     161       3  997454486\n",
       "1000042    6040    1221       4  998315055\n",
       "\n",
       "[1000209 rows x 4 columns]"
      ],
      "text/html": [
       "<div>\n",
       "<style scoped>\n",
       "    .dataframe tbody tr th:only-of-type {\n",
       "        vertical-align: middle;\n",
       "    }\n",
       "\n",
       "    .dataframe tbody tr th {\n",
       "        vertical-align: top;\n",
       "    }\n",
       "\n",
       "    .dataframe thead th {\n",
       "        text-align: right;\n",
       "    }\n",
       "</style>\n",
       "<table border=\"1\" class=\"dataframe\">\n",
       "  <thead>\n",
       "    <tr style=\"text-align: right;\">\n",
       "      <th></th>\n",
       "      <th>UserId</th>\n",
       "      <th>ItemId</th>\n",
       "      <th>Rating</th>\n",
       "      <th>Time</th>\n",
       "    </tr>\n",
       "  </thead>\n",
       "  <tbody>\n",
       "    <tr>\n",
       "      <th>31</th>\n",
       "      <td>1</td>\n",
       "      <td>3186</td>\n",
       "      <td>4</td>\n",
       "      <td>978300019</td>\n",
       "    </tr>\n",
       "    <tr>\n",
       "      <th>22</th>\n",
       "      <td>1</td>\n",
       "      <td>1270</td>\n",
       "      <td>5</td>\n",
       "      <td>978300055</td>\n",
       "    </tr>\n",
       "    <tr>\n",
       "      <th>27</th>\n",
       "      <td>1</td>\n",
       "      <td>1721</td>\n",
       "      <td>4</td>\n",
       "      <td>978300055</td>\n",
       "    </tr>\n",
       "    <tr>\n",
       "      <th>37</th>\n",
       "      <td>1</td>\n",
       "      <td>1022</td>\n",
       "      <td>5</td>\n",
       "      <td>978300055</td>\n",
       "    </tr>\n",
       "    <tr>\n",
       "      <th>24</th>\n",
       "      <td>1</td>\n",
       "      <td>2340</td>\n",
       "      <td>3</td>\n",
       "      <td>978300103</td>\n",
       "    </tr>\n",
       "    <tr>\n",
       "      <th>...</th>\n",
       "      <td>...</td>\n",
       "      <td>...</td>\n",
       "      <td>...</td>\n",
       "      <td>...</td>\n",
       "    </tr>\n",
       "    <tr>\n",
       "      <th>1000019</th>\n",
       "      <td>6040</td>\n",
       "      <td>2917</td>\n",
       "      <td>4</td>\n",
       "      <td>997454429</td>\n",
       "    </tr>\n",
       "    <tr>\n",
       "      <th>999988</th>\n",
       "      <td>6040</td>\n",
       "      <td>1921</td>\n",
       "      <td>4</td>\n",
       "      <td>997454464</td>\n",
       "    </tr>\n",
       "    <tr>\n",
       "      <th>1000172</th>\n",
       "      <td>6040</td>\n",
       "      <td>1784</td>\n",
       "      <td>3</td>\n",
       "      <td>997454464</td>\n",
       "    </tr>\n",
       "    <tr>\n",
       "      <th>1000167</th>\n",
       "      <td>6040</td>\n",
       "      <td>161</td>\n",
       "      <td>3</td>\n",
       "      <td>997454486</td>\n",
       "    </tr>\n",
       "    <tr>\n",
       "      <th>1000042</th>\n",
       "      <td>6040</td>\n",
       "      <td>1221</td>\n",
       "      <td>4</td>\n",
       "      <td>998315055</td>\n",
       "    </tr>\n",
       "  </tbody>\n",
       "</table>\n",
       "<p>1000209 rows × 4 columns</p>\n",
       "</div>"
      ]
     },
     "metadata": {},
     "execution_count": 7
    }
   ],
   "metadata": {}
  },
  {
   "cell_type": "code",
   "execution_count": 9,
   "source": [
    "data['UserId'].nunique(), data['ItemId'].nunique()"
   ],
   "outputs": [
    {
     "output_type": "execute_result",
     "data": {
      "text/plain": [
       "(6040, 3706)"
      ]
     },
     "metadata": {},
     "execution_count": 9
    }
   ],
   "metadata": {}
  },
  {
   "cell_type": "markdown",
   "source": [
    "## Session Length\r\n",
    "- Session_length means the number of data rows that share the same SessionId. \r\n",
    "- SessionId is a user identifier that is always included when connecting to the web server from the browser. Even if we don't know who this user is because we're not logged in, we can at least classify the behavior of a specific user by SessionId. \r\n",
    "- Session_length here means how many actions the user of the session took during the session (how many product information was clicked).\r\n",
    "\r\n",
    "1. UserID should act as SessionID.\r\n",
    "\r\n",
    "2. Rating information is included. Ny using this rating information, whether or not you liked the last movie you saw may have something to do with choosing more similar movies. You also need to think about how to handle low-rated data.\r\n",
    "\r\n",
    "3. The Time item includes UTC time, and the time in seconds that has elapsed since January 1, 1970 is listed."
   ],
   "metadata": {}
  },
  {
   "cell_type": "code",
   "execution_count": 10,
   "source": [
    "user_length = data.groupby('UserId').size()\r\n",
    "user_length.min(), user_length.max()"
   ],
   "outputs": [
    {
     "output_type": "execute_result",
     "data": {
      "text/plain": [
       "(20, 2314)"
      ]
     },
     "metadata": {},
     "execution_count": 10
    }
   ],
   "metadata": {}
  },
  {
   "cell_type": "code",
   "execution_count": 11,
   "source": [
    "user_length.quantile(0.99)"
   ],
   "outputs": [
    {
     "output_type": "execute_result",
     "data": {
      "text/plain": [
       "906.659999999998"
      ]
     },
     "metadata": {},
     "execution_count": 11
    }
   ],
   "metadata": {}
  },
  {
   "cell_type": "markdown",
   "source": [
    "Let's check users with length of 400"
   ],
   "metadata": {}
  },
  {
   "cell_type": "code",
   "execution_count": 12,
   "source": [
    "long_user = user_length[user_length==400].index[0]\r\n",
    "data[data['UserId']==long_user]"
   ],
   "outputs": [
    {
     "output_type": "execute_result",
     "data": {
      "text/plain": [
       "      UserId  ItemId  Rating       Time\n",
       "3421      26     593       3  978130429\n",
       "3581      26    2915       4  978130465\n",
       "3603      26     511       5  978130485\n",
       "3717      26     480       4  978130485\n",
       "3673      26    3249       3  978130684\n",
       "...      ...     ...     ...        ...\n",
       "3469      26     185       3  978276085\n",
       "3670      26    3247       2  978276085\n",
       "3566      26    2262       5  978384764\n",
       "3451      26    1784       5  978384872\n",
       "3514      26    2683       1  978385333\n",
       "\n",
       "[400 rows x 4 columns]"
      ],
      "text/html": [
       "<div>\n",
       "<style scoped>\n",
       "    .dataframe tbody tr th:only-of-type {\n",
       "        vertical-align: middle;\n",
       "    }\n",
       "\n",
       "    .dataframe tbody tr th {\n",
       "        vertical-align: top;\n",
       "    }\n",
       "\n",
       "    .dataframe thead th {\n",
       "        text-align: right;\n",
       "    }\n",
       "</style>\n",
       "<table border=\"1\" class=\"dataframe\">\n",
       "  <thead>\n",
       "    <tr style=\"text-align: right;\">\n",
       "      <th></th>\n",
       "      <th>UserId</th>\n",
       "      <th>ItemId</th>\n",
       "      <th>Rating</th>\n",
       "      <th>Time</th>\n",
       "    </tr>\n",
       "  </thead>\n",
       "  <tbody>\n",
       "    <tr>\n",
       "      <th>3421</th>\n",
       "      <td>26</td>\n",
       "      <td>593</td>\n",
       "      <td>3</td>\n",
       "      <td>978130429</td>\n",
       "    </tr>\n",
       "    <tr>\n",
       "      <th>3581</th>\n",
       "      <td>26</td>\n",
       "      <td>2915</td>\n",
       "      <td>4</td>\n",
       "      <td>978130465</td>\n",
       "    </tr>\n",
       "    <tr>\n",
       "      <th>3603</th>\n",
       "      <td>26</td>\n",
       "      <td>511</td>\n",
       "      <td>5</td>\n",
       "      <td>978130485</td>\n",
       "    </tr>\n",
       "    <tr>\n",
       "      <th>3717</th>\n",
       "      <td>26</td>\n",
       "      <td>480</td>\n",
       "      <td>4</td>\n",
       "      <td>978130485</td>\n",
       "    </tr>\n",
       "    <tr>\n",
       "      <th>3673</th>\n",
       "      <td>26</td>\n",
       "      <td>3249</td>\n",
       "      <td>3</td>\n",
       "      <td>978130684</td>\n",
       "    </tr>\n",
       "    <tr>\n",
       "      <th>...</th>\n",
       "      <td>...</td>\n",
       "      <td>...</td>\n",
       "      <td>...</td>\n",
       "      <td>...</td>\n",
       "    </tr>\n",
       "    <tr>\n",
       "      <th>3469</th>\n",
       "      <td>26</td>\n",
       "      <td>185</td>\n",
       "      <td>3</td>\n",
       "      <td>978276085</td>\n",
       "    </tr>\n",
       "    <tr>\n",
       "      <th>3670</th>\n",
       "      <td>26</td>\n",
       "      <td>3247</td>\n",
       "      <td>2</td>\n",
       "      <td>978276085</td>\n",
       "    </tr>\n",
       "    <tr>\n",
       "      <th>3566</th>\n",
       "      <td>26</td>\n",
       "      <td>2262</td>\n",
       "      <td>5</td>\n",
       "      <td>978384764</td>\n",
       "    </tr>\n",
       "    <tr>\n",
       "      <th>3451</th>\n",
       "      <td>26</td>\n",
       "      <td>1784</td>\n",
       "      <td>5</td>\n",
       "      <td>978384872</td>\n",
       "    </tr>\n",
       "    <tr>\n",
       "      <th>3514</th>\n",
       "      <td>26</td>\n",
       "      <td>2683</td>\n",
       "      <td>1</td>\n",
       "      <td>978385333</td>\n",
       "    </tr>\n",
       "  </tbody>\n",
       "</table>\n",
       "<p>400 rows × 4 columns</p>\n",
       "</div>"
      ]
     },
     "metadata": {},
     "execution_count": 12
    }
   ],
   "metadata": {}
  },
  {
   "cell_type": "code",
   "execution_count": 13,
   "source": [
    "length_count = user_length.groupby(user_length).size()\r\n",
    "length_percent_cumsum = length_count.cumsum() / length_count.sum()\r\n",
    "length_percent_cumsum_99 = length_percent_cumsum[length_percent_cumsum < 0.99]\r\n",
    "\r\n",
    "length_percent_cumsum_99"
   ],
   "outputs": [
    {
     "output_type": "execute_result",
     "data": {
      "text/plain": [
       "20     0.014238\n",
       "21     0.029305\n",
       "22     0.042053\n",
       "23     0.055464\n",
       "24     0.068874\n",
       "         ...   \n",
       "888    0.989073\n",
       "893    0.989404\n",
       "894    0.989570\n",
       "900    0.989735\n",
       "903    0.989901\n",
       "Length: 684, dtype: float64"
      ]
     },
     "metadata": {},
     "execution_count": 13
    }
   ],
   "metadata": {}
  },
  {
   "cell_type": "code",
   "execution_count": 14,
   "source": [
    "import matplotlib.pyplot as plt\r\n",
    "\r\n",
    "plt.figure(figsize=(20, 10))\r\n",
    "plt.bar(x=length_percent_cumsum_99.index,\r\n",
    "        height=length_percent_cumsum_99)\r\n",
    "plt.xticks(length_percent_cumsum_99.index)\r\n",
    "plt.yticks(np.arange(0, 1.01, 0.05))\r\n",
    "plt.title('Cumsum Percentage Until 0.99', size=20)\r\n",
    "plt.show()"
   ],
   "outputs": [
    {
     "output_type": "display_data",
     "data": {
      "text/plain": [
       "<Figure size 1440x720 with 1 Axes>"
      ],
      "image/png": "[encoded data removed]"
     },
     "metadata": {
      "needs_background": "light"
     }
    }
   ],
   "metadata": {}
  },
  {
   "cell_type": "markdown",
   "source": [
    "**Matrix Factorization** model is widely used in Recommendation systems, which expresses the user-product relationship matrix as the product of a user matrix and a product matrix.   \n",
    "However, it's not suitable here because there are too many blanks in the User * Item Matrix (data sparsity), so it is possible that the model is not trained properly. Since this session information cannot be organized based on user ID, if one session is viewed as one user, it becomes **much more sparse** than the existing user-product information matrix."
   ],
   "metadata": {}
  },
  {
   "cell_type": "markdown",
   "source": [
    "# 2. Data Preprocessing\n",
    "We can start from basic analysis by item, session length, session time, cleaning, etc. are carried out.   \n",
    "For this dataset, data is generated by UserID, not by Session, so we need to pay attention to how to interpret it by Session.   \n",
    "- session length\n",
    "- session time\n",
    "- cleaning\n",
    "\n",
    "I need to think about how I can separate UserID to a separate Session blocks.   \n",
    "also, I need to convert the `Time` column type from `UTC time` to `datetime`."
   ],
   "metadata": {}
  },
  {
   "cell_type": "code",
   "execution_count": 15,
   "source": [
    "data['Time'] = pd.to_datetime(data['Time'], unit='s')"
   ],
   "outputs": [],
   "metadata": {}
  },
  {
   "cell_type": "markdown",
   "source": [
    "## Session Time\n",
    "We also need to consider the session time.   \n",
    "For example, lets say A user wants to buy an iPhone. \n",
    "- There will be a lot of people looking to buy the iPhone SE2 in May 2020.\n",
    "- However, in the next few months, iPhone 12 purchases will increase dramatically.\n",
    "- The same thing happens for movies and TV shows. Users' consumption patterns change quickly.\n",
    "- For this reason, it is important to learn recent consumption trends when building a recommendation system. Now let's look at the time the data occurred.\n",
    "- Also it's important to consider time zone (AM, PM, Dawn), access time, access day, season, last access time, past time in the shopping cart, etc."
   ],
   "metadata": {}
  },
  {
   "cell_type": "code",
   "execution_count": 16,
   "source": [
    "oldest, latest = data['Time'].min(), data['Time'].max()\r\n",
    "print(oldest) \r\n",
    "print(latest)"
   ],
   "outputs": [
    {
     "output_type": "stream",
     "name": "stdout",
     "text": [
      "2000-04-25 23:05:32\n",
      "2003-02-28 17:49:50\n"
     ]
    }
   ],
   "metadata": {}
  },
  {
   "cell_type": "markdown",
   "source": [
    "\r\n",
    "\r\n",
    "Okay, so there is total of 3 years worth data. I will try test a model with 1 year worth data first, then use 3 years data later.   \r\n",
    "\r\n",
    "1. Use the whole data\r\n",
    "2. Use 1 year data\r\n",
    "3. Use 2 years data"
   ],
   "metadata": {}
  },
  {
   "cell_type": "markdown",
   "source": [
    "## Data Cleansing"
   ],
   "metadata": {}
  },
  {
   "cell_type": "code",
   "execution_count": 17,
   "source": [
    "def cleanse_recursive(data: pd.DataFrame, shortest, least_click) -> pd.DataFrame:\r\n",
    "    while True:\r\n",
    "        before_len = len(data)\r\n",
    "        data = cleanse_short_user(data, shortest)\r\n",
    "        data = cleanse_unpopular_item(data, least_click)\r\n",
    "        after_len = len(data)\r\n",
    "        if before_len == after_len:\r\n",
    "            break\r\n",
    "    return data\r\n",
    "\r\n",
    "\r\n",
    "def cleanse_short_user(data: pd.DataFrame, shortest):\r\n",
    "    user_len = data.groupby('UserId').size()\r\n",
    "    user_use = user_len[user_len >= shortest].index\r\n",
    "    data = data[data['UserId'].isin(user_use)]\r\n",
    "    return data\r\n",
    "\r\n",
    "\r\n",
    "def cleanse_unpopular_item(data: pd.DataFrame, least_click):\r\n",
    "    item_popular = data.groupby('ItemId').size()\r\n",
    "    item_use = item_popular[item_popular >= least_click].index\r\n",
    "    data = data[data['ItemId'].isin(item_use)]\r\n",
    "    return data"
   ],
   "outputs": [],
   "metadata": {}
  },
  {
   "cell_type": "code",
   "execution_count": 18,
   "source": [
    "data = cleanse_recursive(data, shortest=2, least_click=5)\r\n",
    "data.shape\r\n",
    "data"
   ],
   "outputs": [
    {
     "output_type": "execute_result",
     "data": {
      "text/plain": [
       "         UserId  ItemId  Rating                Time\n",
       "31            1    3186       4 2000-12-31 22:00:19\n",
       "22            1    1270       5 2000-12-31 22:00:55\n",
       "27            1    1721       4 2000-12-31 22:00:55\n",
       "37            1    1022       5 2000-12-31 22:00:55\n",
       "24            1    2340       3 2000-12-31 22:01:43\n",
       "...         ...     ...     ...                 ...\n",
       "1000019    6040    2917       4 2001-08-10 14:40:29\n",
       "999988     6040    1921       4 2001-08-10 14:41:04\n",
       "1000172    6040    1784       3 2001-08-10 14:41:04\n",
       "1000167    6040     161       3 2001-08-10 14:41:26\n",
       "1000042    6040    1221       4 2001-08-20 13:44:15\n",
       "\n",
       "[999611 rows x 4 columns]"
      ],
      "text/html": [
       "<div>\n",
       "<style scoped>\n",
       "    .dataframe tbody tr th:only-of-type {\n",
       "        vertical-align: middle;\n",
       "    }\n",
       "\n",
       "    .dataframe tbody tr th {\n",
       "        vertical-align: top;\n",
       "    }\n",
       "\n",
       "    .dataframe thead th {\n",
       "        text-align: right;\n",
       "    }\n",
       "</style>\n",
       "<table border=\"1\" class=\"dataframe\">\n",
       "  <thead>\n",
       "    <tr style=\"text-align: right;\">\n",
       "      <th></th>\n",
       "      <th>UserId</th>\n",
       "      <th>ItemId</th>\n",
       "      <th>Rating</th>\n",
       "      <th>Time</th>\n",
       "    </tr>\n",
       "  </thead>\n",
       "  <tbody>\n",
       "    <tr>\n",
       "      <th>31</th>\n",
       "      <td>1</td>\n",
       "      <td>3186</td>\n",
       "      <td>4</td>\n",
       "      <td>2000-12-31 22:00:19</td>\n",
       "    </tr>\n",
       "    <tr>\n",
       "      <th>22</th>\n",
       "      <td>1</td>\n",
       "      <td>1270</td>\n",
       "      <td>5</td>\n",
       "      <td>2000-12-31 22:00:55</td>\n",
       "    </tr>\n",
       "    <tr>\n",
       "      <th>27</th>\n",
       "      <td>1</td>\n",
       "      <td>1721</td>\n",
       "      <td>4</td>\n",
       "      <td>2000-12-31 22:00:55</td>\n",
       "    </tr>\n",
       "    <tr>\n",
       "      <th>37</th>\n",
       "      <td>1</td>\n",
       "      <td>1022</td>\n",
       "      <td>5</td>\n",
       "      <td>2000-12-31 22:00:55</td>\n",
       "    </tr>\n",
       "    <tr>\n",
       "      <th>24</th>\n",
       "      <td>1</td>\n",
       "      <td>2340</td>\n",
       "      <td>3</td>\n",
       "      <td>2000-12-31 22:01:43</td>\n",
       "    </tr>\n",
       "    <tr>\n",
       "      <th>...</th>\n",
       "      <td>...</td>\n",
       "      <td>...</td>\n",
       "      <td>...</td>\n",
       "      <td>...</td>\n",
       "    </tr>\n",
       "    <tr>\n",
       "      <th>1000019</th>\n",
       "      <td>6040</td>\n",
       "      <td>2917</td>\n",
       "      <td>4</td>\n",
       "      <td>2001-08-10 14:40:29</td>\n",
       "    </tr>\n",
       "    <tr>\n",
       "      <th>999988</th>\n",
       "      <td>6040</td>\n",
       "      <td>1921</td>\n",
       "      <td>4</td>\n",
       "      <td>2001-08-10 14:41:04</td>\n",
       "    </tr>\n",
       "    <tr>\n",
       "      <th>1000172</th>\n",
       "      <td>6040</td>\n",
       "      <td>1784</td>\n",
       "      <td>3</td>\n",
       "      <td>2001-08-10 14:41:04</td>\n",
       "    </tr>\n",
       "    <tr>\n",
       "      <th>1000167</th>\n",
       "      <td>6040</td>\n",
       "      <td>161</td>\n",
       "      <td>3</td>\n",
       "      <td>2001-08-10 14:41:26</td>\n",
       "    </tr>\n",
       "    <tr>\n",
       "      <th>1000042</th>\n",
       "      <td>6040</td>\n",
       "      <td>1221</td>\n",
       "      <td>4</td>\n",
       "      <td>2001-08-20 13:44:15</td>\n",
       "    </tr>\n",
       "  </tbody>\n",
       "</table>\n",
       "<p>999611 rows × 4 columns</p>\n",
       "</div>"
      ]
     },
     "metadata": {},
     "execution_count": 18
    }
   ],
   "metadata": {}
  },
  {
   "cell_type": "markdown",
   "source": [
    "# 3. Train / Valid / Test Data Split"
   ],
   "metadata": {}
  },
  {
   "cell_type": "code",
   "execution_count": 19,
   "source": [
    "def split_by_date(data: pd.DataFrame, n_days: int):\r\n",
    "    final_time = data['Time'].max()\r\n",
    "    user_last_time = data.groupby('UserId')['Time'].max().sort_values()\r\n",
    "    user_in_train = data[data['Time'] < final_time - dt.timedelta(n_days)]\r\n",
    "    user_in_test = data[data['Time'] >= final_time - dt.timedelta(n_days)]\r\n",
    "    \r\n",
    "    before_date = user_in_train\r\n",
    "    after_date = user_in_test\r\n",
    "    return before_date, after_date"
   ],
   "outputs": [],
   "metadata": {}
  },
  {
   "cell_type": "code",
   "execution_count": 20,
   "source": [
    "tr, test = split_by_date(data, n_days=150)\r\n",
    "tr, val = split_by_date(tr, n_days=150)"
   ],
   "outputs": [],
   "metadata": {}
  },
  {
   "cell_type": "code",
   "execution_count": 21,
   "source": [
    "def stats_info(data: pd.DataFrame, status: str):\r\n",
    "    print(f'* {status} Set Stats Info\\n'\r\n",
    "          f'\\t Events: {len(data)}\\n'\r\n",
    "          f'\\t Sessions: {data[\"UserId\"].nunique()}\\n'\r\n",
    "          f'\\t Items: {data[\"ItemId\"].nunique()}\\n'\r\n",
    "          f'\\t First Time : {data[\"Time\"].min()}\\n'\r\n",
    "          f'\\t Last Time : {data[\"Time\"].max()}\\n')"
   ],
   "outputs": [],
   "metadata": {}
  },
  {
   "cell_type": "code",
   "execution_count": 22,
   "source": [
    "tr, test = split_by_date(data, n_days=100)\r\n",
    "tr, val = split_by_date(tr, n_days=100)"
   ],
   "outputs": [],
   "metadata": {}
  },
  {
   "cell_type": "code",
   "execution_count": 23,
   "source": [
    "stats_info(tr, 'train')\r\n",
    "stats_info(val, 'valid')\r\n",
    "stats_info(test, 'test')"
   ],
   "outputs": [
    {
     "output_type": "stream",
     "name": "stdout",
     "text": [
      "* train Set Stats Info\n",
      "\t Events: 989344\n",
      "\t Sessions: 6039\n",
      "\t Items: 3416\n",
      "\t First Time : 2000-04-25 23:05:32\n",
      "\t Last Time : 2002-08-12 13:53:29\n",
      "\n",
      "* valid Set Stats Info\n",
      "\t Events: 5200\n",
      "\t Sessions: 245\n",
      "\t Items: 1940\n",
      "\t First Time : 2002-08-13 00:40:06\n",
      "\t Last Time : 2002-11-20 16:38:40\n",
      "\n",
      "* test Set Stats Info\n",
      "\t Events: 5067\n",
      "\t Sessions: 254\n",
      "\t Items: 1887\n",
      "\t First Time : 2002-11-20 20:30:02\n",
      "\t Last Time : 2003-02-28 17:49:50\n",
      "\n"
     ]
    }
   ],
   "metadata": {}
  },
  {
   "cell_type": "code",
   "execution_count": 24,
   "source": [
    "id2idx = {item_id : index for index, item_id in enumerate(tr['ItemId'].unique())}\r\n",
    "\r\n",
    "def indexing(df, id2idx):\r\n",
    "    df['item_idx'] = df['ItemId'].map(lambda x: id2idx.get(x, -1))  \r\n",
    "    return df\r\n",
    "\r\n",
    "tr = indexing(tr, id2idx)\r\n",
    "val = indexing(val, id2idx)\r\n",
    "test = indexing(test, id2idx)"
   ],
   "outputs": [],
   "metadata": {}
  },
  {
   "cell_type": "markdown",
   "source": [
    "Save model to .pkl file"
   ],
   "metadata": {}
  },
  {
   "cell_type": "code",
   "execution_count": 25,
   "source": [
    "save_path = data_path / 'processed'\r\n",
    "save_path.mkdir(parents=True, exist_ok=True)\r\n",
    "\r\n",
    "tr.to_pickle(save_path / 'train.pkl')\r\n",
    "val.to_pickle(save_path / 'valid.pkl')\r\n",
    "test.to_pickle(save_path / 'test.pkl')"
   ],
   "outputs": [],
   "metadata": {}
  },
  {
   "cell_type": "markdown",
   "source": [
    "# 4. Data Pipeline"
   ],
   "metadata": {}
  },
  {
   "cell_type": "markdown",
   "source": [
    "Refer to the `SESSION-BASED RECOMMENDATIONS WITH RECURRENT NEURAL NETWORKS`, we can implement `Session-Parallel Mini-Batch`.\n",
    "\n",
    "## 1. SessionDataset"
   ],
   "metadata": {}
  },
  {
   "cell_type": "code",
   "execution_count": 26,
   "source": [
    "class SessionDataset:\r\n",
    "    \"\"\"Credit to yhs-968/pyGRU4REC.\"\"\"\r\n",
    "\r\n",
    "    def __init__(self, data):\r\n",
    "        self.df = data\r\n",
    "        self.click_offsets = self.get_click_offsets()\r\n",
    "        self.session_idx = np.arange(self.df['UserId'].nunique())  # indexing to SessionId\r\n",
    "\r\n",
    "    def get_click_offsets(self):\r\n",
    "        \"\"\"\r\n",
    "        Return the indexes of the first click of each session IDs,\r\n",
    "        \"\"\"\r\n",
    "        offsets = np.zeros(self.df['UserId'].nunique() + 1, dtype=np.int32)\r\n",
    "        offsets[1:] = self.df.groupby('UserId').size().cumsum()\r\n",
    "        return offsets"
   ],
   "outputs": [],
   "metadata": {}
  },
  {
   "cell_type": "markdown",
   "source": [
    "The click_offsets variable contains the index at which each session started.   \n",
    "The session_idx variable is an np.array indexing each session."
   ],
   "metadata": {}
  },
  {
   "cell_type": "code",
   "execution_count": 27,
   "source": [
    "# The click_offsets variable contains the index at which each session started.\r\n",
    "# The session_idx variable is an np.array indexing each session.\r\n",
    "tr_dataset = SessionDataset(tr)\r\n",
    "tr_dataset.df.head(10)"
   ],
   "outputs": [
    {
     "output_type": "execute_result",
     "data": {
      "text/plain": [
       "    UserId  ItemId  Rating                Time  item_idx\n",
       "31       1    3186       4 2000-12-31 22:00:19         0\n",
       "22       1    1270       5 2000-12-31 22:00:55         1\n",
       "27       1    1721       4 2000-12-31 22:00:55         2\n",
       "37       1    1022       5 2000-12-31 22:00:55         3\n",
       "24       1    2340       3 2000-12-31 22:01:43         4\n",
       "36       1    1836       5 2000-12-31 22:02:52         5\n",
       "3        1    3408       4 2000-12-31 22:04:35         6\n",
       "7        1    2804       5 2000-12-31 22:11:59         7\n",
       "47       1    1207       4 2000-12-31 22:11:59         8\n",
       "0        1    1193       5 2000-12-31 22:12:40         9"
      ],
      "text/html": [
       "<div>\n",
       "<style scoped>\n",
       "    .dataframe tbody tr th:only-of-type {\n",
       "        vertical-align: middle;\n",
       "    }\n",
       "\n",
       "    .dataframe tbody tr th {\n",
       "        vertical-align: top;\n",
       "    }\n",
       "\n",
       "    .dataframe thead th {\n",
       "        text-align: right;\n",
       "    }\n",
       "</style>\n",
       "<table border=\"1\" class=\"dataframe\">\n",
       "  <thead>\n",
       "    <tr style=\"text-align: right;\">\n",
       "      <th></th>\n",
       "      <th>UserId</th>\n",
       "      <th>ItemId</th>\n",
       "      <th>Rating</th>\n",
       "      <th>Time</th>\n",
       "      <th>item_idx</th>\n",
       "    </tr>\n",
       "  </thead>\n",
       "  <tbody>\n",
       "    <tr>\n",
       "      <th>31</th>\n",
       "      <td>1</td>\n",
       "      <td>3186</td>\n",
       "      <td>4</td>\n",
       "      <td>2000-12-31 22:00:19</td>\n",
       "      <td>0</td>\n",
       "    </tr>\n",
       "    <tr>\n",
       "      <th>22</th>\n",
       "      <td>1</td>\n",
       "      <td>1270</td>\n",
       "      <td>5</td>\n",
       "      <td>2000-12-31 22:00:55</td>\n",
       "      <td>1</td>\n",
       "    </tr>\n",
       "    <tr>\n",
       "      <th>27</th>\n",
       "      <td>1</td>\n",
       "      <td>1721</td>\n",
       "      <td>4</td>\n",
       "      <td>2000-12-31 22:00:55</td>\n",
       "      <td>2</td>\n",
       "    </tr>\n",
       "    <tr>\n",
       "      <th>37</th>\n",
       "      <td>1</td>\n",
       "      <td>1022</td>\n",
       "      <td>5</td>\n",
       "      <td>2000-12-31 22:00:55</td>\n",
       "      <td>3</td>\n",
       "    </tr>\n",
       "    <tr>\n",
       "      <th>24</th>\n",
       "      <td>1</td>\n",
       "      <td>2340</td>\n",
       "      <td>3</td>\n",
       "      <td>2000-12-31 22:01:43</td>\n",
       "      <td>4</td>\n",
       "    </tr>\n",
       "    <tr>\n",
       "      <th>36</th>\n",
       "      <td>1</td>\n",
       "      <td>1836</td>\n",
       "      <td>5</td>\n",
       "      <td>2000-12-31 22:02:52</td>\n",
       "      <td>5</td>\n",
       "    </tr>\n",
       "    <tr>\n",
       "      <th>3</th>\n",
       "      <td>1</td>\n",
       "      <td>3408</td>\n",
       "      <td>4</td>\n",
       "      <td>2000-12-31 22:04:35</td>\n",
       "      <td>6</td>\n",
       "    </tr>\n",
       "    <tr>\n",
       "      <th>7</th>\n",
       "      <td>1</td>\n",
       "      <td>2804</td>\n",
       "      <td>5</td>\n",
       "      <td>2000-12-31 22:11:59</td>\n",
       "      <td>7</td>\n",
       "    </tr>\n",
       "    <tr>\n",
       "      <th>47</th>\n",
       "      <td>1</td>\n",
       "      <td>1207</td>\n",
       "      <td>4</td>\n",
       "      <td>2000-12-31 22:11:59</td>\n",
       "      <td>8</td>\n",
       "    </tr>\n",
       "    <tr>\n",
       "      <th>0</th>\n",
       "      <td>1</td>\n",
       "      <td>1193</td>\n",
       "      <td>5</td>\n",
       "      <td>2000-12-31 22:12:40</td>\n",
       "      <td>9</td>\n",
       "    </tr>\n",
       "  </tbody>\n",
       "</table>\n",
       "</div>"
      ]
     },
     "metadata": {},
     "execution_count": 27
    }
   ],
   "metadata": {}
  },
  {
   "cell_type": "code",
   "execution_count": 28,
   "source": [
    "tr_dataset.click_offsets"
   ],
   "outputs": [
    {
     "output_type": "execute_result",
     "data": {
      "text/plain": [
       "array([     0,     53,    182, ..., 988880, 989003, 989344], dtype=int32)"
      ]
     },
     "metadata": {},
     "execution_count": 28
    }
   ],
   "metadata": {}
  },
  {
   "cell_type": "code",
   "execution_count": 29,
   "source": [
    "tr_dataset.session_idx"
   ],
   "outputs": [
    {
     "output_type": "execute_result",
     "data": {
      "text/plain": [
       "array([   0,    1,    2, ..., 6036, 6037, 6038])"
      ]
     },
     "metadata": {},
     "execution_count": 29
    }
   ],
   "metadata": {}
  },
  {
   "cell_type": "markdown",
   "source": [
    "## 2. SessionDataLoader\n",
    "\n",
    "Let's create a class that takes a SessionDataset object and creates a **Session-Parallel mini-batch.**\n",
    "The `__iter__` method yields model inputs, labels, and locations where the session ends.\n",
    "The mask will be used later to initialize the **RNN Cell State**."
   ],
   "metadata": {}
  },
  {
   "cell_type": "code",
   "execution_count": 30,
   "source": [
    "class SessionDataLoader:\r\n",
    "    \"\"\"Credit to yhs-968/pyGRU4REC.\"\"\"\r\n",
    "\r\n",
    "    def __init__(self, dataset: SessionDataset, batch_size=100):\r\n",
    "        self.dataset = dataset\r\n",
    "        self.batch_size = batch_size\r\n",
    "\r\n",
    "    def __iter__(self):\r\n",
    "        \"\"\" Returns the iterator for producing session-parallel training mini-batches.\r\n",
    "        Yields:\r\n",
    "            input (B,):  Item indices that will be encoded as one-hot vectors later.\r\n",
    "            target (B,): a Variable that stores the target item indices\r\n",
    "            masks: Numpy array indicating the positions of the sessions to be terminated\r\n",
    "        \"\"\"\r\n",
    "\r\n",
    "        start, end, mask, last_session, finished = self.initialize()  # initialize 메소드에서 확인해주세요.\r\n",
    "        \"\"\"\r\n",
    "        start : Index Where Session Start\r\n",
    "        end : Index Where Session End\r\n",
    "        mask : indicator for the sessions to be terminated\r\n",
    "        \"\"\"\r\n",
    "\r\n",
    "        while not finished:\r\n",
    "            min_len = (end - start).min() - 1  # Shortest Length Among Sessions\r\n",
    "            for i in range(min_len):\r\n",
    "                # Build inputs & targets\r\n",
    "                inp = self.dataset.df['item_idx'].values[start + i]\r\n",
    "                target = self.dataset.df['item_idx'].values[start + i + 1]\r\n",
    "                yield inp, target, mask\r\n",
    "\r\n",
    "            start, end, mask, last_session, finished = self.update_status(start, end, min_len, last_session, finished)\r\n",
    "\r\n",
    "    def initialize(self):\r\n",
    "        first_iters = np.arange(self.batch_size)    # 첫 배치에 사용할 세션 Index를 가져옵니다.\r\n",
    "        last_session = self.batch_size - 1    # 마지막으로 다루고 있는 세션 Index를 저장해둡니다.\r\n",
    "        start = self.dataset.click_offsets[self.dataset.session_idx[first_iters]]       # data 상에서 session이 시작된 위치를 가져옵니다.\r\n",
    "        end = self.dataset.click_offsets[self.dataset.session_idx[first_iters] + 1]  # session이 끝난 위치 바로 다음 위치를 가져옵니다.\r\n",
    "        mask = np.array([])   # session의 모든 아이템을 다 돌은 경우 mask에 추가해줄 것입니다.\r\n",
    "        finished = False         # data를 전부 돌았는지 기록하기 위한 변수입니다.\r\n",
    "        return start, end, mask, last_session, finished\r\n",
    "\r\n",
    "    def update_status(self, start: np.ndarray, end: np.ndarray, min_len: int, last_session: int, finished: bool):  \r\n",
    "        # 다음 배치 데이터를 생성하기 위해 상태를 update합니다.\r\n",
    "        \r\n",
    "        start += min_len   # __iter__에서 min_len 만큼 for문을 돌았으므로 start를 min_len 만큼 더해줍니다.\r\n",
    "        mask = np.arange(self.batch_size)[(end - start) == 1]  \r\n",
    "        # end는 다음 세션이 시작되는 위치인데 start와 한 칸 차이난다는 것은 session이 끝났다는 뜻입니다. mask에 기록해줍니다.\r\n",
    "\r\n",
    "        for i, idx in enumerate(mask, start=1):  # mask에 추가된 세션 개수만큼 새로운 세션을 돌것입니다.\r\n",
    "            new_session = last_session + i  \r\n",
    "            if new_session > self.dataset.session_idx[-1]:  # 만약 새로운 세션이 마지막 세션 index보다 크다면 모든 학습데이터를 돈 것입니다.\r\n",
    "                finished = True\r\n",
    "                break\r\n",
    "            # update the next starting/ending point\r\n",
    "            start[idx] = self.dataset.click_offsets[self.dataset.session_idx[new_session]]     # 종료된 세션 대신 새로운 세션의 시작점을 기록합니다.\r\n",
    "            end[idx] = self.dataset.click_offsets[self.dataset.session_idx[new_session] + 1]\r\n",
    "\r\n",
    "        last_session += len(mask)  # 마지막 세션의 위치를 기록해둡니다.\r\n",
    "        return start, end, mask, last_session, finished"
   ],
   "outputs": [],
   "metadata": {}
  },
  {
   "cell_type": "code",
   "execution_count": 31,
   "source": [
    "tr_data_loader = SessionDataLoader(tr_dataset, batch_size=4)\r\n",
    "tr_dataset.df.head(15)"
   ],
   "outputs": [
    {
     "output_type": "execute_result",
     "data": {
      "text/plain": [
       "    UserId  ItemId  Rating                Time  item_idx\n",
       "31       1    3186       4 2000-12-31 22:00:19         0\n",
       "22       1    1270       5 2000-12-31 22:00:55         1\n",
       "27       1    1721       4 2000-12-31 22:00:55         2\n",
       "37       1    1022       5 2000-12-31 22:00:55         3\n",
       "24       1    2340       3 2000-12-31 22:01:43         4\n",
       "36       1    1836       5 2000-12-31 22:02:52         5\n",
       "3        1    3408       4 2000-12-31 22:04:35         6\n",
       "7        1    2804       5 2000-12-31 22:11:59         7\n",
       "47       1    1207       4 2000-12-31 22:11:59         8\n",
       "0        1    1193       5 2000-12-31 22:12:40         9\n",
       "21       1     720       3 2000-12-31 22:12:40        10\n",
       "44       1     260       4 2000-12-31 22:12:40        11\n",
       "9        1     919       4 2000-12-31 22:22:48        12\n",
       "51       1     608       4 2000-12-31 22:23:18        13\n",
       "43       1    2692       4 2000-12-31 22:26:10        14"
      ],
      "text/html": [
       "<div>\n",
       "<style scoped>\n",
       "    .dataframe tbody tr th:only-of-type {\n",
       "        vertical-align: middle;\n",
       "    }\n",
       "\n",
       "    .dataframe tbody tr th {\n",
       "        vertical-align: top;\n",
       "    }\n",
       "\n",
       "    .dataframe thead th {\n",
       "        text-align: right;\n",
       "    }\n",
       "</style>\n",
       "<table border=\"1\" class=\"dataframe\">\n",
       "  <thead>\n",
       "    <tr style=\"text-align: right;\">\n",
       "      <th></th>\n",
       "      <th>UserId</th>\n",
       "      <th>ItemId</th>\n",
       "      <th>Rating</th>\n",
       "      <th>Time</th>\n",
       "      <th>item_idx</th>\n",
       "    </tr>\n",
       "  </thead>\n",
       "  <tbody>\n",
       "    <tr>\n",
       "      <th>31</th>\n",
       "      <td>1</td>\n",
       "      <td>3186</td>\n",
       "      <td>4</td>\n",
       "      <td>2000-12-31 22:00:19</td>\n",
       "      <td>0</td>\n",
       "    </tr>\n",
       "    <tr>\n",
       "      <th>22</th>\n",
       "      <td>1</td>\n",
       "      <td>1270</td>\n",
       "      <td>5</td>\n",
       "      <td>2000-12-31 22:00:55</td>\n",
       "      <td>1</td>\n",
       "    </tr>\n",
       "    <tr>\n",
       "      <th>27</th>\n",
       "      <td>1</td>\n",
       "      <td>1721</td>\n",
       "      <td>4</td>\n",
       "      <td>2000-12-31 22:00:55</td>\n",
       "      <td>2</td>\n",
       "    </tr>\n",
       "    <tr>\n",
       "      <th>37</th>\n",
       "      <td>1</td>\n",
       "      <td>1022</td>\n",
       "      <td>5</td>\n",
       "      <td>2000-12-31 22:00:55</td>\n",
       "      <td>3</td>\n",
       "    </tr>\n",
       "    <tr>\n",
       "      <th>24</th>\n",
       "      <td>1</td>\n",
       "      <td>2340</td>\n",
       "      <td>3</td>\n",
       "      <td>2000-12-31 22:01:43</td>\n",
       "      <td>4</td>\n",
       "    </tr>\n",
       "    <tr>\n",
       "      <th>36</th>\n",
       "      <td>1</td>\n",
       "      <td>1836</td>\n",
       "      <td>5</td>\n",
       "      <td>2000-12-31 22:02:52</td>\n",
       "      <td>5</td>\n",
       "    </tr>\n",
       "    <tr>\n",
       "      <th>3</th>\n",
       "      <td>1</td>\n",
       "      <td>3408</td>\n",
       "      <td>4</td>\n",
       "      <td>2000-12-31 22:04:35</td>\n",
       "      <td>6</td>\n",
       "    </tr>\n",
       "    <tr>\n",
       "      <th>7</th>\n",
       "      <td>1</td>\n",
       "      <td>2804</td>\n",
       "      <td>5</td>\n",
       "      <td>2000-12-31 22:11:59</td>\n",
       "      <td>7</td>\n",
       "    </tr>\n",
       "    <tr>\n",
       "      <th>47</th>\n",
       "      <td>1</td>\n",
       "      <td>1207</td>\n",
       "      <td>4</td>\n",
       "      <td>2000-12-31 22:11:59</td>\n",
       "      <td>8</td>\n",
       "    </tr>\n",
       "    <tr>\n",
       "      <th>0</th>\n",
       "      <td>1</td>\n",
       "      <td>1193</td>\n",
       "      <td>5</td>\n",
       "      <td>2000-12-31 22:12:40</td>\n",
       "      <td>9</td>\n",
       "    </tr>\n",
       "    <tr>\n",
       "      <th>21</th>\n",
       "      <td>1</td>\n",
       "      <td>720</td>\n",
       "      <td>3</td>\n",
       "      <td>2000-12-31 22:12:40</td>\n",
       "      <td>10</td>\n",
       "    </tr>\n",
       "    <tr>\n",
       "      <th>44</th>\n",
       "      <td>1</td>\n",
       "      <td>260</td>\n",
       "      <td>4</td>\n",
       "      <td>2000-12-31 22:12:40</td>\n",
       "      <td>11</td>\n",
       "    </tr>\n",
       "    <tr>\n",
       "      <th>9</th>\n",
       "      <td>1</td>\n",
       "      <td>919</td>\n",
       "      <td>4</td>\n",
       "      <td>2000-12-31 22:22:48</td>\n",
       "      <td>12</td>\n",
       "    </tr>\n",
       "    <tr>\n",
       "      <th>51</th>\n",
       "      <td>1</td>\n",
       "      <td>608</td>\n",
       "      <td>4</td>\n",
       "      <td>2000-12-31 22:23:18</td>\n",
       "      <td>13</td>\n",
       "    </tr>\n",
       "    <tr>\n",
       "      <th>43</th>\n",
       "      <td>1</td>\n",
       "      <td>2692</td>\n",
       "      <td>4</td>\n",
       "      <td>2000-12-31 22:26:10</td>\n",
       "      <td>14</td>\n",
       "    </tr>\n",
       "  </tbody>\n",
       "</table>\n",
       "</div>"
      ]
     },
     "metadata": {},
     "execution_count": 31
    }
   ],
   "metadata": {}
  },
  {
   "cell_type": "code",
   "execution_count": 32,
   "source": [
    "iter_ex = iter(tr_data_loader)"
   ],
   "outputs": [],
   "metadata": {}
  },
  {
   "cell_type": "code",
   "execution_count": 33,
   "source": [
    "inputs, labels, mask =  next(iter_ex)\r\n",
    "print(f'Model Input Item Idx are : {inputs}')\r\n",
    "print(f'Label Item Idx are : {\"\":5} {labels}')\r\n",
    "print(f'Previous Masked Input Idx are {mask}')"
   ],
   "outputs": [
    {
     "output_type": "stream",
     "name": "stdout",
     "text": [
      "Model Input Item Idx are : [ 0 53 65 54]\n",
      "Label Item Idx are :       [ 1 54 62 24]\n",
      "Previous Masked Input Idx are []\n"
     ]
    }
   ],
   "metadata": {}
  },
  {
   "cell_type": "markdown",
   "source": [
    "# 5. Model Configuration\n",
    "## 1. Evaluation Metric\n",
    "\n",
    "In the Session-Based Recommendation Task, when the model presents `k` items, it is recommended that there are at most `n` items that the *user clicks/purchased*.\n",
    "- For this reason, we use the `recall@k` index, which extends the concept of recall, and the `Mean Average Precision@k` index, which extends the concept of precision.\n",
    "- It is also important how many times you hit the recommendation. If you do a Google search and the results you want are not found on page 1 and appear on page 2, then user response will be greatly reduced.\n",
    "- Therefore, we also use indicators that are order-sensitive, such as MRR and NDCG.\n",
    "\n",
    "For this project, we will use `MRR` and `Recall@k`. `MRR` is the reciprocal value of the order in which the correct item came out.\n",
    "Therefore, if the correct answer item appears in the front of the recommendation result, the index will be higher, and if it comes later or not, the index will be lower.\n",
    "\n",
    "Reference for `NDCG`, `MRR`, `MAP`:  MRR vs MAP vs NDCG: Rank-Aware Evaluation Metrics And When To Use Them https://medium.com/swlh/rank-aware-recsys-evaluation-metrics-5191bba16832"
   ],
   "metadata": {}
  },
  {
   "cell_type": "code",
   "execution_count": 34,
   "source": [
    "def mrr_k(pred, truth: int, k: int):\r\n",
    "    indexing = np.where(pred[:k] == truth)[0]\r\n",
    "    if len(indexing) > 0:\r\n",
    "        return 1 / (indexing[0] + 1)\r\n",
    "    else:\r\n",
    "        return 0\r\n",
    "\r\n",
    "\r\n",
    "def recall_k(pred, truth: int, k: int) -> int:\r\n",
    "    answer = truth in pred[:k]\r\n",
    "    return int(answer)"
   ],
   "outputs": [],
   "metadata": {}
  },
  {
   "cell_type": "code",
   "execution_count": 35,
   "source": [
    "def create_model(args):\r\n",
    "    inputs = Input(batch_shape=(args.batch_size, 1, args.num_items))\r\n",
    "    gru, _ = GRU(args.hsz, stateful=True, return_state=True, name='GRU')(inputs)\r\n",
    "    dropout = Dropout(args.drop_rate)(gru)\r\n",
    "    predictions = Dense(args.num_items, activation='softmax')(dropout)\r\n",
    "    model = Model(inputs=inputs, outputs=[predictions])\r\n",
    "    model.compile(loss=categorical_crossentropy, optimizer=Adam(args.lr), metrics=['accuracy'])\r\n",
    "    model.summary()\r\n",
    "    return model"
   ],
   "outputs": [],
   "metadata": {}
  },
  {
   "cell_type": "code",
   "execution_count": 36,
   "source": [
    "import tensorflow as tf\r\n",
    "from tensorflow.keras.layers import Input, Dense, Dropout, GRU\r\n",
    "from tensorflow.keras.losses import categorical_crossentropy\r\n",
    "from tensorflow.keras.models import Model\r\n",
    "from tensorflow.keras.optimizers import Adam\r\n",
    "from tensorflow.keras.utils import to_categorical\r\n",
    "from tqdm import tqdm\r\n",
    "\r\n",
    "class Args:\r\n",
    "    def __init__(self, tr, val, test, batch_size, hsz, drop_rate, lr, epochs, k):\r\n",
    "        self.tr = tr\r\n",
    "        self.val = val\r\n",
    "        self.test = test\r\n",
    "        self.num_items = tr['ItemId'].nunique()\r\n",
    "        self.num_sessions = tr['UserId'].nunique()\r\n",
    "        self.batch_size = batch_size\r\n",
    "        self.hsz = hsz\r\n",
    "        self.drop_rate = drop_rate\r\n",
    "        self.lr = lr\r\n",
    "        self.epochs = epochs\r\n",
    "        self.k = k\r\n",
    "\r\n",
    "args = Args(tr, val, test, batch_size=128, hsz=50, drop_rate=0.1, lr=0.01, epochs=3, k=20)"
   ],
   "outputs": [],
   "metadata": {}
  },
  {
   "cell_type": "code",
   "execution_count": 37,
   "source": [
    "model = create_model(args)"
   ],
   "outputs": [
    {
     "output_type": "stream",
     "name": "stdout",
     "text": [
      "Model: \"model\"\n",
      "_________________________________________________________________\n",
      "Layer (type)                 Output Shape              Param #   \n",
      "=================================================================\n",
      "input_1 (InputLayer)         [(128, 1, 3416)]          0         \n",
      "_________________________________________________________________\n",
      "GRU (GRU)                    [(128, 50), (128, 50)]    520200    \n",
      "_________________________________________________________________\n",
      "dropout (Dropout)            (128, 50)                 0         \n",
      "_________________________________________________________________\n",
      "dense (Dense)                (128, 3416)               174216    \n",
      "=================================================================\n",
      "Total params: 694,416\n",
      "Trainable params: 694,416\n",
      "Non-trainable params: 0\n",
      "_________________________________________________________________\n"
     ]
    }
   ],
   "metadata": {}
  },
  {
   "cell_type": "markdown",
   "source": [
    "# 6. Model Train"
   ],
   "metadata": {}
  },
  {
   "cell_type": "code",
   "execution_count": 38,
   "source": [
    "# train 셋으로 학습하면서 valid 셋으로 검증합니다.\r\n",
    "def train_model(model, args):\r\n",
    "    train_dataset = SessionDataset(args.tr)\r\n",
    "    train_loader = SessionDataLoader(train_dataset, batch_size=args.batch_size)\r\n",
    "\r\n",
    "    for epoch in range(1, args.epochs + 1):\r\n",
    "        total_step = len(args.tr) - args.tr['UserId'].nunique()\r\n",
    "        tr_loader = tqdm(train_loader, total=total_step // args.batch_size, desc='Train', mininterval=1)\r\n",
    "        for feat, target, mask in tr_loader:\r\n",
    "            reset_hidden_states(model, mask)  # 종료된 session은 hidden_state를 초기화합니다. 아래 메서드에서 확인해주세요.\r\n",
    "\r\n",
    "            input_ohe = to_categorical(feat, num_classes=args.num_items)\r\n",
    "            input_ohe = np.expand_dims(input_ohe, axis=1)\r\n",
    "            target_ohe = to_categorical(target, num_classes=args.num_items)\r\n",
    "\r\n",
    "            result = model.train_on_batch(input_ohe, target_ohe)\r\n",
    "            tr_loader.set_postfix(train_loss=result[0], accuracy = result[1])\r\n",
    "\r\n",
    "        val_recall, val_mrr = get_metrics(args.val, model, args, args.k)  # valid set에 대해 검증합니다.\r\n",
    "\r\n",
    "        print(f\"\\t - Recall@{args.k} epoch {epoch}: {val_recall:3f}\")\r\n",
    "        print(f\"\\t - MRR@{args.k}    epoch {epoch}: {val_mrr:3f}\\n\")\r\n",
    "\r\n",
    "\r\n",
    "def reset_hidden_states(model, mask):\r\n",
    "    gru_layer = model.get_layer(name='GRU')  # model에서 gru layer를 가져옵니다.\r\n",
    "    hidden_states = gru_layer.states[0].numpy()  # gru_layer의 parameter를 가져옵니다.\r\n",
    "    for elt in mask:  # mask된 인덱스 즉, 종료된 세션의 인덱스를 돌면서\r\n",
    "        hidden_states[elt, :] = 0  # parameter를 초기화 합니다.\r\n",
    "    gru_layer.reset_states(states=hidden_states)\r\n",
    "\r\n",
    "\r\n",
    "def get_metrics(data, model, args, k: int):  # valid셋과 test셋을 평가하는 코드입니다. \r\n",
    "                                             # train과 거의 같지만 mrr, recall을 구하는 라인이 있습니다.\r\n",
    "    dataset = SessionDataset(data)\r\n",
    "    loader = SessionDataLoader(dataset, batch_size=args.batch_size)\r\n",
    "    recall_list, mrr_list = [], []\r\n",
    "\r\n",
    "    total_step = len(data) - data['UserId'].nunique()\r\n",
    "    for inputs, label, mask in tqdm(loader, total=total_step // args.batch_size, desc='Evaluation', mininterval=1):\r\n",
    "        reset_hidden_states(model, mask)\r\n",
    "        input_ohe = to_categorical(inputs, num_classes=args.num_items)\r\n",
    "        input_ohe = np.expand_dims(input_ohe, axis=1)\r\n",
    "        pred = model.predict(input_ohe, batch_size=args.batch_size)\r\n",
    "#         pred_arg = tf.nn.top_k(pred, k=124, sorted=True)[1]  # softmax 값이 큰 순서대로 sorting 합니다.\r\n",
    "        pred_arg = tf.argsort(pred, direction='DESCENDING')\r\n",
    "    \r\n",
    "        length = len(inputs)\r\n",
    "        recall_list.extend([recall_k(pred_arg[i], label[i], k) for i in range(length)])\r\n",
    "        mrr_list.extend([mrr_k(pred_arg[i], label[i], k) for i in range(length)])\r\n",
    "\r\n",
    "    recall, mrr = np.mean(recall_list), np.mean(mrr_list)\r\n",
    "    return recall, mrr"
   ],
   "outputs": [],
   "metadata": {}
  },
  {
   "cell_type": "code",
   "execution_count": 39,
   "source": [
    "train_model(model, args)"
   ],
   "outputs": [
    {
     "output_type": "stream",
     "name": "stderr",
     "text": [
      "Train:  98%|█████████▊| 7510/7682 [01:58<00:02, 63.51it/s, accuracy=0.0391, train_loss=6.14] \n",
      "Evaluation:  18%|█▊        | 7/38 [00:05<00:25,  1.24it/s]\n",
      "Train:   0%|          | 0/7682 [00:00<?, ?it/s, accuracy=0.0703, train_loss=5.74] "
     ]
    },
    {
     "output_type": "stream",
     "name": "stdout",
     "text": [
      "\t - Recall@20 epoch 1: 0.091518\n",
      "\t - MRR@20    epoch 1: 0.023835\n",
      "\n"
     ]
    },
    {
     "output_type": "stream",
     "name": "stderr",
     "text": [
      "Train:  98%|█████████▊| 7510/7682 [01:56<00:02, 64.27it/s, accuracy=0.0469, train_loss=6.1]  \n",
      "Evaluation:  18%|█▊        | 7/38 [00:05<00:23,  1.30it/s]\n",
      "Train:   0%|          | 0/7682 [00:00<?, ?it/s, accuracy=0.0781, train_loss=5.21] "
     ]
    },
    {
     "output_type": "stream",
     "name": "stdout",
     "text": [
      "\t - Recall@20 epoch 2: 0.098214\n",
      "\t - MRR@20    epoch 2: 0.024509\n",
      "\n"
     ]
    },
    {
     "output_type": "stream",
     "name": "stderr",
     "text": [
      "Train:  98%|█████████▊| 7510/7682 [01:54<00:02, 65.35it/s, accuracy=0.0312, train_loss=6.09] \n",
      "Evaluation:  18%|█▊        | 7/38 [00:05<00:23,  1.30it/s]"
     ]
    },
    {
     "output_type": "stream",
     "name": "stdout",
     "text": [
      "\t - Recall@20 epoch 3: 0.098214\n",
      "\t - MRR@20    epoch 3: 0.023396\n",
      "\n"
     ]
    },
    {
     "output_type": "stream",
     "name": "stderr",
     "text": [
      "\n"
     ]
    }
   ],
   "metadata": {}
  },
  {
   "cell_type": "markdown",
   "source": [
    "On epoch 3, the first model achieved accuracy = 0, which is weird, and\n",
    "- Recall@20 epoch 3: 0.098214\n",
    "- MRR@20    epoch 3: 0.026351"
   ],
   "metadata": {}
  },
  {
   "cell_type": "markdown",
   "source": [
    "Let's try with different `args` set. (higher epoch)"
   ],
   "metadata": {}
  },
  {
   "cell_type": "code",
   "execution_count": 40,
   "source": [
    "args_2 = Args(tr, val, test, batch_size=128, hsz=50, drop_rate=0.1, lr=0.01, epochs=20, k=20)\r\n",
    "model_2 = create_model(args)"
   ],
   "outputs": [
    {
     "output_type": "stream",
     "name": "stdout",
     "text": [
      "Model: \"model_1\"\n",
      "_________________________________________________________________\n",
      "Layer (type)                 Output Shape              Param #   \n",
      "=================================================================\n",
      "input_2 (InputLayer)         [(128, 1, 3416)]          0         \n",
      "_________________________________________________________________\n",
      "GRU (GRU)                    [(128, 50), (128, 50)]    520200    \n",
      "_________________________________________________________________\n",
      "dropout_1 (Dropout)          (128, 50)                 0         \n",
      "_________________________________________________________________\n",
      "dense_1 (Dense)              (128, 3416)               174216    \n",
      "=================================================================\n",
      "Total params: 694,416\n",
      "Trainable params: 694,416\n",
      "Non-trainable params: 0\n",
      "_________________________________________________________________\n"
     ]
    }
   ],
   "metadata": {}
  },
  {
   "cell_type": "code",
   "execution_count": 41,
   "source": [
    "train_model(model_2, args_2)"
   ],
   "outputs": [
    {
     "output_type": "stream",
     "name": "stderr",
     "text": [
      "Train:  98%|█████████▊| 7510/7682 [01:59<00:02, 62.86it/s, accuracy=0.0234, train_loss=6]    \n",
      "Evaluation:  18%|█▊        | 7/38 [00:05<00:25,  1.23it/s]\n",
      "Train:   0%|          | 0/7682 [00:00<?, ?it/s, accuracy=0.0625, train_loss=5.68]"
     ]
    },
    {
     "output_type": "stream",
     "name": "stdout",
     "text": [
      "\t - Recall@20 epoch 1: 0.082589\n",
      "\t - MRR@20    epoch 1: 0.019060\n",
      "\n"
     ]
    },
    {
     "output_type": "stream",
     "name": "stderr",
     "text": [
      "Train:  98%|█████████▊| 7510/7682 [01:59<00:02, 62.87it/s, accuracy=0.0312, train_loss=6.12] \n",
      "Evaluation:  18%|█▊        | 7/38 [00:05<00:23,  1.30it/s]\n",
      "Train:   0%|          | 0/7682 [00:00<?, ?it/s, accuracy=0.0703, train_loss=5.51] "
     ]
    },
    {
     "output_type": "stream",
     "name": "stdout",
     "text": [
      "\t - Recall@20 epoch 2: 0.095982\n",
      "\t - MRR@20    epoch 2: 0.025300\n",
      "\n"
     ]
    },
    {
     "output_type": "stream",
     "name": "stderr",
     "text": [
      "Train:  98%|█████████▊| 7510/7682 [01:59<00:02, 62.90it/s, accuracy=0.0312, train_loss=6.05] \n",
      "Evaluation:  18%|█▊        | 7/38 [00:05<00:23,  1.31it/s]\n",
      "Train:   0%|          | 0/7682 [00:00<?, ?it/s, accuracy=0.109, train_loss=5.35] "
     ]
    },
    {
     "output_type": "stream",
     "name": "stdout",
     "text": [
      "\t - Recall@20 epoch 3: 0.089286\n",
      "\t - MRR@20    epoch 3: 0.023870\n",
      "\n"
     ]
    },
    {
     "output_type": "stream",
     "name": "stderr",
     "text": [
      "Train:  98%|█████████▊| 7510/7682 [01:59<00:02, 62.84it/s, accuracy=0.0469, train_loss=5.98] \n",
      "Evaluation:  18%|█▊        | 7/38 [00:05<00:24,  1.29it/s]\n",
      "Train:   0%|          | 0/7682 [00:00<?, ?it/s, accuracy=0.0703, train_loss=5.3]  "
     ]
    },
    {
     "output_type": "stream",
     "name": "stdout",
     "text": [
      "\t - Recall@20 epoch 4: 0.099330\n",
      "\t - MRR@20    epoch 4: 0.025316\n",
      "\n"
     ]
    },
    {
     "output_type": "stream",
     "name": "stderr",
     "text": [
      "Train:  98%|█████████▊| 7510/7682 [01:57<00:02, 63.70it/s, accuracy=0.0312, train_loss=6]    \n",
      "Evaluation:  18%|█▊        | 7/38 [00:05<00:24,  1.29it/s]\n",
      "Train:   0%|          | 0/7682 [00:00<?, ?it/s, accuracy=0.0859, train_loss=5.25] "
     ]
    },
    {
     "output_type": "stream",
     "name": "stdout",
     "text": [
      "\t - Recall@20 epoch 5: 0.102679\n",
      "\t - MRR@20    epoch 5: 0.025606\n",
      "\n"
     ]
    },
    {
     "output_type": "stream",
     "name": "stderr",
     "text": [
      "Train:  98%|█████████▊| 7510/7682 [01:57<00:02, 64.01it/s, accuracy=0.0312, train_loss=5.97] \n",
      "Evaluation:  18%|█▊        | 7/38 [00:05<00:24,  1.29it/s]\n",
      "Train:   0%|          | 0/7682 [00:00<?, ?it/s, accuracy=0.102, train_loss=5.22]  "
     ]
    },
    {
     "output_type": "stream",
     "name": "stdout",
     "text": [
      "\t - Recall@20 epoch 6: 0.099330\n",
      "\t - MRR@20    epoch 6: 0.023042\n",
      "\n"
     ]
    },
    {
     "output_type": "stream",
     "name": "stderr",
     "text": [
      "Train:  98%|█████████▊| 7510/7682 [01:57<00:02, 64.17it/s, accuracy=0.0469, train_loss=5.96] \n",
      "Evaluation:  18%|█▊        | 7/38 [00:05<00:24,  1.29it/s]\n",
      "Train:   0%|          | 0/7682 [00:00<?, ?it/s, accuracy=0.102, train_loss=5.52]  "
     ]
    },
    {
     "output_type": "stream",
     "name": "stdout",
     "text": [
      "\t - Recall@20 epoch 7: 0.095982\n",
      "\t - MRR@20    epoch 7: 0.026894\n",
      "\n"
     ]
    },
    {
     "output_type": "stream",
     "name": "stderr",
     "text": [
      "Train:  98%|█████████▊| 7510/7682 [01:58<00:02, 63.25it/s, accuracy=0.0312, train_loss=5.94] \n",
      "Evaluation:  18%|█▊        | 7/38 [00:05<00:24,  1.29it/s]\n",
      "Train:   0%|          | 0/7682 [00:00<?, ?it/s, accuracy=0.0703, train_loss=5.27] "
     ]
    },
    {
     "output_type": "stream",
     "name": "stdout",
     "text": [
      "\t - Recall@20 epoch 8: 0.095982\n",
      "\t - MRR@20    epoch 8: 0.027019\n",
      "\n"
     ]
    },
    {
     "output_type": "stream",
     "name": "stderr",
     "text": [
      "Train:  98%|█████████▊| 7510/7682 [01:59<00:02, 62.92it/s, accuracy=0.0312, train_loss=6.08] \n",
      "Evaluation:  18%|█▊        | 7/38 [00:05<00:24,  1.26it/s]\n",
      "Train:   0%|          | 0/7682 [00:00<?, ?it/s, accuracy=0.0703, train_loss=5.44] "
     ]
    },
    {
     "output_type": "stream",
     "name": "stdout",
     "text": [
      "\t - Recall@20 epoch 9: 0.087054\n",
      "\t - MRR@20    epoch 9: 0.024833\n",
      "\n"
     ]
    },
    {
     "output_type": "stream",
     "name": "stderr",
     "text": [
      "Train:  98%|█████████▊| 7510/7682 [02:00<00:02, 62.50it/s, accuracy=0.0391, train_loss=5.94] \n",
      "Evaluation:  18%|█▊        | 7/38 [00:05<00:24,  1.28it/s]\n",
      "Train:   0%|          | 0/7682 [00:00<?, ?it/s, accuracy=0.0703, train_loss=5.5]  "
     ]
    },
    {
     "output_type": "stream",
     "name": "stdout",
     "text": [
      "\t - Recall@20 epoch 10: 0.100446\n",
      "\t - MRR@20    epoch 10: 0.026768\n",
      "\n"
     ]
    },
    {
     "output_type": "stream",
     "name": "stderr",
     "text": [
      "Train:  98%|█████████▊| 7510/7682 [02:00<00:02, 62.56it/s, accuracy=0.0391, train_loss=6.07] \n",
      "Evaluation:  18%|█▊        | 7/38 [00:05<00:23,  1.29it/s]\n",
      "Train:   0%|          | 0/7682 [00:00<?, ?it/s, accuracy=0.109, train_loss=5.28]  "
     ]
    },
    {
     "output_type": "stream",
     "name": "stdout",
     "text": [
      "\t - Recall@20 epoch 11: 0.098214\n",
      "\t - MRR@20    epoch 11: 0.028988\n",
      "\n"
     ]
    },
    {
     "output_type": "stream",
     "name": "stderr",
     "text": [
      "Train:  98%|█████████▊| 7510/7682 [02:02<00:02, 61.15it/s, accuracy=0.0312, train_loss=6.09] \n",
      "Evaluation:  18%|█▊        | 7/38 [00:05<00:24,  1.25it/s]\n",
      "Train:   0%|          | 0/7682 [00:00<?, ?it/s, accuracy=0.0625, train_loss=5.63]"
     ]
    },
    {
     "output_type": "stream",
     "name": "stdout",
     "text": [
      "\t - Recall@20 epoch 12: 0.102679\n",
      "\t - MRR@20    epoch 12: 0.028030\n",
      "\n"
     ]
    },
    {
     "output_type": "stream",
     "name": "stderr",
     "text": [
      "Train:  98%|█████████▊| 7510/7682 [02:00<00:02, 62.29it/s, accuracy=0.0312, train_loss=6.1]  \n",
      "Evaluation:  18%|█▊        | 7/38 [00:05<00:23,  1.29it/s]\n",
      "Train:   0%|          | 0/7682 [00:00<?, ?it/s, accuracy=0.0859, train_loss=5.42] "
     ]
    },
    {
     "output_type": "stream",
     "name": "stdout",
     "text": [
      "\t - Recall@20 epoch 13: 0.091518\n",
      "\t - MRR@20    epoch 13: 0.026423\n",
      "\n"
     ]
    },
    {
     "output_type": "stream",
     "name": "stderr",
     "text": [
      "Train:  98%|█████████▊| 7510/7682 [01:58<00:02, 63.25it/s, accuracy=0.0391, train_loss=6.03] \n",
      "Evaluation:  18%|█▊        | 7/38 [00:05<00:24,  1.29it/s]\n",
      "Train:   0%|          | 0/7682 [00:00<?, ?it/s, accuracy=0.0469, train_loss=5.27] "
     ]
    },
    {
     "output_type": "stream",
     "name": "stdout",
     "text": [
      "\t - Recall@20 epoch 14: 0.095982\n",
      "\t - MRR@20    epoch 14: 0.025568\n",
      "\n"
     ]
    },
    {
     "output_type": "stream",
     "name": "stderr",
     "text": [
      "Train:  98%|█████████▊| 7510/7682 [01:58<00:02, 63.15it/s, accuracy=0.0469, train_loss=6.07] \n",
      "Evaluation:  18%|█▊        | 7/38 [00:05<00:23,  1.30it/s]\n",
      "Train:   0%|          | 0/7682 [00:00<?, ?it/s, accuracy=0.0703, train_loss=5.39] "
     ]
    },
    {
     "output_type": "stream",
     "name": "stdout",
     "text": [
      "\t - Recall@20 epoch 15: 0.095982\n",
      "\t - MRR@20    epoch 15: 0.026680\n",
      "\n"
     ]
    },
    {
     "output_type": "stream",
     "name": "stderr",
     "text": [
      "Train:  98%|█████████▊| 7510/7682 [01:58<00:02, 63.37it/s, accuracy=0.0391, train_loss=6.16] \n",
      "Evaluation:  18%|█▊        | 7/38 [00:05<00:23,  1.29it/s]\n",
      "Train:   0%|          | 0/7682 [00:00<?, ?it/s, accuracy=0.0625, train_loss=5.54] "
     ]
    },
    {
     "output_type": "stream",
     "name": "stdout",
     "text": [
      "\t - Recall@20 epoch 16: 0.091518\n",
      "\t - MRR@20    epoch 16: 0.023288\n",
      "\n"
     ]
    },
    {
     "output_type": "stream",
     "name": "stderr",
     "text": [
      "Train:  98%|█████████▊| 7510/7682 [01:59<00:02, 62.86it/s, accuracy=0.0625, train_loss=6.12] \n",
      "Evaluation:  18%|█▊        | 7/38 [00:05<00:23,  1.32it/s]\n",
      "Train:   0%|          | 0/7682 [00:00<?, ?it/s, accuracy=0.0547, train_loss=5.43] "
     ]
    },
    {
     "output_type": "stream",
     "name": "stdout",
     "text": [
      "\t - Recall@20 epoch 17: 0.094866\n",
      "\t - MRR@20    epoch 17: 0.025845\n",
      "\n"
     ]
    },
    {
     "output_type": "stream",
     "name": "stderr",
     "text": [
      "Train:  98%|█████████▊| 7510/7682 [02:01<00:02, 61.77it/s, accuracy=0.0391, train_loss=6.06] \n",
      "Evaluation:  18%|█▊        | 7/38 [00:05<00:23,  1.30it/s]\n",
      "Train:   0%|          | 0/7682 [00:00<?, ?it/s, accuracy=0.0703, train_loss=5.41] "
     ]
    },
    {
     "output_type": "stream",
     "name": "stdout",
     "text": [
      "\t - Recall@20 epoch 18: 0.098214\n",
      "\t - MRR@20    epoch 18: 0.023474\n",
      "\n"
     ]
    },
    {
     "output_type": "stream",
     "name": "stderr",
     "text": [
      "Train:  98%|█████████▊| 7510/7682 [02:00<00:02, 62.43it/s, accuracy=0.0234, train_loss=6.11] \n",
      "Evaluation:  18%|█▊        | 7/38 [00:05<00:23,  1.30it/s]\n",
      "Train:   0%|          | 0/7682 [00:00<?, ?it/s, accuracy=0.0938, train_loss=5.31] "
     ]
    },
    {
     "output_type": "stream",
     "name": "stdout",
     "text": [
      "\t - Recall@20 epoch 19: 0.092634\n",
      "\t - MRR@20    epoch 19: 0.024643\n",
      "\n"
     ]
    },
    {
     "output_type": "stream",
     "name": "stderr",
     "text": [
      "Train:  98%|█████████▊| 7510/7682 [02:00<00:02, 62.14it/s, accuracy=0.0312, train_loss=6.08] \n",
      "Evaluation:  18%|█▊        | 7/38 [00:05<00:23,  1.31it/s]"
     ]
    },
    {
     "output_type": "stream",
     "name": "stdout",
     "text": [
      "\t - Recall@20 epoch 20: 0.088170\n",
      "\t - MRR@20    epoch 20: 0.024014\n",
      "\n"
     ]
    },
    {
     "output_type": "stream",
     "name": "stderr",
     "text": [
      "\n"
     ]
    }
   ],
   "metadata": {}
  },
  {
   "cell_type": "markdown",
   "source": [
    "Unfortunately, the model stopped because of losing connection from the Aiffel Node, but I think I already got a meaningful result.    \n",
    "On epoch 17, it achieved accuracy=0.0469, train_loss=5.59, and\n",
    "- Recall@20 epoch 17: 0.085938\n",
    "- MRR@20    epoch 17: 0.021891"
   ],
   "metadata": {}
  },
  {
   "cell_type": "markdown",
   "source": [
    "# 7. Model Test and check Recall and MRR"
   ],
   "metadata": {}
  },
  {
   "cell_type": "code",
   "execution_count": 42,
   "source": [
    "def test_model(model, args, test):\r\n",
    "    test_recall, test_mrr = get_metrics(test, model, args, 20)\r\n",
    "    print(f\"\\t - Recall@{args.k}: {test_recall:3f}\")\r\n",
    "    print(f\"\\t - MRR@{args.k}: {test_mrr:3f}\\n\")"
   ],
   "outputs": [],
   "metadata": {}
  },
  {
   "cell_type": "code",
   "execution_count": 43,
   "source": [
    "test_model(model, args, test)\r\n"
   ],
   "outputs": [
    {
     "output_type": "stream",
     "name": "stderr",
     "text": [
      "Evaluation:  22%|██▏       | 8/37 [00:06<00:22,  1.29it/s]"
     ]
    },
    {
     "output_type": "stream",
     "name": "stdout",
     "text": [
      "\t - Recall@20: 0.118164\n",
      "\t - MRR@20: 0.033001\n",
      "\n"
     ]
    },
    {
     "output_type": "stream",
     "name": "stderr",
     "text": [
      "\n"
     ]
    }
   ],
   "metadata": {}
  },
  {
   "cell_type": "code",
   "execution_count": 44,
   "source": [
    "test_model(model_2, args_2, test)\r\n"
   ],
   "outputs": [
    {
     "output_type": "stream",
     "name": "stderr",
     "text": [
      "Evaluation:  22%|██▏       | 8/37 [00:06<00:21,  1.32it/s]"
     ]
    },
    {
     "output_type": "stream",
     "name": "stdout",
     "text": [
      "\t - Recall@20: 0.109375\n",
      "\t - MRR@20: 0.036467\n",
      "\n"
     ]
    },
    {
     "output_type": "stream",
     "name": "stderr",
     "text": [
      "\n"
     ]
    }
   ],
   "metadata": {}
  },
  {
   "cell_type": "markdown",
   "source": [
    "# 8. Conclusion\r\n",
    "# Results\r\n",
    "- There is not much difference between those two models.\r\n",
    "\r\n",
    "# What I've learned\r\n",
    "-  Preprocess the Movielens dataset from the perspective of session based recommendation was systematically carried out.\r\n",
    "-  The RNN-based predictive model was normally configured and training proceeded stably.\r\n",
    "-  Changed the session definition, model structure, hyperparameters, etc. and observed the changes in Recall and MRR.\r\n",
    "# Challenges I've Faced\r\n",
    "- It was difficult to create sessions from the user ratings data.\r\n",
    "- So I chose to use userId as a sessionId to run the session-based recommendation model.\r\n",
    "\r\n",
    "# What to do further\r\n",
    "- I only used the whole data for the train/valid/test dataset.\r\n",
    "- Further, I can try to split the data to use 1 year, and 2 years worth data as train/valid/test dataset.\r\n",
    "- Also I can try to tune the hyperparameters for the model to improve the model functionality.\r\n",
    "\r\n",
    "# References\r\n",
    "Model:\r\n",
    "- SESSION-BASED RECOMMENDATIONS WITH RECURRENT NEURAL NETWORKS (https://arxiv.org/pdf/1511.06939v4.pdf)\r\n"
   ],
   "metadata": {}
  }
 ],
 "metadata": {
  "kernelspec": {
   "display_name": "Python 3",
   "language": "python",
   "name": "python3"
  },
  "language_info": {
   "codemirror_mode": {
    "name": "ipython",
    "version": 3
   },
   "file_extension": ".py",
   "mimetype": "text/x-python",
   "name": "python",
   "nbconvert_exporter": "python",
   "pygments_lexer": "ipython3",
   "version": "3.7.9"
  }
 },
 "nbformat": 4,
 "nbformat_minor": 5
}