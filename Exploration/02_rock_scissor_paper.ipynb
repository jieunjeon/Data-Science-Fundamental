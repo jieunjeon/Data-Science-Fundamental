{
  "nbformat": 4,
  "nbformat_minor": 0,
  "metadata": {
    "colab": {
      "name": "Exploration_2.ipynb",
      "provenance": [],
      "collapsed_sections": [],
      "toc_visible": true,
      "mount_file_id": "1BbIedGrcgEAJKIfEBRtebiCg7_jO-7yy",
      "authorship_tag": "ABX9TyOwz4SWUy9785xgNhvlvO33",
      "include_colab_link": true
    },
    "kernelspec": {
      "name": "python3",
      "display_name": "Python 3"
    },
    "language_info": {
      "name": "python"
    }
  },
  "cells": [
    {
      "cell_type": "markdown",
      "metadata": {
        "id": "view-in-github",
        "colab_type": "text"
      },
      "source": [
        "<a href=\"https://colab.research.google.com/github/jieunjeon/Data-Science-Fundamental/blob/master/Exploration/02_rock_scissor_paper.ipynb\" target=\"_parent\"><img src=\"https://colab.research.google.com/assets/colab-badge.svg\" alt=\"Open In Colab\"/></a>"
      ]
    },
    {
      "cell_type": "markdown",
      "metadata": {
        "id": "zg42OPpyU5fF"
      },
      "source": [
        "# EXPLORATION 2"
      ]
    },
    {
      "cell_type": "markdown",
      "metadata": {
        "id": "o78hBktjU0BT"
      },
      "source": [
        "# Get ready with the rocks, scissors, papers image dataset"
      ]
    },
    {
      "cell_type": "code",
      "metadata": {
        "id": "8tzMLMFrQRna",
        "colab": {
          "base_uri": "https://localhost:8080/"
        },
        "outputId": "abcb87a9-4a8d-4280-f45e-9f9cafd7ce06"
      },
      "source": [
        "from google.colab import drive\n",
        "drive.mount('/content/drive/')"
      ],
      "execution_count": 12,
      "outputs": [
        {
          "output_type": "stream",
          "text": [
            "Mounted at /content/drive/\n"
          ],
          "name": "stdout"
        }
      ]
    },
    {
      "cell_type": "code",
      "metadata": {
        "colab": {
          "base_uri": "https://localhost:8080/"
        },
        "id": "LU7unNP-RnO0",
        "outputId": "aa6392cb-57f1-4f7f-cf94-ee0af5b7f38e"
      },
      "source": [
        "!unzip -qq /content/drive/MyDrive/aiffel/EXP_2_data/papers_complete.zip\n",
        "!unzip -qq /content/drive/MyDrive/aiffel/EXP_2_data/rocks_complete.zip\n",
        "!unzip -qq /content/drive/MyDrive/aiffel/EXP_2_data/scissors_complete.zip"
      ],
      "execution_count": 75,
      "outputs": [
        {
          "output_type": "stream",
          "text": [
            "replace rocks_complete/rock (1).jpg? [y]es, [n]o, [A]ll, [N]one, [r]ename: y\n",
            "replace rocks_complete/rock (10).jpg? [y]es, [n]o, [A]ll, [N]one, [r]ename: y\n",
            "replace rocks_complete/rock (100).jpg? [y]es, [n]o, [A]ll, [N]one, [r]ename: A\n",
            "y\n",
            "y\n",
            "A\n"
          ],
          "name": "stdout"
        }
      ]
    },
    {
      "cell_type": "code",
      "metadata": {
        "colab": {
          "base_uri": "https://localhost:8080/"
        },
        "id": "fsWvP3uZR1c0",
        "outputId": "54db76b7-a389-4e61-b3c7-b98eb6632729"
      },
      "source": [
        "ls"
      ],
      "execution_count": 31,
      "outputs": [
        {
          "output_type": "stream",
          "text": [
            "\u001b[0m\u001b[01;34mpapers_complete\u001b[0m/     \u001b[01;34mrocks_complete\u001b[0m/     \u001b[01;34mscissors_complete\u001b[0m/\n",
            "papers_complete.zip  rocks_complete.zip  scissors_complete.zip\n"
          ],
          "name": "stdout"
        }
      ]
    },
    {
      "cell_type": "code",
      "metadata": {
        "id": "y_WPj_uQSN7P"
      },
      "source": [
        "# set the path for each image folder\n",
        "img_path = '/content/drive/MyDrive/aiffel/EXP_2_data/';\n",
        "img_path_rocks = img_path + 'rocks_complete/';\n",
        "img_path_papers = img_path + 'papers_complete/';\n",
        "img_path_scissors = img_path + 'scissors_complete/';"
      ],
      "execution_count": 76,
      "outputs": []
    },
    {
      "cell_type": "code",
      "metadata": {
        "colab": {
          "base_uri": "https://localhost:8080/"
        },
        "id": "NevuJFF6TT5T",
        "outputId": "4dcf6ab0-751f-4859-fe35-77b8347d43d5"
      },
      "source": [
        "# check for the image size\n",
        "from PIL import Image\n",
        "image1 = Image.open(img_path_rocks+'rock (1).jpg')\n",
        "image1.show()\n",
        "print(\"size of the original image:\", image1.size)"
      ],
      "execution_count": 77,
      "outputs": [
        {
          "output_type": "stream",
          "text": [
            "size of the original image: (224, 224)\n"
          ],
          "name": "stdout"
        }
      ]
    },
    {
      "cell_type": "markdown",
      "metadata": {
        "id": "4l1SsSBOUpv5"
      },
      "source": [
        "Change the size of the images to 28 X 28"
      ]
    },
    {
      "cell_type": "code",
      "metadata": {
        "colab": {
          "base_uri": "https://localhost:8080/"
        },
        "id": "CZacalQOUYE8",
        "outputId": "2ea5961a-d5bc-4ad7-bd38-f1a27abad078"
      },
      "source": [
        "import os, glob\n",
        "\n",
        "def resize_images(img_path):\n",
        "\timages=glob.glob(img_path + \"/*.jpg\")  \n",
        "    \n",
        "\tprint(len(images), \" images to be resized.\")\n",
        "\n",
        "    # 파일마다 모두 28x28 사이즈로 바꾸어 저장합니다.\n",
        "\ttarget_size=(28,28)\n",
        "\tfor img in images:\n",
        "\t\told_img=Image.open(img)\n",
        "\t\tnew_img=old_img.resize(target_size,Image.ANTIALIAS)\n",
        "\t\tnew_img.save(img, \"JPEG\")\n",
        "    \n",
        "\tprint(len(images), \" images resized.\")\n",
        "\t\n",
        "# # 가위 이미지가 저장된 디렉토리 아래의 모든 jpg 파일을 읽어들여서\n",
        "# image_dir_path = os.getenv(\"HOME\") + \"/aiffel/rock_scissor_paper/scissor\"\n",
        "resize_images(img_path_rocks)\n",
        "resize_images(img_path_papers)\n",
        "resize_images(img_path_scissors)\n",
        "\n",
        "print(\"이미지 resize 완료!\")"
      ],
      "execution_count": 151,
      "outputs": [
        {
          "output_type": "stream",
          "text": [
            "599  images to be resized.\n",
            "599  images resized.\n",
            "599  images to be resized.\n",
            "599  images resized.\n",
            "599  images to be resized.\n",
            "599  images resized.\n",
            "이미지 resize 완료!\n"
          ],
          "name": "stdout"
        }
      ]
    },
    {
      "cell_type": "markdown",
      "metadata": {
        "id": "wZF7wuRmWhfd"
      },
      "source": [
        "Load the data"
      ]
    },
    {
      "cell_type": "code",
      "metadata": {
        "colab": {
          "base_uri": "https://localhost:8080/"
        },
        "id": "rLpl3odBYeEJ",
        "outputId": "0162d03d-7016-4bb0-cc5d-b499a9acce01"
      },
      "source": [
        "print(f'{img_path_papers}*.jpg')"
      ],
      "execution_count": 152,
      "outputs": [
        {
          "output_type": "stream",
          "text": [
            "/content/drive/MyDrive/aiffel/EXP_2_data/papers_complete/*.jpg\n"
          ],
          "name": "stdout"
        }
      ]
    },
    {
      "cell_type": "code",
      "metadata": {
        "colab": {
          "base_uri": "https://localhost:8080/"
        },
        "id": "yXzEGZkbWi3W",
        "outputId": "108f9f79-a499-483d-d577-b9889e00e714"
      },
      "source": [
        "import numpy as np\n",
        "\n",
        "def load_data(number_of_data=1797):  # 가위바위보 이미지 개수 총합에 주의하세요.\n",
        "    # 가위 : 0, 바위 : 1, 보 : 2\n",
        "    img_size=28\n",
        "    color=3\n",
        "    #이미지 데이터와 라벨(가위 : 0, 바위 : 1, 보 : 2) 데이터를 담을 행렬(matrix) 영역을 생성합니다.\n",
        "    imgs=np.zeros(number_of_data*img_size*img_size*color,dtype=np.int32).reshape(number_of_data,img_size,img_size,color)\n",
        "    labels=np.zeros(number_of_data,dtype=np.int32)\n",
        "\n",
        "    idx=0\n",
        "    imgCount = 0\n",
        "    for file in glob.iglob(f'{img_path_scissors}*.jpg'):\n",
        "        img = np.array(Image.open(file),dtype=np.int32)\n",
        "        imgs[idx,:,:,:]=img    # 데이터 영역에 이미지 행렬을 복사\n",
        "        labels[idx]=0   # 가위 : 0\n",
        "        idx=idx+1\n",
        "     \n",
        "      \n",
        "    for file in glob.iglob(f'{img_path_rocks}*.jpg'):\n",
        "        img = np.array(Image.open(file),dtype=np.int32)\n",
        "        imgs[idx,:,:,:]=img    # 데이터 영역에 이미지 행렬을 복사\n",
        "        labels[idx]=1   # 바위 : 1\n",
        "        idx=idx+1  \n",
        "\n",
        "    for file in glob.iglob(f'{img_path_papers}*.jpg'):\n",
        "        img = np.array(Image.open(file),dtype=np.int32)\n",
        "        imgs[idx,:,:,:]=img    # 데이터 영역에 이미지 행렬을 복사\n",
        "        labels[idx]=2   # 보 : 2\n",
        "        idx=idx+1\n",
        "\n",
        "        \n",
        "    print(\"학습데이터(x_train)의 이미지 개수는\", idx,\"입니다.\")\n",
        "    return imgs, labels\n",
        "\n",
        "# image_dir_path = os.getenv(\"HOME\") + \"/aiffel/rock_scissor_paper\"\n",
        "(x_train, y_train)=load_data()\n",
        "x_train_norm = x_train/255.0   # 입력은 0~1 사이의 값으로 정규화\n",
        "\n",
        "print(\"x_train shape: {}\".format(x_train.shape))\n",
        "print(\"y_train shape: {}\".format(y_train.shape))"
      ],
      "execution_count": 153,
      "outputs": [
        {
          "output_type": "stream",
          "text": [
            "학습데이터(x_train)의 이미지 개수는 1797 입니다.\n",
            "x_train shape: (1797, 28, 28, 3)\n",
            "y_train shape: (1797,)\n"
          ],
          "name": "stdout"
        }
      ]
    },
    {
      "cell_type": "code",
      "metadata": {
        "colab": {
          "base_uri": "https://localhost:8080/",
          "height": 283
        },
        "id": "L3SgXebXiLPx",
        "outputId": "3a56cf59-f8a6-4f19-b533-2154c4567bf1"
      },
      "source": [
        "import matplotlib.pyplot as plt\n",
        "plt.imshow(x_train[0])\n",
        "print('라벨: ', y_train[0])"
      ],
      "execution_count": 154,
      "outputs": [
        {
          "output_type": "stream",
          "text": [
            "라벨:  0\n"
          ],
          "name": "stdout"
        },
        {
          "output_type": "display_data",
          "data": {
            "image/png": "[encoded data removed]",
            "text/plain": [
              "<Figure size 432x288 with 1 Axes>"
            ]
          },
          "metadata": {
            "tags": [],
            "needs_background": "light"
          }
        }
      ]
    },
    {
      "cell_type": "markdown",
      "metadata": {
        "id": "ofFcG15UiK4g"
      },
      "source": [
        "## Architect the Deep Learning Network\n"
      ]
    },
    {
      "cell_type": "code",
      "metadata": {
        "colab": {
          "base_uri": "https://localhost:8080/"
        },
        "id": "bE8NXXOjiUTd",
        "outputId": "890aca0f-6adb-4061-ed38-451c7293c02f"
      },
      "source": [
        "import tensorflow as tf\n",
        "from tensorflow import keras\n",
        "import numpy as np\n",
        "\n",
        "# model을 직접 만들어 보세요.\n",
        "# Hint! model의 입력/출력부에 특히 유의해 주세요. 가위바위보 데이터셋은 MNIST 데이터셋과 어떤 점이 달라졌나요?\n",
        "# [[YOUR CODE]]\n",
        "model=keras.models.Sequential()\n",
        "model.add(keras.layers.Conv2D(16, (3,3), activation='relu', input_shape=(28,28,3)))\n",
        "model.add(keras.layers.MaxPool2D(2,2))\n",
        "model.add(keras.layers.Conv2D(32, (3,3), activation='relu'))\n",
        "model.add(keras.layers.MaxPooling2D((2,2)))\n",
        "model.add(keras.layers.Flatten())\n",
        "model.add(keras.layers.Dense(32, activation='relu'))\n",
        "model.add(keras.layers.Dense(3, activation='softmax'))\n",
        "\n",
        "print('Model에 추가된 Layer 개수: ', len(model.layers))\n",
        "\n",
        "model.summary()"
      ],
      "execution_count": 155,
      "outputs": [
        {
          "output_type": "stream",
          "text": [
            "Model에 추가된 Layer 개수:  7\n",
            "Model: \"sequential_5\"\n",
            "_________________________________________________________________\n",
            "Layer (type)                 Output Shape              Param #   \n",
            "=================================================================\n",
            "conv2d_10 (Conv2D)           (None, 26, 26, 16)        448       \n",
            "_________________________________________________________________\n",
            "max_pooling2d_10 (MaxPooling (None, 13, 13, 16)        0         \n",
            "_________________________________________________________________\n",
            "conv2d_11 (Conv2D)           (None, 11, 11, 32)        4640      \n",
            "_________________________________________________________________\n",
            "max_pooling2d_11 (MaxPooling (None, 5, 5, 32)          0         \n",
            "_________________________________________________________________\n",
            "flatten_5 (Flatten)          (None, 800)               0         \n",
            "_________________________________________________________________\n",
            "dense_10 (Dense)             (None, 32)                25632     \n",
            "_________________________________________________________________\n",
            "dense_11 (Dense)             (None, 3)                 99        \n",
            "=================================================================\n",
            "Total params: 30,819\n",
            "Trainable params: 30,819\n",
            "Non-trainable params: 0\n",
            "_________________________________________________________________\n"
          ],
          "name": "stdout"
        }
      ]
    },
    {
      "cell_type": "markdown",
      "metadata": {
        "id": "Gg-LrqsfjkHn"
      },
      "source": [
        "## Train the dataset"
      ]
    },
    {
      "cell_type": "code",
      "metadata": {
        "colab": {
          "base_uri": "https://localhost:8080/"
        },
        "id": "NuqVMm_OlEag",
        "outputId": "e959cfb9-0d7a-450f-e571-0ca52d597445"
      },
      "source": [
        "from sklearn.model_selection import train_test_split\n",
        "x_train, x_test, y_train, y_test = train_test_split(x_train, y_train)\n",
        "# print(x_train[:1])\n",
        "# print(y_test[:1])\n",
        "print(x_train.shape)\n",
        "print(x_test.shape)\n",
        "print(y_train.shape)\n",
        "print(y_test.shape)"
      ],
      "execution_count": 156,
      "outputs": [
        {
          "output_type": "stream",
          "text": [
            "(1347, 28, 28, 3)\n",
            "(450, 28, 28, 3)\n",
            "(1347,)\n",
            "(450,)\n"
          ],
          "name": "stdout"
        }
      ]
    },
    {
      "cell_type": "code",
      "metadata": {
        "colab": {
          "base_uri": "https://localhost:8080/"
        },
        "id": "UjUOExlQjl7O",
        "outputId": "4aa81aff-ee87-402b-8b82-b9b244e7e521"
      },
      "source": [
        "# print(\"Before Reshape - x_train_norm shape: {}\".format(x_train.shape))\n",
        "# print(\"Before Reshape - x_test_norm shape: {}\".format(x_test.shape))\n",
        "\n",
        "# x_train_reshaped=x_train.reshape( -1, 28, 28, 3)  # 데이터갯수에 -1을 쓰면 reshape시 자동계산됩니다.\n",
        "# x_test_reshaped=x_test.reshape( -1, 28, 28, 3)\n",
        "\n",
        "# print(\"After Reshape - x_train_reshaped shape: {}\".format(x_train_reshaped.shape))\n",
        "# print(\"After Reshape - x_test_reshaped shape: {}\".format(x_test_reshaped.shape))"
      ],
      "execution_count": 127,
      "outputs": [
        {
          "output_type": "stream",
          "text": [
            "Before Reshape - x_train_norm shape: (1797, 28, 28, 3)\n",
            "Before Reshape - x_test_norm shape: (450, 28, 28, 3)\n",
            "After Reshape - x_train_reshaped shape: (1797, 28, 28, 3)\n",
            "After Reshape - x_test_reshaped shape: (450, 28, 28, 3)\n"
          ],
          "name": "stdout"
        }
      ]
    },
    {
      "cell_type": "code",
      "metadata": {
        "colab": {
          "base_uri": "https://localhost:8080/"
        },
        "id": "nhT3-WjymCFL",
        "outputId": "5e2882c5-d2f2-4ee4-f0a9-4b87d9348d83"
      },
      "source": [
        "model.compile(optimizer='adam',\n",
        "             loss='sparse_categorical_crossentropy',\n",
        "             metrics=['accuracy'])\n",
        "\n",
        "model.fit(x_train, y_train, epochs=10)"
      ],
      "execution_count": 157,
      "outputs": [
        {
          "output_type": "stream",
          "text": [
            "Epoch 1/10\n",
            "43/43 [==============================] - 1s 19ms/step - loss: 5.6301 - accuracy: 0.4699\n",
            "Epoch 2/10\n",
            "43/43 [==============================] - 1s 20ms/step - loss: 1.0468 - accuracy: 0.6808\n",
            "Epoch 3/10\n",
            "43/43 [==============================] - 1s 18ms/step - loss: 0.7111 - accuracy: 0.7558\n",
            "Epoch 4/10\n",
            "43/43 [==============================] - 1s 18ms/step - loss: 0.6648 - accuracy: 0.7713\n",
            "Epoch 5/10\n",
            "43/43 [==============================] - 1s 18ms/step - loss: 0.3952 - accuracy: 0.8330\n",
            "Epoch 6/10\n",
            "43/43 [==============================] - 1s 19ms/step - loss: 0.2941 - accuracy: 0.8842\n",
            "Epoch 7/10\n",
            "43/43 [==============================] - 1s 19ms/step - loss: 0.2617 - accuracy: 0.9005\n",
            "Epoch 8/10\n",
            "43/43 [==============================] - 1s 18ms/step - loss: 0.1954 - accuracy: 0.9228\n",
            "Epoch 9/10\n",
            "43/43 [==============================] - 1s 18ms/step - loss: 0.1856 - accuracy: 0.9272\n",
            "Epoch 10/10\n",
            "43/43 [==============================] - 1s 19ms/step - loss: 0.1810 - accuracy: 0.9376\n"
          ],
          "name": "stdout"
        },
        {
          "output_type": "execute_result",
          "data": {
            "text/plain": [
              "<tensorflow.python.keras.callbacks.History at 0x7f554a66c710>"
            ]
          },
          "metadata": {
            "tags": []
          },
          "execution_count": 157
        }
      ]
    },
    {
      "cell_type": "code",
      "metadata": {
        "colab": {
          "base_uri": "https://localhost:8080/"
        },
        "id": "gW9an9JVtVqm",
        "outputId": "72c41dad-d881-4dbe-970b-eca3fb1e7d73"
      },
      "source": [
        "model.evaluate(x_train, y_train)"
      ],
      "execution_count": 158,
      "outputs": [
        {
          "output_type": "stream",
          "text": [
            "43/43 [==============================] - 0s 7ms/step - loss: 0.1350 - accuracy: 0.9495\n"
          ],
          "name": "stdout"
        },
        {
          "output_type": "execute_result",
          "data": {
            "text/plain": [
              "[0.13498082756996155, 0.9495174288749695]"
            ]
          },
          "metadata": {
            "tags": []
          },
          "execution_count": 158
        }
      ]
    }
  ]
}