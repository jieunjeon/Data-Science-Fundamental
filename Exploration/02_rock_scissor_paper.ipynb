{
  "nbformat": 4,
  "nbformat_minor": 0,
  "metadata": {
    "colab": {
      "name": "Exploration_2.ipynb",
      "provenance": [],
      "collapsed_sections": [],
      "toc_visible": true,
      "mount_file_id": "1BbIedGrcgEAJKIfEBRtebiCg7_jO-7yy",
      "authorship_tag": "ABX9TyMvb2y49bgzt70+2C1WZkog",
      "include_colab_link": true
    },
    "kernelspec": {
      "name": "python3",
      "display_name": "Python 3"
    },
    "language_info": {
      "name": "python"
    }
  },
  "cells": [
    {
      "cell_type": "markdown",
      "metadata": {
        "id": "view-in-github",
        "colab_type": "text"
      },
      "source": [
        "<a href=\"https://colab.research.google.com/github/jieunjeon/Data-Science-Fundamental/blob/master/Exploration/02_rock_scissor_paper.ipynb\" target=\"_parent\"><img src=\"https://colab.research.google.com/assets/colab-badge.svg\" alt=\"Open In Colab\"/></a>"
      ]
    },
    {
      "cell_type": "markdown",
      "metadata": {
        "id": "zg42OPpyU5fF"
      },
      "source": [
        "# EXPLORATION 2"
      ]
    },
    {
      "cell_type": "markdown",
      "metadata": {
        "id": "o78hBktjU0BT"
      },
      "source": [
        "## Data Preparation"
      ]
    },
    {
      "cell_type": "code",
      "metadata": {
        "id": "8tzMLMFrQRna",
        "colab": {
          "base_uri": "https://localhost:8080/"
        },
        "outputId": "abcb87a9-4a8d-4280-f45e-9f9cafd7ce06"
      },
      "source": [
        "from google.colab import drive\n",
        "drive.mount('/content/drive/')"
      ],
      "execution_count": null,
      "outputs": [
        {
          "output_type": "stream",
          "text": [
            "Mounted at /content/drive/\n"
          ],
          "name": "stdout"
        }
      ]
    },
    {
      "cell_type": "code",
      "metadata": {
        "id": "LU7unNP-RnO0"
      },
      "source": [
        "!unzip -qq /content/drive/MyDrive/aiffel/EXP_2_data/papers_complete.zip\n",
        "!unzip -qq /content/drive/MyDrive/aiffel/EXP_2_data/rocks_complete.zip\n",
        "!unzip -qq /content/drive/MyDrive/aiffel/EXP_2_data/scissors_complete.zip"
      ],
      "execution_count": null,
      "outputs": []
    },
    {
      "cell_type": "markdown",
      "metadata": {
        "id": "V1YsTUg38DXe"
      },
      "source": [
        "### Set the path and check the size of an image"
      ]
    },
    {
      "cell_type": "code",
      "metadata": {
        "id": "y_WPj_uQSN7P"
      },
      "source": [
        "# set the path for each image folder\n",
        "img_path = '/content/drive/MyDrive/aiffel/EXP_2_data/';\n",
        "img_path_rocks = img_path + 'rocks_complete/';\n",
        "img_path_papers = img_path + 'papers_complete/';\n",
        "img_path_scissors = img_path + 'scissors_complete/';"
      ],
      "execution_count": 254,
      "outputs": []
    },
    {
      "cell_type": "code",
      "metadata": {
        "colab": {
          "base_uri": "https://localhost:8080/"
        },
        "id": "NevuJFF6TT5T",
        "outputId": "e7c5c033-662d-4eda-e31f-70d0a0e8793a"
      },
      "source": [
        "# check for the image size\n",
        "from PIL import Image\n",
        "image1 = Image.open(img_path_rocks+'rock (1).jpg')\n",
        "image1.show()\n",
        "print(\"size of the original image:\", image1.size)"
      ],
      "execution_count": 255,
      "outputs": [
        {
          "output_type": "stream",
          "text": [
            "size of the original image: (224, 224)\n"
          ],
          "name": "stdout"
        }
      ]
    },
    {
      "cell_type": "markdown",
      "metadata": {
        "id": "4l1SsSBOUpv5"
      },
      "source": [
        "Change the size of the images to 28 X 28"
      ]
    },
    {
      "cell_type": "code",
      "metadata": {
        "colab": {
          "base_uri": "https://localhost:8080/"
        },
        "id": "CZacalQOUYE8",
        "outputId": "34a1e4d4-9d58-42ba-8daf-063760ea191f"
      },
      "source": [
        "import os, glob\n",
        "\n",
        "def resize_images(img_path):\n",
        "\timages=glob.glob(img_path + \"/*.jpg\")  \n",
        "    \n",
        "\tprint(len(images), \" images to be resized.\")\n",
        "\n",
        "  # Change the image size to 28 X 28\n",
        "\ttarget_size=(28,28)\n",
        "\tfor img in images:\n",
        "\t\told_img=Image.open(img)\n",
        "\t\tnew_img=old_img.resize(target_size,Image.ANTIALIAS)\n",
        "\t\tnew_img.save(img, \"JPEG\")\n",
        "    \n",
        "\tprint(len(images), \" images resized.\")\n",
        "\t\n",
        "resize_images(img_path_rocks)\n",
        "resize_images(img_path_papers)\n",
        "resize_images(img_path_scissors)\n",
        "\n",
        "print(\"train images resize completed!\")"
      ],
      "execution_count": 256,
      "outputs": [
        {
          "output_type": "stream",
          "text": [
            "1105  images to be resized.\n",
            "1105  images resized.\n",
            "1108  images to be resized.\n",
            "1108  images resized.\n",
            "994  images to be resized.\n",
            "994  images resized.\n",
            "train images resize completed!\n"
          ],
          "name": "stdout"
        }
      ]
    },
    {
      "cell_type": "markdown",
      "metadata": {
        "id": "wZF7wuRmWhfd"
      },
      "source": [
        "### Load the data"
      ]
    },
    {
      "cell_type": "code",
      "metadata": {
        "colab": {
          "base_uri": "https://localhost:8080/"
        },
        "id": "rLpl3odBYeEJ",
        "outputId": "15207ee3-5175-4e66-9477-760c02f6961b"
      },
      "source": [
        "print(f'{img_path_papers}*.jpg')"
      ],
      "execution_count": 257,
      "outputs": [
        {
          "output_type": "stream",
          "text": [
            "/content/drive/MyDrive/aiffel/EXP_2_data/papers_complete/*.jpg\n"
          ],
          "name": "stdout"
        }
      ]
    },
    {
      "cell_type": "code",
      "metadata": {
        "colab": {
          "base_uri": "https://localhost:8080/"
        },
        "id": "yXzEGZkbWi3W",
        "outputId": "3f40a70d-0997-44e1-b9f0-53c95ad3964a"
      },
      "source": [
        "import numpy as np\n",
        "\n",
        "def load_data(path_scissors, path_rocks, path_papers, number_of_data):  # 가위바위보 이미지 개수 총합에 주의하세요.\n",
        "    # 가위 : 0, 바위 : 1, 보 : 2\n",
        "    img_size=28\n",
        "    color=3\n",
        "    #이미지 데이터와 라벨(가위 : 0, 바위 : 1, 보 : 2) 데이터를 담을 행렬(matrix) 영역을 생성합니다.\n",
        "    imgs=np.zeros(number_of_data*img_size*img_size*color,dtype=np.int32).reshape(number_of_data,img_size,img_size,color)\n",
        "    labels=np.zeros(number_of_data,dtype=np.int32)\n",
        "\n",
        "    idx=0\n",
        "    for file in glob.iglob(f'{path_scissors}*.jpg'):\n",
        "        img = np.array(Image.open(file),dtype=np.int32)\n",
        "        imgs[idx,:,:,:]=img    # 데이터 영역에 이미지 행렬을 복사\n",
        "        labels[idx]=0   # 가위 : 0\n",
        "        idx=idx+1\n",
        "     \n",
        "      \n",
        "    for file in glob.iglob(f'{path_rocks}*.jpg'):\n",
        "        img = np.array(Image.open(file),dtype=np.int32)\n",
        "        imgs[idx,:,:,:]=img    # 데이터 영역에 이미지 행렬을 복사\n",
        "        labels[idx]=1   # 바위 : 1\n",
        "        idx=idx+1  \n",
        "\n",
        "    for file in glob.iglob(f'{path_papers}*.jpg'):\n",
        "        img = np.array(Image.open(file),dtype=np.int32)\n",
        "        imgs[idx,:,:,:]=img    # 데이터 영역에 이미지 행렬을 복사\n",
        "        labels[idx]=2   # 보 : 2\n",
        "        idx=idx+1\n",
        "\n",
        "        \n",
        "    print(\"학습데이터(x_train)의 이미지 개수는\", idx,\"입니다.\")\n",
        "    return imgs, labels\n",
        "\n",
        "# image_dir_path = os.getenv(\"HOME\") + \"/aiffel/rock_scissor_paper\"\n",
        "(x_train, y_train)=load_data(img_path_scissors, img_path_rocks, img_path_papers, number_of_data=3207)\n",
        "\n",
        "print(\"x_train shape: {}\".format(x_train.shape))\n",
        "print(\"y_train shape: {}\".format(y_train.shape))"
      ],
      "execution_count": 259,
      "outputs": [
        {
          "output_type": "stream",
          "text": [
            "학습데이터(x_train)의 이미지 개수는 3207 입니다.\n",
            "x_train shape: (3207, 28, 28, 3)\n",
            "y_train shape: (3207,)\n"
          ],
          "name": "stdout"
        }
      ]
    },
    {
      "cell_type": "markdown",
      "metadata": {
        "id": "kEvL-hZD8KUp"
      },
      "source": [
        "### Check the trained data with the label"
      ]
    },
    {
      "cell_type": "code",
      "metadata": {
        "colab": {
          "base_uri": "https://localhost:8080/",
          "height": 283
        },
        "id": "L3SgXebXiLPx",
        "outputId": "2a4eeccc-f737-4a09-c8ea-f00b93c297a5"
      },
      "source": [
        "import matplotlib.pyplot as plt\n",
        "plt.imshow(x_train[0])\n",
        "print('라벨: ', y_train[0])"
      ],
      "execution_count": 260,
      "outputs": [
        {
          "output_type": "stream",
          "text": [
            "라벨:  0\n"
          ],
          "name": "stdout"
        },
        {
          "output_type": "display_data",
          "data": {
            "image/png": "[encoded data removed]",
            "text/plain": [
              "<Figure size 432x288 with 1 Axes>"
            ]
          },
          "metadata": {
            "tags": [],
            "needs_background": "light"
          }
        }
      ]
    },
    {
      "cell_type": "markdown",
      "metadata": {
        "id": "ofFcG15UiK4g"
      },
      "source": [
        "## Architect the Deep Learning Network\n"
      ]
    },
    {
      "cell_type": "code",
      "metadata": {
        "colab": {
          "base_uri": "https://localhost:8080/"
        },
        "id": "bE8NXXOjiUTd",
        "outputId": "97159081-21b4-4597-d360-6709dd2d3cfa"
      },
      "source": [
        "import tensorflow as tf\n",
        "from tensorflow import keras\n",
        "import numpy as np\n",
        "\n",
        "# TODO\n",
        "channel_1 = 16\n",
        "channel_2 = 32\n",
        "dense = 32\n",
        "train_epoch = 10\n",
        "\n",
        "model=keras.models.Sequential()\n",
        "model.add(keras.layers.Conv2D(channel_1, (3,3), activation='relu', input_shape=(28,28,3)))\n",
        "model.add(keras.layers.MaxPool2D(2,2))\n",
        "model.add(keras.layers.Conv2D(channel_2, (3,3), activation='relu'))\n",
        "model.add(keras.layers.MaxPooling2D((2,2)))\n",
        "model.add(keras.layers.Flatten())\n",
        "model.add(keras.layers.Dense(dense, activation='relu'))\n",
        "model.add(keras.layers.Dense(3, activation='softmax'))\n",
        "\n",
        "print('Model에 추가된 Layer 개수: ', len(model.layers))\n",
        "\n",
        "model.summary()"
      ],
      "execution_count": 261,
      "outputs": [
        {
          "output_type": "stream",
          "text": [
            "Model에 추가된 Layer 개수:  7\n",
            "Model: \"sequential_49\"\n",
            "_________________________________________________________________\n",
            "Layer (type)                 Output Shape              Param #   \n",
            "=================================================================\n",
            "conv2d_98 (Conv2D)           (None, 26, 26, 16)        448       \n",
            "_________________________________________________________________\n",
            "max_pooling2d_98 (MaxPooling (None, 13, 13, 16)        0         \n",
            "_________________________________________________________________\n",
            "conv2d_99 (Conv2D)           (None, 11, 11, 32)        4640      \n",
            "_________________________________________________________________\n",
            "max_pooling2d_99 (MaxPooling (None, 5, 5, 32)          0         \n",
            "_________________________________________________________________\n",
            "flatten_49 (Flatten)         (None, 800)               0         \n",
            "_________________________________________________________________\n",
            "dense_98 (Dense)             (None, 32)                25632     \n",
            "_________________________________________________________________\n",
            "dense_99 (Dense)             (None, 3)                 99        \n",
            "=================================================================\n",
            "Total params: 30,819\n",
            "Trainable params: 30,819\n",
            "Non-trainable params: 0\n",
            "_________________________________________________________________\n"
          ],
          "name": "stdout"
        }
      ]
    },
    {
      "cell_type": "markdown",
      "metadata": {
        "id": "Gg-LrqsfjkHn"
      },
      "source": [
        "## Train the dataset"
      ]
    },
    {
      "cell_type": "markdown",
      "metadata": {
        "id": "1dxsSqx88Qmw"
      },
      "source": [
        "### Split the train & test dataset"
      ]
    },
    {
      "cell_type": "code",
      "metadata": {
        "colab": {
          "base_uri": "https://localhost:8080/"
        },
        "id": "NuqVMm_OlEag",
        "outputId": "1e2ae651-60d3-462a-ab44-777d7d26c967"
      },
      "source": [
        "from sklearn.model_selection import train_test_split\n",
        "x_train, x_test, y_train, y_test = train_test_split(x_train, y_train)\n",
        "\n",
        "x_train_norm = x_train/255.0  # normalize to 0~1\n",
        "x_test_norm = x_test/255.0   \n",
        "\n",
        "print(x_train.shape)\n",
        "print(x_test.shape)\n",
        "print(y_train.shape)\n",
        "print(y_test.shape)"
      ],
      "execution_count": 262,
      "outputs": [
        {
          "output_type": "stream",
          "text": [
            "(2405, 28, 28, 3)\n",
            "(802, 28, 28, 3)\n",
            "(2405,)\n",
            "(802,)\n"
          ],
          "name": "stdout"
        }
      ]
    },
    {
      "cell_type": "markdown",
      "metadata": {
        "id": "gbEQfZRJ8VeV"
      },
      "source": [
        "### Compile and Fit the model"
      ]
    },
    {
      "cell_type": "code",
      "metadata": {
        "colab": {
          "base_uri": "https://localhost:8080/"
        },
        "id": "dPqj7hLypsEh",
        "outputId": "74f86c0b-ecd1-4a76-910d-db3b8489e4b1"
      },
      "source": [
        "print(\"Before Reshape - x_train_norm shape: {}\".format(x_train_norm.shape))\n",
        "print(\"Before Reshape - x_test_norm shape: {}\".format(x_test_norm.shape))\n",
        "\n",
        "x_train_reshaped=x_train_norm.reshape( -1, 28, 28, 3)  # 데이터갯수에 -1을 쓰면 reshape시 자동계산됩니다.\n",
        "x_test_reshaped=x_test_norm.reshape( -1, 28, 28, 3)\n",
        "\n",
        "print(\"After Reshape - x_train_reshaped shape: {}\".format(x_train_reshaped.shape))\n",
        "print(\"After Reshape - x_test_reshaped shape: {}\".format(x_test_reshaped.shape))"
      ],
      "execution_count": 263,
      "outputs": [
        {
          "output_type": "stream",
          "text": [
            "Before Reshape - x_train_norm shape: (2405, 28, 28, 3)\n",
            "Before Reshape - x_test_norm shape: (802, 28, 28, 3)\n",
            "After Reshape - x_train_reshaped shape: (2405, 28, 28, 3)\n",
            "After Reshape - x_test_reshaped shape: (802, 28, 28, 3)\n"
          ],
          "name": "stdout"
        }
      ]
    },
    {
      "cell_type": "code",
      "metadata": {
        "colab": {
          "base_uri": "https://localhost:8080/"
        },
        "id": "nhT3-WjymCFL",
        "outputId": "2223fe06-afdc-4d49-e46c-765f7784b292"
      },
      "source": [
        "model.compile(optimizer='adam',\n",
        "             loss='sparse_categorical_crossentropy',\n",
        "             metrics=['accuracy'])\n",
        "\n",
        "model.fit(x_train_reshaped, y_train, epochs=train_epoch)"
      ],
      "execution_count": 264,
      "outputs": [
        {
          "output_type": "stream",
          "text": [
            "Epoch 1/10\n",
            "76/76 [==============================] - 2s 18ms/step - loss: 1.0614 - accuracy: 0.4312\n",
            "Epoch 2/10\n",
            "76/76 [==============================] - 1s 18ms/step - loss: 0.9013 - accuracy: 0.5721\n",
            "Epoch 3/10\n",
            "76/76 [==============================] - 1s 19ms/step - loss: 0.7585 - accuracy: 0.6678\n",
            "Epoch 4/10\n",
            "76/76 [==============================] - 1s 19ms/step - loss: 0.5962 - accuracy: 0.7746\n",
            "Epoch 5/10\n",
            "76/76 [==============================] - 1s 19ms/step - loss: 0.4959 - accuracy: 0.8170\n",
            "Epoch 6/10\n",
            "76/76 [==============================] - 1s 19ms/step - loss: 0.4205 - accuracy: 0.8341\n",
            "Epoch 7/10\n",
            "76/76 [==============================] - 1s 19ms/step - loss: 0.3488 - accuracy: 0.8699\n",
            "Epoch 8/10\n",
            "76/76 [==============================] - 1s 18ms/step - loss: 0.2788 - accuracy: 0.9019\n",
            "Epoch 9/10\n",
            "76/76 [==============================] - 1s 19ms/step - loss: 0.2413 - accuracy: 0.9119\n",
            "Epoch 10/10\n",
            "76/76 [==============================] - 1s 18ms/step - loss: 0.2084 - accuracy: 0.9306\n"
          ],
          "name": "stdout"
        },
        {
          "output_type": "execute_result",
          "data": {
            "text/plain": [
              "<tensorflow.python.keras.callbacks.History at 0x7f305e3a03d0>"
            ]
          },
          "metadata": {
            "tags": []
          },
          "execution_count": 264
        }
      ]
    },
    {
      "cell_type": "markdown",
      "metadata": {
        "id": "YZrwzVu-8Ybz"
      },
      "source": [
        "## Evaluate"
      ]
    },
    {
      "cell_type": "markdown",
      "metadata": {
        "id": "I-5Ka-b7jxEF"
      },
      "source": [
        "#### Evaluate with splitted data"
      ]
    },
    {
      "cell_type": "code",
      "metadata": {
        "colab": {
          "base_uri": "https://localhost:8080/"
        },
        "id": "gW9an9JVtVqm",
        "outputId": "ce86dd2c-014a-434e-a939-de6e5fadac2f"
      },
      "source": [
        "model.evaluate(x_test_reshaped, y_test)"
      ],
      "execution_count": 265,
      "outputs": [
        {
          "output_type": "stream",
          "text": [
            "26/26 [==============================] - 0s 7ms/step - loss: 0.2557 - accuracy: 0.9127\n"
          ],
          "name": "stdout"
        },
        {
          "output_type": "execute_result",
          "data": {
            "text/plain": [
              "[0.2556585371494293, 0.9127181768417358]"
            ]
          },
          "metadata": {
            "tags": []
          },
          "execution_count": 265
        }
      ]
    },
    {
      "cell_type": "markdown",
      "metadata": {
        "id": "5ceDvS91j1VL"
      },
      "source": [
        "## (Unseen) Test Data Preparation\n",
        "손예림님's data is not included in the training dataset, so I wanted to use this data to measure the accuracy of the model\n"
      ]
    },
    {
      "cell_type": "code",
      "metadata": {
        "colab": {
          "base_uri": "https://localhost:8080/"
        },
        "id": "HQRENjDoj7FG",
        "outputId": "332d173b-7185-47c2-8f39-57179178d1ab"
      },
      "source": [
        "test_img_path_rocks = img_path + 'rocks_test/';\n",
        "test_img_path_papers = img_path + 'papers_test/';\n",
        "test_img_path_scissors = img_path + 'scissors_test/';\n",
        "\n",
        "resize_images(test_img_path_rocks)\n",
        "resize_images(test_img_path_papers)\n",
        "resize_images(test_img_path_scissors)\n",
        "print(\"test images resize completed!\")"
      ],
      "execution_count": 266,
      "outputs": [
        {
          "output_type": "stream",
          "text": [
            "100  images to be resized.\n",
            "100  images resized.\n",
            "100  images to be resized.\n",
            "100  images resized.\n",
            "100  images to be resized.\n",
            "100  images resized.\n",
            "test images resize completed!\n"
          ],
          "name": "stdout"
        }
      ]
    },
    {
      "cell_type": "markdown",
      "metadata": {
        "id": "06kzQ6T2s6d7"
      },
      "source": [
        "#### Load the test (unseen) images"
      ]
    },
    {
      "cell_type": "code",
      "metadata": {
        "colab": {
          "base_uri": "https://localhost:8080/"
        },
        "id": "za2DmYlGl0pv",
        "outputId": "6c622a89-869b-4a8b-8540-8a81a65c4aca"
      },
      "source": [
        "(x_test2, y_test2)=load_data(test_img_path_scissors, test_img_path_rocks, test_img_path_papers, number_of_data=300)\n",
        "x_test_norm2 = x_test2/255.0   # normalize the input to have a value btn 0~1\n",
        "\n",
        "print(\"x_train shape: {}\".format(x_test2.shape))\n",
        "print(\"y_train shape: {}\".format(y_test2.shape))"
      ],
      "execution_count": 267,
      "outputs": [
        {
          "output_type": "stream",
          "text": [
            "학습데이터(x_train)의 이미지 개수는 300 입니다.\n",
            "x_train shape: (300, 28, 28, 3)\n",
            "y_train shape: (300,)\n"
          ],
          "name": "stdout"
        }
      ]
    },
    {
      "cell_type": "markdown",
      "metadata": {
        "id": "Z5iVwl9Im30F"
      },
      "source": [
        "Check loaded data"
      ]
    },
    {
      "cell_type": "code",
      "metadata": {
        "colab": {
          "base_uri": "https://localhost:8080/",
          "height": 283
        },
        "id": "0QJ7VwaMm0tK",
        "outputId": "ecbc4608-7178-4ba9-835a-f71dc85a71b1"
      },
      "source": [
        "import matplotlib.pyplot as plt\n",
        "plt.imshow(x_test2[0])\n",
        "print('라벨: ', y_test2[0])"
      ],
      "execution_count": 268,
      "outputs": [
        {
          "output_type": "stream",
          "text": [
            "라벨:  0\n"
          ],
          "name": "stdout"
        },
        {
          "output_type": "display_data",
          "data": {
            "image/png": "[encoded data removed]",
            "text/plain": [
              "<Figure size 432x288 with 1 Axes>"
            ]
          },
          "metadata": {
            "tags": [],
            "needs_background": "light"
          }
        }
      ]
    },
    {
      "cell_type": "markdown",
      "metadata": {
        "id": "Vn2nDu0itIhD"
      },
      "source": [
        "Reshape the test data"
      ]
    },
    {
      "cell_type": "code",
      "metadata": {
        "colab": {
          "base_uri": "https://localhost:8080/"
        },
        "id": "2dN89UIOrNn4",
        "outputId": "82a1b33e-690b-4074-9e80-d2339d5bf2ad"
      },
      "source": [
        "print(\"Before Reshape - x_test2_norm shape: {}\".format(x_test_norm2.shape))\n",
        "\n",
        "x_test2_reshaped=x_test_norm2.reshape( -1, 28, 28, 3)\n",
        "\n",
        "print(\"After Reshape - x_test2_reshaped shape: {}\".format(x_test2_reshaped.shape))"
      ],
      "execution_count": 269,
      "outputs": [
        {
          "output_type": "stream",
          "text": [
            "Before Reshape - x_test2_norm shape: (300, 28, 28, 3)\n",
            "After Reshape - x_test2_reshaped shape: (300, 28, 28, 3)\n"
          ],
          "name": "stdout"
        }
      ]
    },
    {
      "cell_type": "markdown",
      "metadata": {
        "id": "LiYoVTVDrai8"
      },
      "source": [
        "## Improve the model and apply the train dataset again"
      ]
    },
    {
      "cell_type": "code",
      "metadata": {
        "colab": {
          "base_uri": "https://localhost:8080/"
        },
        "id": "lV18d0d0red1",
        "outputId": "7835b691-dea8-4d91-ec40-9b32c8c8e9d8"
      },
      "source": [
        "channel_1 = 20\n",
        "channel_2 = 40\n",
        "dense = 30\n",
        "train_epoch = 15\n",
        "\n",
        "model=keras.models.Sequential()\n",
        "model.add(keras.layers.Conv2D(channel_1, (3,3), activation='relu', input_shape=(28,28,3)))\n",
        "model.add(keras.layers.MaxPool2D(2,2))\n",
        "model.add(keras.layers.Conv2D(channel_2, (3,3), activation='relu'))\n",
        "model.add(keras.layers.MaxPooling2D((2,2)))\n",
        "model.add(keras.layers.Flatten())\n",
        "model.add(keras.layers.Dense(dense, activation='relu'))\n",
        "model.add(keras.layers.Dense(3, activation='softmax'))\n",
        "\n",
        "print('Model에 추가된 Layer 개수: ', len(model.layers))\n",
        "\n",
        "model.summary()"
      ],
      "execution_count": 270,
      "outputs": [
        {
          "output_type": "stream",
          "text": [
            "Model에 추가된 Layer 개수:  7\n",
            "Model: \"sequential_50\"\n",
            "_________________________________________________________________\n",
            "Layer (type)                 Output Shape              Param #   \n",
            "=================================================================\n",
            "conv2d_100 (Conv2D)          (None, 26, 26, 20)        560       \n",
            "_________________________________________________________________\n",
            "max_pooling2d_100 (MaxPoolin (None, 13, 13, 20)        0         \n",
            "_________________________________________________________________\n",
            "conv2d_101 (Conv2D)          (None, 11, 11, 40)        7240      \n",
            "_________________________________________________________________\n",
            "max_pooling2d_101 (MaxPoolin (None, 5, 5, 40)          0         \n",
            "_________________________________________________________________\n",
            "flatten_50 (Flatten)         (None, 1000)              0         \n",
            "_________________________________________________________________\n",
            "dense_100 (Dense)            (None, 30)                30030     \n",
            "_________________________________________________________________\n",
            "dense_101 (Dense)            (None, 3)                 93        \n",
            "=================================================================\n",
            "Total params: 37,923\n",
            "Trainable params: 37,923\n",
            "Non-trainable params: 0\n",
            "_________________________________________________________________\n"
          ],
          "name": "stdout"
        }
      ]
    },
    {
      "cell_type": "code",
      "metadata": {
        "colab": {
          "base_uri": "https://localhost:8080/"
        },
        "id": "QmLv4d0rrsxW",
        "outputId": "0d99ebd9-7e75-46ee-c1da-a910ce600de1"
      },
      "source": [
        "model.compile(optimizer='adam',\n",
        "             loss='sparse_categorical_crossentropy',\n",
        "             metrics=['accuracy'])\n",
        "model.fit(x_train_reshaped, y_train, epochs=train_epoch)"
      ],
      "execution_count": 271,
      "outputs": [
        {
          "output_type": "stream",
          "text": [
            "Epoch 1/15\n",
            "76/76 [==============================] - 2s 23ms/step - loss: 1.0606 - accuracy: 0.4316\n",
            "Epoch 2/15\n",
            "76/76 [==============================] - 2s 23ms/step - loss: 0.8862 - accuracy: 0.6162\n",
            "Epoch 3/15\n",
            "76/76 [==============================] - 2s 24ms/step - loss: 0.6956 - accuracy: 0.7060\n",
            "Epoch 4/15\n",
            "76/76 [==============================] - 2s 27ms/step - loss: 0.5533 - accuracy: 0.7775\n",
            "Epoch 5/15\n",
            "76/76 [==============================] - 2s 24ms/step - loss: 0.4415 - accuracy: 0.8387\n",
            "Epoch 6/15\n",
            "76/76 [==============================] - 2s 24ms/step - loss: 0.3840 - accuracy: 0.8511\n",
            "Epoch 7/15\n",
            "76/76 [==============================] - 2s 24ms/step - loss: 0.3038 - accuracy: 0.8877\n",
            "Epoch 8/15\n",
            "76/76 [==============================] - 2s 24ms/step - loss: 0.2691 - accuracy: 0.9085\n",
            "Epoch 9/15\n",
            "76/76 [==============================] - 2s 24ms/step - loss: 0.2311 - accuracy: 0.9202\n",
            "Epoch 10/15\n",
            "76/76 [==============================] - 2s 23ms/step - loss: 0.1921 - accuracy: 0.9372\n",
            "Epoch 11/15\n",
            "76/76 [==============================] - 2s 23ms/step - loss: 0.1842 - accuracy: 0.9331\n",
            "Epoch 12/15\n",
            "76/76 [==============================] - 2s 23ms/step - loss: 0.1471 - accuracy: 0.9522\n",
            "Epoch 13/15\n",
            "76/76 [==============================] - 2s 23ms/step - loss: 0.1464 - accuracy: 0.9509\n",
            "Epoch 14/15\n",
            "76/76 [==============================] - 2s 23ms/step - loss: 0.1186 - accuracy: 0.9609\n",
            "Epoch 15/15\n",
            "76/76 [==============================] - 2s 23ms/step - loss: 0.1034 - accuracy: 0.9684\n"
          ],
          "name": "stdout"
        },
        {
          "output_type": "execute_result",
          "data": {
            "text/plain": [
              "<tensorflow.python.keras.callbacks.History at 0x7f3053859cd0>"
            ]
          },
          "metadata": {
            "tags": []
          },
          "execution_count": 271
        }
      ]
    },
    {
      "cell_type": "markdown",
      "metadata": {
        "id": "1EAcATwzm6Xk"
      },
      "source": [
        "### Evaluate the model accuracy with the unseen data"
      ]
    },
    {
      "cell_type": "code",
      "metadata": {
        "colab": {
          "base_uri": "https://localhost:8080/"
        },
        "id": "0ZDUTWsrnA4v",
        "outputId": "25160b1e-12eb-4c17-82a6-8918f2948718"
      },
      "source": [
        "test_loss, test_accuracy = model.evaluate(x_test2_reshaped, y_test2, verbose=2)\n",
        "print(\"test_loss: {} \".format(test_loss))\n",
        "print(\"test_accuracy: {}\".format(test_accuracy))"
      ],
      "execution_count": 272,
      "outputs": [
        {
          "output_type": "stream",
          "text": [
            "10/10 - 0s - loss: 1.9325 - accuracy: 0.6667\n",
            "test_loss: 1.9324795007705688 \n",
            "test_accuracy: 0.6666666865348816\n"
          ],
          "name": "stdout"
        }
      ]
    },
    {
      "cell_type": "markdown",
      "metadata": {
        "id": "VRN08IcVEam3"
      },
      "source": [
        "Hoooooray! "
      ]
    }
  ]
}