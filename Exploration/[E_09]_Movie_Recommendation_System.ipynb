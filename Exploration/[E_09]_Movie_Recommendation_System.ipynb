{
  "nbformat": 4,
  "nbformat_minor": 0,
  "metadata": {
    "colab": {
      "name": "[E_09]_Movie_Recommendation_System.ipynb",
      "provenance": [],
      "collapsed_sections": [],
      "authorship_tag": "ABX9TyPHjJzYsHgSmX7ZM1Zx8DCm",
      "include_colab_link": true
    },
    "kernelspec": {
      "name": "python3",
      "display_name": "Python 3"
    },
    "language_info": {
      "name": "python"
    },
    "widgets": {
      "application/vnd.jupyter.widget-state+json": {
        "685dd508ca0b409b87ed40ac3023bf52": {
          "model_module": "@jupyter-widgets/controls",
          "model_name": "HBoxModel",
          "model_module_version": "1.5.0",
          "state": {
            "_view_name": "HBoxView",
            "_dom_classes": [],
            "_model_name": "HBoxModel",
            "_view_module": "@jupyter-widgets/controls",
            "_model_module_version": "1.5.0",
            "_view_count": null,
            "_view_module_version": "1.5.0",
            "box_style": "",
            "layout": "IPY_MODEL_e809c300017b443d8b3af026ceaecfb6",
            "_model_module": "@jupyter-widgets/controls",
            "children": [
              "IPY_MODEL_9346b9bc671a43409a6f6224d80bcf46",
              "IPY_MODEL_acc8cfef22bf426baf74004605105c08",
              "IPY_MODEL_f94b844a48d74a4abeb9afb18bfe0433"
            ]
          }
        },
        "e809c300017b443d8b3af026ceaecfb6": {
          "model_module": "@jupyter-widgets/base",
          "model_name": "LayoutModel",
          "model_module_version": "1.2.0",
          "state": {
            "_view_name": "LayoutView",
            "grid_template_rows": null,
            "right": null,
            "justify_content": null,
            "_view_module": "@jupyter-widgets/base",
            "overflow": null,
            "_model_module_version": "1.2.0",
            "_view_count": null,
            "flex_flow": null,
            "width": null,
            "min_width": null,
            "border": null,
            "align_items": null,
            "bottom": null,
            "_model_module": "@jupyter-widgets/base",
            "top": null,
            "grid_column": null,
            "overflow_y": null,
            "overflow_x": null,
            "grid_auto_flow": null,
            "grid_area": null,
            "grid_template_columns": null,
            "flex": null,
            "_model_name": "LayoutModel",
            "justify_items": null,
            "grid_row": null,
            "max_height": null,
            "align_content": null,
            "visibility": null,
            "align_self": null,
            "height": null,
            "min_height": null,
            "padding": null,
            "grid_auto_rows": null,
            "grid_gap": null,
            "max_width": null,
            "order": null,
            "_view_module_version": "1.2.0",
            "grid_template_areas": null,
            "object_position": null,
            "object_fit": null,
            "grid_auto_columns": null,
            "margin": null,
            "display": null,
            "left": null
          }
        },
        "9346b9bc671a43409a6f6224d80bcf46": {
          "model_module": "@jupyter-widgets/controls",
          "model_name": "HTMLModel",
          "model_module_version": "1.5.0",
          "state": {
            "_view_name": "HTMLView",
            "style": "IPY_MODEL_f0491a19c70f4d91865addc1b28dfcd4",
            "_dom_classes": [],
            "description": "",
            "_model_name": "HTMLModel",
            "placeholder": "​",
            "_view_module": "@jupyter-widgets/controls",
            "_model_module_version": "1.5.0",
            "value": "100%",
            "_view_count": null,
            "_view_module_version": "1.5.0",
            "description_tooltip": null,
            "_model_module": "@jupyter-widgets/controls",
            "layout": "IPY_MODEL_27d1b067339f4e7d902cb04ebc2c8803"
          }
        },
        "acc8cfef22bf426baf74004605105c08": {
          "model_module": "@jupyter-widgets/controls",
          "model_name": "FloatProgressModel",
          "model_module_version": "1.5.0",
          "state": {
            "_view_name": "ProgressView",
            "style": "IPY_MODEL_abf3462337c24ca79d2547098dddf8ac",
            "_dom_classes": [],
            "description": "",
            "_model_name": "FloatProgressModel",
            "bar_style": "success",
            "max": 30,
            "_view_module": "@jupyter-widgets/controls",
            "_model_module_version": "1.5.0",
            "value": 30,
            "_view_count": null,
            "_view_module_version": "1.5.0",
            "orientation": "horizontal",
            "min": 0,
            "description_tooltip": null,
            "_model_module": "@jupyter-widgets/controls",
            "layout": "IPY_MODEL_6e0571eda8994814807c0f3e9ad4347b"
          }
        },
        "f94b844a48d74a4abeb9afb18bfe0433": {
          "model_module": "@jupyter-widgets/controls",
          "model_name": "HTMLModel",
          "model_module_version": "1.5.0",
          "state": {
            "_view_name": "HTMLView",
            "style": "IPY_MODEL_09ac2726bebf41f7b16b27ccff4315c5",
            "_dom_classes": [],
            "description": "",
            "_model_name": "HTMLModel",
            "placeholder": "​",
            "_view_module": "@jupyter-widgets/controls",
            "_model_module_version": "1.5.0",
            "value": " 30/30 [00:43&lt;00:00,  1.37s/it]",
            "_view_count": null,
            "_view_module_version": "1.5.0",
            "description_tooltip": null,
            "_model_module": "@jupyter-widgets/controls",
            "layout": "IPY_MODEL_56831899386c4a46ac4cf6afb094ddf7"
          }
        },
        "f0491a19c70f4d91865addc1b28dfcd4": {
          "model_module": "@jupyter-widgets/controls",
          "model_name": "DescriptionStyleModel",
          "model_module_version": "1.5.0",
          "state": {
            "_view_name": "StyleView",
            "_model_name": "DescriptionStyleModel",
            "description_width": "",
            "_view_module": "@jupyter-widgets/base",
            "_model_module_version": "1.5.0",
            "_view_count": null,
            "_view_module_version": "1.2.0",
            "_model_module": "@jupyter-widgets/controls"
          }
        },
        "27d1b067339f4e7d902cb04ebc2c8803": {
          "model_module": "@jupyter-widgets/base",
          "model_name": "LayoutModel",
          "model_module_version": "1.2.0",
          "state": {
            "_view_name": "LayoutView",
            "grid_template_rows": null,
            "right": null,
            "justify_content": null,
            "_view_module": "@jupyter-widgets/base",
            "overflow": null,
            "_model_module_version": "1.2.0",
            "_view_count": null,
            "flex_flow": null,
            "width": null,
            "min_width": null,
            "border": null,
            "align_items": null,
            "bottom": null,
            "_model_module": "@jupyter-widgets/base",
            "top": null,
            "grid_column": null,
            "overflow_y": null,
            "overflow_x": null,
            "grid_auto_flow": null,
            "grid_area": null,
            "grid_template_columns": null,
            "flex": null,
            "_model_name": "LayoutModel",
            "justify_items": null,
            "grid_row": null,
            "max_height": null,
            "align_content": null,
            "visibility": null,
            "align_self": null,
            "height": null,
            "min_height": null,
            "padding": null,
            "grid_auto_rows": null,
            "grid_gap": null,
            "max_width": null,
            "order": null,
            "_view_module_version": "1.2.0",
            "grid_template_areas": null,
            "object_position": null,
            "object_fit": null,
            "grid_auto_columns": null,
            "margin": null,
            "display": null,
            "left": null
          }
        },
        "abf3462337c24ca79d2547098dddf8ac": {
          "model_module": "@jupyter-widgets/controls",
          "model_name": "ProgressStyleModel",
          "model_module_version": "1.5.0",
          "state": {
            "_view_name": "StyleView",
            "_model_name": "ProgressStyleModel",
            "description_width": "",
            "_view_module": "@jupyter-widgets/base",
            "_model_module_version": "1.5.0",
            "_view_count": null,
            "_view_module_version": "1.2.0",
            "bar_color": null,
            "_model_module": "@jupyter-widgets/controls"
          }
        },
        "6e0571eda8994814807c0f3e9ad4347b": {
          "model_module": "@jupyter-widgets/base",
          "model_name": "LayoutModel",
          "model_module_version": "1.2.0",
          "state": {
            "_view_name": "LayoutView",
            "grid_template_rows": null,
            "right": null,
            "justify_content": null,
            "_view_module": "@jupyter-widgets/base",
            "overflow": null,
            "_model_module_version": "1.2.0",
            "_view_count": null,
            "flex_flow": null,
            "width": null,
            "min_width": null,
            "border": null,
            "align_items": null,
            "bottom": null,
            "_model_module": "@jupyter-widgets/base",
            "top": null,
            "grid_column": null,
            "overflow_y": null,
            "overflow_x": null,
            "grid_auto_flow": null,
            "grid_area": null,
            "grid_template_columns": null,
            "flex": null,
            "_model_name": "LayoutModel",
            "justify_items": null,
            "grid_row": null,
            "max_height": null,
            "align_content": null,
            "visibility": null,
            "align_self": null,
            "height": null,
            "min_height": null,
            "padding": null,
            "grid_auto_rows": null,
            "grid_gap": null,
            "max_width": null,
            "order": null,
            "_view_module_version": "1.2.0",
            "grid_template_areas": null,
            "object_position": null,
            "object_fit": null,
            "grid_auto_columns": null,
            "margin": null,
            "display": null,
            "left": null
          }
        },
        "09ac2726bebf41f7b16b27ccff4315c5": {
          "model_module": "@jupyter-widgets/controls",
          "model_name": "DescriptionStyleModel",
          "model_module_version": "1.5.0",
          "state": {
            "_view_name": "StyleView",
            "_model_name": "DescriptionStyleModel",
            "description_width": "",
            "_view_module": "@jupyter-widgets/base",
            "_model_module_version": "1.5.0",
            "_view_count": null,
            "_view_module_version": "1.2.0",
            "_model_module": "@jupyter-widgets/controls"
          }
        },
        "56831899386c4a46ac4cf6afb094ddf7": {
          "model_module": "@jupyter-widgets/base",
          "model_name": "LayoutModel",
          "model_module_version": "1.2.0",
          "state": {
            "_view_name": "LayoutView",
            "grid_template_rows": null,
            "right": null,
            "justify_content": null,
            "_view_module": "@jupyter-widgets/base",
            "overflow": null,
            "_model_module_version": "1.2.0",
            "_view_count": null,
            "flex_flow": null,
            "width": null,
            "min_width": null,
            "border": null,
            "align_items": null,
            "bottom": null,
            "_model_module": "@jupyter-widgets/base",
            "top": null,
            "grid_column": null,
            "overflow_y": null,
            "overflow_x": null,
            "grid_auto_flow": null,
            "grid_area": null,
            "grid_template_columns": null,
            "flex": null,
            "_model_name": "LayoutModel",
            "justify_items": null,
            "grid_row": null,
            "max_height": null,
            "align_content": null,
            "visibility": null,
            "align_self": null,
            "height": null,
            "min_height": null,
            "padding": null,
            "grid_auto_rows": null,
            "grid_gap": null,
            "max_width": null,
            "order": null,
            "_view_module_version": "1.2.0",
            "grid_template_areas": null,
            "object_position": null,
            "object_fit": null,
            "grid_auto_columns": null,
            "margin": null,
            "display": null,
            "left": null
          }
        }
      }
    }
  },
  "cells": [
    {
      "cell_type": "markdown",
      "metadata": {
        "id": "view-in-github",
        "colab_type": "text"
      },
      "source": [
        "<a href=\"https://colab.research.google.com/github/jieunjeon/Data-Science-Fundamental/blob/master/Exploration/%5BE_09%5D_Movie_Recommendation_System.ipynb\" target=\"_parent\"><img src=\"https://colab.research.google.com/assets/colab-badge.svg\" alt=\"Open In Colab\"/></a>"
      ]
    },
    {
      "cell_type": "markdown",
      "metadata": {
        "id": "XmbqdmsYHcDB"
      },
      "source": [
        "# Movie Recommender System (MovieLens)\n",
        "\n",
        "## Goal of this project:\n",
        "- Understand the concept and purpose of a recommendation system.\n",
        "- Create a Matrix Factorization (hereinafter MF)-based recommendation model - using the implicit library.\n",
        "- Learn CSR Matrix, a data structure frequently used in recommender systems.\n",
        "- Learn the difference between explicit data and implicit data among user behavior data.\n",
        "- Create my own recommendation model with a new dataset.\n",
        "\n",
        "## MovieLens Dataset\n",
        "- The data shows how users rate movies by data size. We recommend using the MovieLens 1M Dataset.\n",
        "- Star rating data is representative explicit data. But you can consider it implicit data and test it out.\n",
        "- Notice that the star rating as the number of views.\n",
        "- Assume that data with less than 3 points is not preferred.\n",
        "- [MovieLens 1M Dataset](https://grouplens.org/datasets/movielens/1m/)"
      ]
    },
    {
      "cell_type": "markdown",
      "metadata": {
        "id": "QSvW5s6CWbB7"
      },
      "source": [
        "# Table of Contents\n",
        "1. Load the Data\n",
        "2. Analyze the dataset\n",
        "3. Add my 5 fav movies to the 'rating'\n",
        "4. Create CSR Matrix\n",
        "5. Create ALS model and train (AlternatingLeastSquares)\n",
        "6. Get preference level of my fav movies from the trained model\n",
        "7. Get recommendations for movies that are similar to your favorite movies."
      ]
    },
    {
      "cell_type": "code",
      "metadata": {
        "colab": {
          "base_uri": "https://localhost:8080/"
        },
        "id": "cFk_3HoYWaJF",
        "outputId": "72afceeb-b474-4f79-8b64-6052e77e1c59"
      },
      "source": [
        "from google.colab import drive\n",
        "drive.mount('/content/drive')"
      ],
      "execution_count": 1,
      "outputs": [
        {
          "output_type": "stream",
          "text": [
            "Mounted at /content/drive\n"
          ],
          "name": "stdout"
        }
      ]
    },
    {
      "cell_type": "code",
      "metadata": {
        "colab": {
          "base_uri": "https://localhost:8080/"
        },
        "id": "PfQFOb-JN45J",
        "outputId": "8b412ab9-cf8d-45a3-b66f-b4b979984567"
      },
      "source": [
        "!pip install implicit"
      ],
      "execution_count": 43,
      "outputs": [
        {
          "output_type": "stream",
          "text": [
            "Collecting implicit\n",
            "  Downloading implicit-0.4.4.tar.gz (1.1 MB)\n",
            "\u001b[?25l\r\u001b[K     |▎                               | 10 kB 20.8 MB/s eta 0:00:01\r\u001b[K     |▋                               | 20 kB 27.6 MB/s eta 0:00:01\r\u001b[K     |▉                               | 30 kB 30.0 MB/s eta 0:00:01\r\u001b[K     |█▏                              | 40 kB 30.1 MB/s eta 0:00:01\r\u001b[K     |█▌                              | 51 kB 32.1 MB/s eta 0:00:01\r\u001b[K     |█▊                              | 61 kB 33.5 MB/s eta 0:00:01\r\u001b[K     |██                              | 71 kB 23.9 MB/s eta 0:00:01\r\u001b[K     |██▍                             | 81 kB 25.5 MB/s eta 0:00:01\r\u001b[K     |██▋                             | 92 kB 27.3 MB/s eta 0:00:01\r\u001b[K     |███                             | 102 kB 27.5 MB/s eta 0:00:01\r\u001b[K     |███▎                            | 112 kB 27.5 MB/s eta 0:00:01\r\u001b[K     |███▌                            | 122 kB 27.5 MB/s eta 0:00:01\r\u001b[K     |███▉                            | 133 kB 27.5 MB/s eta 0:00:01\r\u001b[K     |████▏                           | 143 kB 27.5 MB/s eta 0:00:01\r\u001b[K     |████▍                           | 153 kB 27.5 MB/s eta 0:00:01\r\u001b[K     |████▊                           | 163 kB 27.5 MB/s eta 0:00:01\r\u001b[K     |█████                           | 174 kB 27.5 MB/s eta 0:00:01\r\u001b[K     |█████▎                          | 184 kB 27.5 MB/s eta 0:00:01\r\u001b[K     |█████▋                          | 194 kB 27.5 MB/s eta 0:00:01\r\u001b[K     |██████                          | 204 kB 27.5 MB/s eta 0:00:01\r\u001b[K     |██████▏                         | 215 kB 27.5 MB/s eta 0:00:01\r\u001b[K     |██████▌                         | 225 kB 27.5 MB/s eta 0:00:01\r\u001b[K     |██████▉                         | 235 kB 27.5 MB/s eta 0:00:01\r\u001b[K     |███████                         | 245 kB 27.5 MB/s eta 0:00:01\r\u001b[K     |███████▍                        | 256 kB 27.5 MB/s eta 0:00:01\r\u001b[K     |███████▊                        | 266 kB 27.5 MB/s eta 0:00:01\r\u001b[K     |████████                        | 276 kB 27.5 MB/s eta 0:00:01\r\u001b[K     |████████▎                       | 286 kB 27.5 MB/s eta 0:00:01\r\u001b[K     |████████▋                       | 296 kB 27.5 MB/s eta 0:00:01\r\u001b[K     |████████▉                       | 307 kB 27.5 MB/s eta 0:00:01\r\u001b[K     |█████████▏                      | 317 kB 27.5 MB/s eta 0:00:01\r\u001b[K     |█████████▌                      | 327 kB 27.5 MB/s eta 0:00:01\r\u001b[K     |█████████▊                      | 337 kB 27.5 MB/s eta 0:00:01\r\u001b[K     |██████████                      | 348 kB 27.5 MB/s eta 0:00:01\r\u001b[K     |██████████▍                     | 358 kB 27.5 MB/s eta 0:00:01\r\u001b[K     |██████████▋                     | 368 kB 27.5 MB/s eta 0:00:01\r\u001b[K     |███████████                     | 378 kB 27.5 MB/s eta 0:00:01\r\u001b[K     |███████████▏                    | 389 kB 27.5 MB/s eta 0:00:01\r\u001b[K     |███████████▌                    | 399 kB 27.5 MB/s eta 0:00:01\r\u001b[K     |███████████▉                    | 409 kB 27.5 MB/s eta 0:00:01\r\u001b[K     |████████████                    | 419 kB 27.5 MB/s eta 0:00:01\r\u001b[K     |████████████▍                   | 430 kB 27.5 MB/s eta 0:00:01\r\u001b[K     |████████████▊                   | 440 kB 27.5 MB/s eta 0:00:01\r\u001b[K     |█████████████                   | 450 kB 27.5 MB/s eta 0:00:01\r\u001b[K     |█████████████▎                  | 460 kB 27.5 MB/s eta 0:00:01\r\u001b[K     |█████████████▋                  | 471 kB 27.5 MB/s eta 0:00:01\r\u001b[K     |█████████████▉                  | 481 kB 27.5 MB/s eta 0:00:01\r\u001b[K     |██████████████▏                 | 491 kB 27.5 MB/s eta 0:00:01\r\u001b[K     |██████████████▌                 | 501 kB 27.5 MB/s eta 0:00:01\r\u001b[K     |██████████████▊                 | 512 kB 27.5 MB/s eta 0:00:01\r\u001b[K     |███████████████                 | 522 kB 27.5 MB/s eta 0:00:01\r\u001b[K     |███████████████▍                | 532 kB 27.5 MB/s eta 0:00:01\r\u001b[K     |███████████████▋                | 542 kB 27.5 MB/s eta 0:00:01\r\u001b[K     |████████████████                | 552 kB 27.5 MB/s eta 0:00:01\r\u001b[K     |████████████████▎               | 563 kB 27.5 MB/s eta 0:00:01\r\u001b[K     |████████████████▌               | 573 kB 27.5 MB/s eta 0:00:01\r\u001b[K     |████████████████▉               | 583 kB 27.5 MB/s eta 0:00:01\r\u001b[K     |█████████████████▏              | 593 kB 27.5 MB/s eta 0:00:01\r\u001b[K     |█████████████████▍              | 604 kB 27.5 MB/s eta 0:00:01\r\u001b[K     |█████████████████▊              | 614 kB 27.5 MB/s eta 0:00:01\r\u001b[K     |██████████████████              | 624 kB 27.5 MB/s eta 0:00:01\r\u001b[K     |██████████████████▎             | 634 kB 27.5 MB/s eta 0:00:01\r\u001b[K     |██████████████████▋             | 645 kB 27.5 MB/s eta 0:00:01\r\u001b[K     |███████████████████             | 655 kB 27.5 MB/s eta 0:00:01\r\u001b[K     |███████████████████▏            | 665 kB 27.5 MB/s eta 0:00:01\r\u001b[K     |███████████████████▌            | 675 kB 27.5 MB/s eta 0:00:01\r\u001b[K     |███████████████████▉            | 686 kB 27.5 MB/s eta 0:00:01\r\u001b[K     |████████████████████            | 696 kB 27.5 MB/s eta 0:00:01\r\u001b[K     |████████████████████▍           | 706 kB 27.5 MB/s eta 0:00:01\r\u001b[K     |████████████████████▊           | 716 kB 27.5 MB/s eta 0:00:01\r\u001b[K     |█████████████████████           | 727 kB 27.5 MB/s eta 0:00:01\r\u001b[K     |█████████████████████▎          | 737 kB 27.5 MB/s eta 0:00:01\r\u001b[K     |█████████████████████▋          | 747 kB 27.5 MB/s eta 0:00:01\r\u001b[K     |█████████████████████▉          | 757 kB 27.5 MB/s eta 0:00:01\r\u001b[K     |██████████████████████▏         | 768 kB 27.5 MB/s eta 0:00:01\r\u001b[K     |██████████████████████▍         | 778 kB 27.5 MB/s eta 0:00:01\r\u001b[K     |██████████████████████▊         | 788 kB 27.5 MB/s eta 0:00:01\r\u001b[K     |███████████████████████         | 798 kB 27.5 MB/s eta 0:00:01\r\u001b[K     |███████████████████████▎        | 808 kB 27.5 MB/s eta 0:00:01\r\u001b[K     |███████████████████████▋        | 819 kB 27.5 MB/s eta 0:00:01\r\u001b[K     |████████████████████████        | 829 kB 27.5 MB/s eta 0:00:01\r\u001b[K     |████████████████████████▏       | 839 kB 27.5 MB/s eta 0:00:01\r\u001b[K     |████████████████████████▌       | 849 kB 27.5 MB/s eta 0:00:01\r\u001b[K     |████████████████████████▉       | 860 kB 27.5 MB/s eta 0:00:01\r\u001b[K     |█████████████████████████       | 870 kB 27.5 MB/s eta 0:00:01\r\u001b[K     |█████████████████████████▍      | 880 kB 27.5 MB/s eta 0:00:01\r\u001b[K     |█████████████████████████▊      | 890 kB 27.5 MB/s eta 0:00:01\r\u001b[K     |██████████████████████████      | 901 kB 27.5 MB/s eta 0:00:01\r\u001b[K     |██████████████████████████▎     | 911 kB 27.5 MB/s eta 0:00:01\r\u001b[K     |██████████████████████████▋     | 921 kB 27.5 MB/s eta 0:00:01\r\u001b[K     |██████████████████████████▉     | 931 kB 27.5 MB/s eta 0:00:01\r\u001b[K     |███████████████████████████▏    | 942 kB 27.5 MB/s eta 0:00:01\r\u001b[K     |███████████████████████████▌    | 952 kB 27.5 MB/s eta 0:00:01\r\u001b[K     |███████████████████████████▊    | 962 kB 27.5 MB/s eta 0:00:01\r\u001b[K     |████████████████████████████    | 972 kB 27.5 MB/s eta 0:00:01\r\u001b[K     |████████████████████████████▍   | 983 kB 27.5 MB/s eta 0:00:01\r\u001b[K     |████████████████████████████▋   | 993 kB 27.5 MB/s eta 0:00:01\r\u001b[K     |█████████████████████████████   | 1.0 MB 27.5 MB/s eta 0:00:01\r\u001b[K     |█████████████████████████████▎  | 1.0 MB 27.5 MB/s eta 0:00:01\r\u001b[K     |█████████████████████████████▌  | 1.0 MB 27.5 MB/s eta 0:00:01\r\u001b[K     |█████████████████████████████▉  | 1.0 MB 27.5 MB/s eta 0:00:01\r\u001b[K     |██████████████████████████████▏ | 1.0 MB 27.5 MB/s eta 0:00:01\r\u001b[K     |██████████████████████████████▍ | 1.1 MB 27.5 MB/s eta 0:00:01\r\u001b[K     |██████████████████████████████▊ | 1.1 MB 27.5 MB/s eta 0:00:01\r\u001b[K     |███████████████████████████████ | 1.1 MB 27.5 MB/s eta 0:00:01\r\u001b[K     |███████████████████████████████▎| 1.1 MB 27.5 MB/s eta 0:00:01\r\u001b[K     |███████████████████████████████▋| 1.1 MB 27.5 MB/s eta 0:00:01\r\u001b[K     |████████████████████████████████| 1.1 MB 27.5 MB/s eta 0:00:01\r\u001b[K     |████████████████████████████████| 1.1 MB 27.5 MB/s \n",
            "\u001b[?25hRequirement already satisfied: numpy in /usr/local/lib/python3.7/dist-packages (from implicit) (1.19.5)\n",
            "Requirement already satisfied: scipy>=0.16 in /usr/local/lib/python3.7/dist-packages (from implicit) (1.4.1)\n",
            "Requirement already satisfied: tqdm>=4.27 in /usr/local/lib/python3.7/dist-packages (from implicit) (4.62.0)\n",
            "Building wheels for collected packages: implicit\n",
            "  Building wheel for implicit (setup.py) ... \u001b[?25l\u001b[?25hdone\n",
            "  Created wheel for implicit: filename=implicit-0.4.4-cp37-cp37m-linux_x86_64.whl size=3409592 sha256=7b61739c1955edfef940ca76efda3094b494232aa9197296dcc2c9cb10d047e8\n",
            "  Stored in directory: /root/.cache/pip/wheels/44/7e/7d/a17324ea207cfbe76aca878b5b8ca0aa932cf55d163329be37\n",
            "Successfully built implicit\n",
            "Installing collected packages: implicit\n",
            "Successfully installed implicit-0.4.4\n"
          ],
          "name": "stdout"
        }
      ]
    },
    {
      "cell_type": "code",
      "metadata": {
        "id": "lLDv_0upN1yH"
      },
      "source": [
        "import pandas as pd\n",
        "import os\n",
        "from scipy.sparse import csr_matrix\n",
        "from implicit.als import AlternatingLeastSquares\n",
        "import os\n",
        "import numpy as np"
      ],
      "execution_count": 146,
      "outputs": []
    },
    {
      "cell_type": "markdown",
      "metadata": {
        "id": "Ps1xWxT0MNYS"
      },
      "source": [
        "# 1. Load the Data"
      ]
    },
    {
      "cell_type": "code",
      "metadata": {
        "id": "O6IAdcaZWy41"
      },
      "source": [
        "data_path = '/content/drive/MyDrive/aiffel/EXP_9_data/'"
      ],
      "execution_count": 147,
      "outputs": []
    },
    {
      "cell_type": "code",
      "metadata": {
        "id": "MmvnnIJ8G7R2",
        "colab": {
          "base_uri": "https://localhost:8080/",
          "height": 204
        },
        "outputId": "3a0ef63d-009a-4265-a899-7c7e7dbbcd38"
      },
      "source": [
        "import pandas as pd\n",
        "import os\n",
        "rating_file_path = data_path + 'ratings.dat'\n",
        "ratings_cols = ['user_id', 'movie_id', 'rating', 'timestamp']\n",
        "ratings = pd.read_csv(rating_file_path, sep='::', names=ratings_cols, engine='python')\n",
        "orginal_data_size = len(ratings)\n",
        "ratings.head()"
      ],
      "execution_count": 164,
      "outputs": [
        {
          "output_type": "execute_result",
          "data": {
            "text/html": [
              "<div>\n",
              "<style scoped>\n",
              "    .dataframe tbody tr th:only-of-type {\n",
              "        vertical-align: middle;\n",
              "    }\n",
              "\n",
              "    .dataframe tbody tr th {\n",
              "        vertical-align: top;\n",
              "    }\n",
              "\n",
              "    .dataframe thead th {\n",
              "        text-align: right;\n",
              "    }\n",
              "</style>\n",
              "<table border=\"1\" class=\"dataframe\">\n",
              "  <thead>\n",
              "    <tr style=\"text-align: right;\">\n",
              "      <th></th>\n",
              "      <th>user_id</th>\n",
              "      <th>movie_id</th>\n",
              "      <th>rating</th>\n",
              "      <th>timestamp</th>\n",
              "    </tr>\n",
              "  </thead>\n",
              "  <tbody>\n",
              "    <tr>\n",
              "      <th>0</th>\n",
              "      <td>1</td>\n",
              "      <td>1193</td>\n",
              "      <td>5</td>\n",
              "      <td>978300760</td>\n",
              "    </tr>\n",
              "    <tr>\n",
              "      <th>1</th>\n",
              "      <td>1</td>\n",
              "      <td>661</td>\n",
              "      <td>3</td>\n",
              "      <td>978302109</td>\n",
              "    </tr>\n",
              "    <tr>\n",
              "      <th>2</th>\n",
              "      <td>1</td>\n",
              "      <td>914</td>\n",
              "      <td>3</td>\n",
              "      <td>978301968</td>\n",
              "    </tr>\n",
              "    <tr>\n",
              "      <th>3</th>\n",
              "      <td>1</td>\n",
              "      <td>3408</td>\n",
              "      <td>4</td>\n",
              "      <td>978300275</td>\n",
              "    </tr>\n",
              "    <tr>\n",
              "      <th>4</th>\n",
              "      <td>1</td>\n",
              "      <td>2355</td>\n",
              "      <td>5</td>\n",
              "      <td>978824291</td>\n",
              "    </tr>\n",
              "  </tbody>\n",
              "</table>\n",
              "</div>"
            ],
            "text/plain": [
              "   user_id  movie_id  rating  timestamp\n",
              "0        1      1193       5  978300760\n",
              "1        1       661       3  978302109\n",
              "2        1       914       3  978301968\n",
              "3        1      3408       4  978300275\n",
              "4        1      2355       5  978824291"
            ]
          },
          "metadata": {},
          "execution_count": 164
        }
      ]
    },
    {
      "cell_type": "code",
      "metadata": {
        "colab": {
          "base_uri": "https://localhost:8080/"
        },
        "id": "zEeeEyakL4WT",
        "outputId": "5ade17ca-14ab-4603-e0d2-7dc6be1ae9e2"
      },
      "source": [
        "ratings = ratings[ratings['rating']>=3]\n",
        "filtered_data_size = len(ratings)\n",
        "\n",
        "print(f'orginal_data_size: {orginal_data_size}, filtered_data_size: {filtered_data_size}')\n",
        "print(f'Ratio of Remaining Data is {filtered_data_size / orginal_data_size:.2%}')"
      ],
      "execution_count": 165,
      "outputs": [
        {
          "output_type": "stream",
          "text": [
            "orginal_data_size: 1000209, filtered_data_size: 836478\n",
            "Ratio of Remaining Data is 83.63%\n"
          ],
          "name": "stdout"
        }
      ]
    },
    {
      "cell_type": "code",
      "metadata": {
        "id": "dEbFgr7LL9S8"
      },
      "source": [
        "ratings.rename(columns={'rating':'count'}, inplace=True)"
      ],
      "execution_count": 166,
      "outputs": []
    },
    {
      "cell_type": "code",
      "metadata": {
        "colab": {
          "base_uri": "https://localhost:8080/"
        },
        "id": "GAsakN83N1XG",
        "outputId": "d28e8cd4-af42-496a-8060-79ce1180e1f2"
      },
      "source": [
        "ratings['count']"
      ],
      "execution_count": 167,
      "outputs": [
        {
          "output_type": "execute_result",
          "data": {
            "text/plain": [
              "0          5\n",
              "1          3\n",
              "2          3\n",
              "3          4\n",
              "4          5\n",
              "          ..\n",
              "1000203    3\n",
              "1000205    5\n",
              "1000206    5\n",
              "1000207    4\n",
              "1000208    4\n",
              "Name: count, Length: 836478, dtype: int64"
            ]
          },
          "metadata": {},
          "execution_count": 167
        }
      ]
    },
    {
      "cell_type": "code",
      "metadata": {
        "colab": {
          "base_uri": "https://localhost:8080/",
          "height": 204
        },
        "id": "thmUFZhbL-sY",
        "outputId": "26aaec4b-2134-4277-c05e-0ec7cef0064c"
      },
      "source": [
        "movie_file_path = data_path + 'movies.dat'\n",
        "cols = ['movie_id', 'title', 'genre'] \n",
        "movies = pd.read_csv(movie_file_path, sep='::', names=cols, engine='python')\n",
        "movies.head()"
      ],
      "execution_count": 168,
      "outputs": [
        {
          "output_type": "execute_result",
          "data": {
            "text/html": [
              "<div>\n",
              "<style scoped>\n",
              "    .dataframe tbody tr th:only-of-type {\n",
              "        vertical-align: middle;\n",
              "    }\n",
              "\n",
              "    .dataframe tbody tr th {\n",
              "        vertical-align: top;\n",
              "    }\n",
              "\n",
              "    .dataframe thead th {\n",
              "        text-align: right;\n",
              "    }\n",
              "</style>\n",
              "<table border=\"1\" class=\"dataframe\">\n",
              "  <thead>\n",
              "    <tr style=\"text-align: right;\">\n",
              "      <th></th>\n",
              "      <th>movie_id</th>\n",
              "      <th>title</th>\n",
              "      <th>genre</th>\n",
              "    </tr>\n",
              "  </thead>\n",
              "  <tbody>\n",
              "    <tr>\n",
              "      <th>0</th>\n",
              "      <td>1</td>\n",
              "      <td>Toy Story (1995)</td>\n",
              "      <td>Animation|Children's|Comedy</td>\n",
              "    </tr>\n",
              "    <tr>\n",
              "      <th>1</th>\n",
              "      <td>2</td>\n",
              "      <td>Jumanji (1995)</td>\n",
              "      <td>Adventure|Children's|Fantasy</td>\n",
              "    </tr>\n",
              "    <tr>\n",
              "      <th>2</th>\n",
              "      <td>3</td>\n",
              "      <td>Grumpier Old Men (1995)</td>\n",
              "      <td>Comedy|Romance</td>\n",
              "    </tr>\n",
              "    <tr>\n",
              "      <th>3</th>\n",
              "      <td>4</td>\n",
              "      <td>Waiting to Exhale (1995)</td>\n",
              "      <td>Comedy|Drama</td>\n",
              "    </tr>\n",
              "    <tr>\n",
              "      <th>4</th>\n",
              "      <td>5</td>\n",
              "      <td>Father of the Bride Part II (1995)</td>\n",
              "      <td>Comedy</td>\n",
              "    </tr>\n",
              "  </tbody>\n",
              "</table>\n",
              "</div>"
            ],
            "text/plain": [
              "   movie_id                               title                         genre\n",
              "0         1                    Toy Story (1995)   Animation|Children's|Comedy\n",
              "1         2                      Jumanji (1995)  Adventure|Children's|Fantasy\n",
              "2         3             Grumpier Old Men (1995)                Comedy|Romance\n",
              "3         4            Waiting to Exhale (1995)                  Comedy|Drama\n",
              "4         5  Father of the Bride Part II (1995)                        Comedy"
            ]
          },
          "metadata": {},
          "execution_count": 168
        }
      ]
    },
    {
      "cell_type": "markdown",
      "metadata": {
        "id": "_87HX6kWN7uQ"
      },
      "source": [
        "# 2. Analyze the dataset\n",
        "- Number of unique movies in ratings\n",
        "- number of unique users in rating\n",
        "- The 30 most popular movies (in order of popularity)"
      ]
    },
    {
      "cell_type": "code",
      "metadata": {
        "colab": {
          "base_uri": "https://localhost:8080/"
        },
        "id": "5F5ip_xlPBOm",
        "outputId": "25efe862-dbc4-4418-9e3e-f381e562c591"
      },
      "source": [
        "ratings['movie_id'].nunique()"
      ],
      "execution_count": 169,
      "outputs": [
        {
          "output_type": "execute_result",
          "data": {
            "text/plain": [
              "3628"
            ]
          },
          "metadata": {},
          "execution_count": 169
        }
      ]
    },
    {
      "cell_type": "code",
      "metadata": {
        "colab": {
          "base_uri": "https://localhost:8080/"
        },
        "id": "2TvrFaT1PNcm",
        "outputId": "b3190ead-9283-4196-de34-ffeb5625bb46"
      },
      "source": [
        "ratings['user_id'].nunique()"
      ],
      "execution_count": 154,
      "outputs": [
        {
          "output_type": "execute_result",
          "data": {
            "text/plain": [
              "6039"
            ]
          },
          "metadata": {},
          "execution_count": 154
        }
      ]
    },
    {
      "cell_type": "code",
      "metadata": {
        "colab": {
          "base_uri": "https://localhost:8080/"
        },
        "id": "2-RUzlyGPRdX",
        "outputId": "68cfa4ee-c772-4088-c579-50ff946a0a51"
      },
      "source": [
        "ratings_df = pd.merge(ratings, movies, on='movie_id')\n",
        "count_movies = ratings_df.groupby('title')['user_id'].count()\n",
        "count_movies = count_movies.sort_values(ascending=False)\n",
        "count_movies.head(30)"
      ],
      "execution_count": 170,
      "outputs": [
        {
          "output_type": "execute_result",
          "data": {
            "text/plain": [
              "title\n",
              "American Beauty (1999)                                   3211\n",
              "Star Wars: Episode IV - A New Hope (1977)                2910\n",
              "Star Wars: Episode V - The Empire Strikes Back (1980)    2885\n",
              "Star Wars: Episode VI - Return of the Jedi (1983)        2716\n",
              "Saving Private Ryan (1998)                               2561\n",
              "Terminator 2: Judgment Day (1991)                        2509\n",
              "Silence of the Lambs, The (1991)                         2498\n",
              "Raiders of the Lost Ark (1981)                           2473\n",
              "Back to the Future (1985)                                2460\n",
              "Matrix, The (1999)                                       2434\n",
              "Jurassic Park (1993)                                     2413\n",
              "Sixth Sense, The (1999)                                  2385\n",
              "Fargo (1996)                                             2371\n",
              "Braveheart (1995)                                        2314\n",
              "Men in Black (1997)                                      2297\n",
              "Schindler's List (1993)                                  2257\n",
              "Princess Bride, The (1987)                               2252\n",
              "Shakespeare in Love (1998)                               2213\n",
              "L.A. Confidential (1997)                                 2210\n",
              "Shawshank Redemption, The (1994)                         2194\n",
              "Godfather, The (1972)                                    2167\n",
              "Groundhog Day (1993)                                     2121\n",
              "E.T. the Extra-Terrestrial (1982)                        2102\n",
              "Being John Malkovich (1999)                              2066\n",
              "Ghostbusters (1984)                                      2051\n",
              "Pulp Fiction (1994)                                      2030\n",
              "Forrest Gump (1994)                                      2022\n",
              "Terminator, The (1984)                                   2019\n",
              "Toy Story (1995)                                         2000\n",
              "Fugitive, The (1993)                                     1941\n",
              "Name: user_id, dtype: int64"
            ]
          },
          "metadata": {},
          "execution_count": 170
        }
      ]
    },
    {
      "cell_type": "code",
      "metadata": {
        "colab": {
          "base_uri": "https://localhost:8080/"
        },
        "id": "ib39sxNLLcAr",
        "outputId": "b05b0724-6b40-4a9c-c194-ed8a53bfb6bf"
      },
      "source": [
        "count_movies.head(60)"
      ],
      "execution_count": 111,
      "outputs": [
        {
          "output_type": "execute_result",
          "data": {
            "text/plain": [
              "title\n",
              "American Beauty (1999)                                   3211\n",
              "Star Wars: Episode IV - A New Hope (1977)                2910\n",
              "Star Wars: Episode V - The Empire Strikes Back (1980)    2885\n",
              "Star Wars: Episode VI - Return of the Jedi (1983)        2716\n",
              "Saving Private Ryan (1998)                               2561\n",
              "Terminator 2: Judgment Day (1991)                        2509\n",
              "Silence of the Lambs, The (1991)                         2498\n",
              "Raiders of the Lost Ark (1981)                           2473\n",
              "Back to the Future (1985)                                2460\n",
              "Matrix, The (1999)                                       2434\n",
              "Jurassic Park (1993)                                     2413\n",
              "Sixth Sense, The (1999)                                  2385\n",
              "Fargo (1996)                                             2371\n",
              "Braveheart (1995)                                        2314\n",
              "Men in Black (1997)                                      2297\n",
              "Schindler's List (1993)                                  2257\n",
              "Princess Bride, The (1987)                               2252\n",
              "Shakespeare in Love (1998)                               2213\n",
              "L.A. Confidential (1997)                                 2210\n",
              "Shawshank Redemption, The (1994)                         2194\n",
              "Godfather, The (1972)                                    2167\n",
              "Groundhog Day (1993)                                     2121\n",
              "E.T. the Extra-Terrestrial (1982)                        2102\n",
              "Being John Malkovich (1999)                              2066\n",
              "Ghostbusters (1984)                                      2051\n",
              "Pulp Fiction (1994)                                      2030\n",
              "Forrest Gump (1994)                                      2022\n",
              "Terminator, The (1984)                                   2019\n",
              "Toy Story (1995)                                         2000\n",
              "Fugitive, The (1993)                                     1941\n",
              "Alien (1979)                                             1920\n",
              "Gladiator (2000)                                         1798\n",
              "Total Recall (1990)                                      1786\n",
              "Star Wars: Episode I - The Phantom Menace (1999)         1783\n",
              "Usual Suspects, The (1995)                               1744\n",
              "Stand by Me (1986)                                       1728\n",
              "Blade Runner (1982)                                      1722\n",
              "Aliens (1986)                                            1720\n",
              "One Flew Over the Cuckoo's Nest (1975)                   1680\n",
              "Wizard of Oz, The (1939)                                 1650\n",
              "Godfather: Part II, The (1974)                           1624\n",
              "Casablanca (1942)                                        1623\n",
              "Who Framed Roger Rabbit? (1988)                          1605\n",
              "Bug's Life, A (1998)                                     1599\n",
              "Jaws (1975)                                              1598\n",
              "GoodFellas (1990)                                        1595\n",
              "Die Hard (1988)                                          1593\n",
              "Hunt for Red October, The (1990)                         1587\n",
              "Airplane! (1980)                                         1586\n",
              "Babe (1995)                                              1574\n",
              "Indiana Jones and the Last Crusade (1989)                1573\n",
              "Galaxy Quest (1999)                                      1572\n",
              "2001: A Space Odyssey (1968)                             1568\n",
              "Abyss, The (1989)                                        1555\n",
              "Monty Python and the Holy Grail (1974)                   1532\n",
              "Lethal Weapon (1987)                                     1527\n",
              "Toy Story 2 (1999)                                       1516\n",
              "Good Will Hunting (1997)                                 1496\n",
              "When Harry Met Sally... (1989)                           1487\n",
              "Speed (1994)                                             1442\n",
              "Name: user_id, dtype: int64"
            ]
          },
          "metadata": {},
          "execution_count": 111
        }
      ]
    },
    {
      "cell_type": "markdown",
      "metadata": {
        "id": "OhBK8BvWVGu-"
      },
      "source": [
        "# 3.Add my 5 fav movies to the 'rating'"
      ]
    },
    {
      "cell_type": "markdown",
      "metadata": {
        "id": "tkxC07Fp8gPA"
      },
      "source": [
        ""
      ]
    },
    {
      "cell_type": "code",
      "metadata": {
        "colab": {
          "base_uri": "https://localhost:8080/",
          "height": 204
        },
        "id": "kd_zBgDn8h6A",
        "outputId": "c533fd67-2368-46ab-a56b-a628ef335ba4"
      },
      "source": [
        "using_cols = ['user_id', 'title', 'count']\n",
        "ratings = ratings_df[using_cols]\n",
        "ratings.head()"
      ],
      "execution_count": 173,
      "outputs": [
        {
          "output_type": "execute_result",
          "data": {
            "text/html": [
              "<div>\n",
              "<style scoped>\n",
              "    .dataframe tbody tr th:only-of-type {\n",
              "        vertical-align: middle;\n",
              "    }\n",
              "\n",
              "    .dataframe tbody tr th {\n",
              "        vertical-align: top;\n",
              "    }\n",
              "\n",
              "    .dataframe thead th {\n",
              "        text-align: right;\n",
              "    }\n",
              "</style>\n",
              "<table border=\"1\" class=\"dataframe\">\n",
              "  <thead>\n",
              "    <tr style=\"text-align: right;\">\n",
              "      <th></th>\n",
              "      <th>user_id</th>\n",
              "      <th>title</th>\n",
              "      <th>count</th>\n",
              "    </tr>\n",
              "  </thead>\n",
              "  <tbody>\n",
              "    <tr>\n",
              "      <th>0</th>\n",
              "      <td>1</td>\n",
              "      <td>One Flew Over the Cuckoo's Nest (1975)</td>\n",
              "      <td>5</td>\n",
              "    </tr>\n",
              "    <tr>\n",
              "      <th>1</th>\n",
              "      <td>2</td>\n",
              "      <td>One Flew Over the Cuckoo's Nest (1975)</td>\n",
              "      <td>5</td>\n",
              "    </tr>\n",
              "    <tr>\n",
              "      <th>2</th>\n",
              "      <td>12</td>\n",
              "      <td>One Flew Over the Cuckoo's Nest (1975)</td>\n",
              "      <td>4</td>\n",
              "    </tr>\n",
              "    <tr>\n",
              "      <th>3</th>\n",
              "      <td>15</td>\n",
              "      <td>One Flew Over the Cuckoo's Nest (1975)</td>\n",
              "      <td>4</td>\n",
              "    </tr>\n",
              "    <tr>\n",
              "      <th>4</th>\n",
              "      <td>17</td>\n",
              "      <td>One Flew Over the Cuckoo's Nest (1975)</td>\n",
              "      <td>5</td>\n",
              "    </tr>\n",
              "  </tbody>\n",
              "</table>\n",
              "</div>"
            ],
            "text/plain": [
              "   user_id                                   title  count\n",
              "0        1  One Flew Over the Cuckoo's Nest (1975)      5\n",
              "1        2  One Flew Over the Cuckoo's Nest (1975)      5\n",
              "2       12  One Flew Over the Cuckoo's Nest (1975)      4\n",
              "3       15  One Flew Over the Cuckoo's Nest (1975)      4\n",
              "4       17  One Flew Over the Cuckoo's Nest (1975)      5"
            ]
          },
          "metadata": {},
          "execution_count": 173
        }
      ]
    },
    {
      "cell_type": "code",
      "metadata": {
        "colab": {
          "base_uri": "https://localhost:8080/",
          "height": 204
        },
        "id": "0Ynro_SaKkj0",
        "outputId": "72c1f990-aa68-4aa7-da98-74c17b86c8d4"
      },
      "source": [
        "my_favorite = ['Toy Story (1995)' , 'Forrest Gump (1994)' ,'Bug\\'s Life, A (1998)','Stand by Me (1986)' ,'Star Wars: Episode V - The Empire Strikes Back (1980)']\n",
        "\n",
        "my_playlist = pd.DataFrame({'user_id': [9999]*5, 'title': my_favorite, 'count':[5]*5})\n",
        "\n",
        "my_playlist"
      ],
      "execution_count": 174,
      "outputs": [
        {
          "output_type": "execute_result",
          "data": {
            "text/html": [
              "<div>\n",
              "<style scoped>\n",
              "    .dataframe tbody tr th:only-of-type {\n",
              "        vertical-align: middle;\n",
              "    }\n",
              "\n",
              "    .dataframe tbody tr th {\n",
              "        vertical-align: top;\n",
              "    }\n",
              "\n",
              "    .dataframe thead th {\n",
              "        text-align: right;\n",
              "    }\n",
              "</style>\n",
              "<table border=\"1\" class=\"dataframe\">\n",
              "  <thead>\n",
              "    <tr style=\"text-align: right;\">\n",
              "      <th></th>\n",
              "      <th>user_id</th>\n",
              "      <th>title</th>\n",
              "      <th>count</th>\n",
              "    </tr>\n",
              "  </thead>\n",
              "  <tbody>\n",
              "    <tr>\n",
              "      <th>0</th>\n",
              "      <td>9999</td>\n",
              "      <td>Toy Story (1995)</td>\n",
              "      <td>5</td>\n",
              "    </tr>\n",
              "    <tr>\n",
              "      <th>1</th>\n",
              "      <td>9999</td>\n",
              "      <td>Forrest Gump (1994)</td>\n",
              "      <td>5</td>\n",
              "    </tr>\n",
              "    <tr>\n",
              "      <th>2</th>\n",
              "      <td>9999</td>\n",
              "      <td>Bug's Life, A (1998)</td>\n",
              "      <td>5</td>\n",
              "    </tr>\n",
              "    <tr>\n",
              "      <th>3</th>\n",
              "      <td>9999</td>\n",
              "      <td>Stand by Me (1986)</td>\n",
              "      <td>5</td>\n",
              "    </tr>\n",
              "    <tr>\n",
              "      <th>4</th>\n",
              "      <td>9999</td>\n",
              "      <td>Star Wars: Episode V - The Empire Strikes Back...</td>\n",
              "      <td>5</td>\n",
              "    </tr>\n",
              "  </tbody>\n",
              "</table>\n",
              "</div>"
            ],
            "text/plain": [
              "   user_id                                              title  count\n",
              "0     9999                                   Toy Story (1995)      5\n",
              "1     9999                                Forrest Gump (1994)      5\n",
              "2     9999                               Bug's Life, A (1998)      5\n",
              "3     9999                                 Stand by Me (1986)      5\n",
              "4     9999  Star Wars: Episode V - The Empire Strikes Back...      5"
            ]
          },
          "metadata": {},
          "execution_count": 174
        }
      ]
    },
    {
      "cell_type": "code",
      "metadata": {
        "id": "rmfhQMcjYd59"
      },
      "source": [
        "ratings = ratings.append(my_playlist)"
      ],
      "execution_count": 175,
      "outputs": []
    },
    {
      "cell_type": "code",
      "metadata": {
        "colab": {
          "base_uri": "https://localhost:8080/",
          "height": 204
        },
        "id": "BUFOEcdWagWf",
        "outputId": "52c58b19-d834-4e60-fd27-caa9704204c0"
      },
      "source": [
        "ratings.head()"
      ],
      "execution_count": 176,
      "outputs": [
        {
          "output_type": "execute_result",
          "data": {
            "text/html": [
              "<div>\n",
              "<style scoped>\n",
              "    .dataframe tbody tr th:only-of-type {\n",
              "        vertical-align: middle;\n",
              "    }\n",
              "\n",
              "    .dataframe tbody tr th {\n",
              "        vertical-align: top;\n",
              "    }\n",
              "\n",
              "    .dataframe thead th {\n",
              "        text-align: right;\n",
              "    }\n",
              "</style>\n",
              "<table border=\"1\" class=\"dataframe\">\n",
              "  <thead>\n",
              "    <tr style=\"text-align: right;\">\n",
              "      <th></th>\n",
              "      <th>user_id</th>\n",
              "      <th>title</th>\n",
              "      <th>count</th>\n",
              "    </tr>\n",
              "  </thead>\n",
              "  <tbody>\n",
              "    <tr>\n",
              "      <th>0</th>\n",
              "      <td>1</td>\n",
              "      <td>One Flew Over the Cuckoo's Nest (1975)</td>\n",
              "      <td>5</td>\n",
              "    </tr>\n",
              "    <tr>\n",
              "      <th>1</th>\n",
              "      <td>2</td>\n",
              "      <td>One Flew Over the Cuckoo's Nest (1975)</td>\n",
              "      <td>5</td>\n",
              "    </tr>\n",
              "    <tr>\n",
              "      <th>2</th>\n",
              "      <td>12</td>\n",
              "      <td>One Flew Over the Cuckoo's Nest (1975)</td>\n",
              "      <td>4</td>\n",
              "    </tr>\n",
              "    <tr>\n",
              "      <th>3</th>\n",
              "      <td>15</td>\n",
              "      <td>One Flew Over the Cuckoo's Nest (1975)</td>\n",
              "      <td>4</td>\n",
              "    </tr>\n",
              "    <tr>\n",
              "      <th>4</th>\n",
              "      <td>17</td>\n",
              "      <td>One Flew Over the Cuckoo's Nest (1975)</td>\n",
              "      <td>5</td>\n",
              "    </tr>\n",
              "  </tbody>\n",
              "</table>\n",
              "</div>"
            ],
            "text/plain": [
              "   user_id                                   title  count\n",
              "0        1  One Flew Over the Cuckoo's Nest (1975)      5\n",
              "1        2  One Flew Over the Cuckoo's Nest (1975)      5\n",
              "2       12  One Flew Over the Cuckoo's Nest (1975)      4\n",
              "3       15  One Flew Over the Cuckoo's Nest (1975)      4\n",
              "4       17  One Flew Over the Cuckoo's Nest (1975)      5"
            ]
          },
          "metadata": {},
          "execution_count": 176
        }
      ]
    },
    {
      "cell_type": "code",
      "metadata": {
        "colab": {
          "base_uri": "https://localhost:8080/",
          "height": 204
        },
        "id": "R_cGRXzQNAmW",
        "outputId": "2bf1fae8-1f53-480c-fe4c-4b99af601716"
      },
      "source": [
        "ratings[ratings['user_id'] == 9999]"
      ],
      "execution_count": 177,
      "outputs": [
        {
          "output_type": "execute_result",
          "data": {
            "text/html": [
              "<div>\n",
              "<style scoped>\n",
              "    .dataframe tbody tr th:only-of-type {\n",
              "        vertical-align: middle;\n",
              "    }\n",
              "\n",
              "    .dataframe tbody tr th {\n",
              "        vertical-align: top;\n",
              "    }\n",
              "\n",
              "    .dataframe thead th {\n",
              "        text-align: right;\n",
              "    }\n",
              "</style>\n",
              "<table border=\"1\" class=\"dataframe\">\n",
              "  <thead>\n",
              "    <tr style=\"text-align: right;\">\n",
              "      <th></th>\n",
              "      <th>user_id</th>\n",
              "      <th>title</th>\n",
              "      <th>count</th>\n",
              "    </tr>\n",
              "  </thead>\n",
              "  <tbody>\n",
              "    <tr>\n",
              "      <th>0</th>\n",
              "      <td>9999</td>\n",
              "      <td>Toy Story (1995)</td>\n",
              "      <td>5</td>\n",
              "    </tr>\n",
              "    <tr>\n",
              "      <th>1</th>\n",
              "      <td>9999</td>\n",
              "      <td>Forrest Gump (1994)</td>\n",
              "      <td>5</td>\n",
              "    </tr>\n",
              "    <tr>\n",
              "      <th>2</th>\n",
              "      <td>9999</td>\n",
              "      <td>Bug's Life, A (1998)</td>\n",
              "      <td>5</td>\n",
              "    </tr>\n",
              "    <tr>\n",
              "      <th>3</th>\n",
              "      <td>9999</td>\n",
              "      <td>Stand by Me (1986)</td>\n",
              "      <td>5</td>\n",
              "    </tr>\n",
              "    <tr>\n",
              "      <th>4</th>\n",
              "      <td>9999</td>\n",
              "      <td>Star Wars: Episode V - The Empire Strikes Back...</td>\n",
              "      <td>5</td>\n",
              "    </tr>\n",
              "  </tbody>\n",
              "</table>\n",
              "</div>"
            ],
            "text/plain": [
              "   user_id                                              title  count\n",
              "0     9999                                   Toy Story (1995)      5\n",
              "1     9999                                Forrest Gump (1994)      5\n",
              "2     9999                               Bug's Life, A (1998)      5\n",
              "3     9999                                 Stand by Me (1986)      5\n",
              "4     9999  Star Wars: Episode V - The Empire Strikes Back...      5"
            ]
          },
          "metadata": {},
          "execution_count": 177
        }
      ]
    },
    {
      "cell_type": "markdown",
      "metadata": {
        "id": "cW5kM1Brb_Jm"
      },
      "source": [
        "# 4. Create CSR Matrix\n"
      ]
    },
    {
      "cell_type": "markdown",
      "metadata": {
        "id": "AOWz3UqxOXNz"
      },
      "source": [
        "## Data Preprocessing (Indexing)"
      ]
    },
    {
      "cell_type": "code",
      "metadata": {
        "id": "bffc341WOaYt"
      },
      "source": [
        "user_unique = ratings['user_id'].unique()\n",
        "title_unique = ratings['title'].unique()\n",
        "\n",
        "user_to_idx = {v:k for k,v in enumerate(user_unique)}\n",
        "title_to_idx = {v:k for k,v in enumerate(title_unique)}"
      ],
      "execution_count": 178,
      "outputs": []
    },
    {
      "cell_type": "code",
      "metadata": {
        "colab": {
          "base_uri": "https://localhost:8080/"
        },
        "id": "0I-wP6CyOeiK",
        "outputId": "60146bae-a760-4012-ee50-3c039da63423"
      },
      "source": [
        "print(user_to_idx[9999])\n",
        "print(title_to_idx['Toy Story (1995)'])"
      ],
      "execution_count": 179,
      "outputs": [
        {
          "output_type": "stream",
          "text": [
            "6039\n",
            "40\n"
          ],
          "name": "stdout"
        }
      ]
    },
    {
      "cell_type": "code",
      "metadata": {
        "colab": {
          "base_uri": "https://localhost:8080/",
          "height": 455
        },
        "id": "cHwvX7TUOmya",
        "outputId": "acaef074-e0f9-474d-d77a-0f6b652657e6"
      },
      "source": [
        "temp_user_data = ratings['user_id'].map(user_to_idx.get).dropna()\n",
        "if len(temp_user_data) == len(ratings):   \n",
        "    print('user_id column indexing OK!!')\n",
        "    ratings['user_id'] = temp_user_data   \n",
        "else:\n",
        "    print('user_id column indexing Fail!!')\n",
        "\n",
        "temp_title_data = ratings['title'].map(title_to_idx.get).dropna()\n",
        "if len(temp_title_data) == len(ratings):\n",
        "    print('title column indexing OK!!')\n",
        "    ratings['title'] = temp_title_data\n",
        "else:\n",
        "    print('title column indexing Fail!!')\n",
        "\n",
        "ratings"
      ],
      "execution_count": 180,
      "outputs": [
        {
          "output_type": "stream",
          "text": [
            "user_id column indexing OK!!\n",
            "title column indexing OK!!\n"
          ],
          "name": "stdout"
        },
        {
          "output_type": "execute_result",
          "data": {
            "text/html": [
              "<div>\n",
              "<style scoped>\n",
              "    .dataframe tbody tr th:only-of-type {\n",
              "        vertical-align: middle;\n",
              "    }\n",
              "\n",
              "    .dataframe tbody tr th {\n",
              "        vertical-align: top;\n",
              "    }\n",
              "\n",
              "    .dataframe thead th {\n",
              "        text-align: right;\n",
              "    }\n",
              "</style>\n",
              "<table border=\"1\" class=\"dataframe\">\n",
              "  <thead>\n",
              "    <tr style=\"text-align: right;\">\n",
              "      <th></th>\n",
              "      <th>user_id</th>\n",
              "      <th>title</th>\n",
              "      <th>count</th>\n",
              "    </tr>\n",
              "  </thead>\n",
              "  <tbody>\n",
              "    <tr>\n",
              "      <th>0</th>\n",
              "      <td>0</td>\n",
              "      <td>0</td>\n",
              "      <td>5</td>\n",
              "    </tr>\n",
              "    <tr>\n",
              "      <th>1</th>\n",
              "      <td>1</td>\n",
              "      <td>0</td>\n",
              "      <td>5</td>\n",
              "    </tr>\n",
              "    <tr>\n",
              "      <th>2</th>\n",
              "      <td>2</td>\n",
              "      <td>0</td>\n",
              "      <td>4</td>\n",
              "    </tr>\n",
              "    <tr>\n",
              "      <th>3</th>\n",
              "      <td>3</td>\n",
              "      <td>0</td>\n",
              "      <td>4</td>\n",
              "    </tr>\n",
              "    <tr>\n",
              "      <th>4</th>\n",
              "      <td>4</td>\n",
              "      <td>0</td>\n",
              "      <td>5</td>\n",
              "    </tr>\n",
              "    <tr>\n",
              "      <th>...</th>\n",
              "      <td>...</td>\n",
              "      <td>...</td>\n",
              "      <td>...</td>\n",
              "    </tr>\n",
              "    <tr>\n",
              "      <th>0</th>\n",
              "      <td>6039</td>\n",
              "      <td>40</td>\n",
              "      <td>5</td>\n",
              "    </tr>\n",
              "    <tr>\n",
              "      <th>1</th>\n",
              "      <td>6039</td>\n",
              "      <td>160</td>\n",
              "      <td>5</td>\n",
              "    </tr>\n",
              "    <tr>\n",
              "      <th>2</th>\n",
              "      <td>6039</td>\n",
              "      <td>4</td>\n",
              "      <td>5</td>\n",
              "    </tr>\n",
              "    <tr>\n",
              "      <th>3</th>\n",
              "      <td>6039</td>\n",
              "      <td>80</td>\n",
              "      <td>5</td>\n",
              "    </tr>\n",
              "    <tr>\n",
              "      <th>4</th>\n",
              "      <td>6039</td>\n",
              "      <td>117</td>\n",
              "      <td>5</td>\n",
              "    </tr>\n",
              "  </tbody>\n",
              "</table>\n",
              "<p>836483 rows × 3 columns</p>\n",
              "</div>"
            ],
            "text/plain": [
              "    user_id  title  count\n",
              "0         0      0      5\n",
              "1         1      0      5\n",
              "2         2      0      4\n",
              "3         3      0      4\n",
              "4         4      0      5\n",
              "..      ...    ...    ...\n",
              "0      6039     40      5\n",
              "1      6039    160      5\n",
              "2      6039      4      5\n",
              "3      6039     80      5\n",
              "4      6039    117      5\n",
              "\n",
              "[836483 rows x 3 columns]"
            ]
          },
          "metadata": {},
          "execution_count": 180
        }
      ]
    },
    {
      "cell_type": "code",
      "metadata": {
        "colab": {
          "base_uri": "https://localhost:8080/"
        },
        "id": "i_EK7ygxNKtQ",
        "outputId": "359a54fe-c74c-43a2-c356-129769e10728"
      },
      "source": [
        "num_user = ratings['user_id'].nunique()\n",
        "num_movie = ratings['title'].nunique()\n",
        "\n",
        "print(num_user,num_movie)\n",
        "csr_data = csr_matrix((ratings['count'],(ratings['user_id'], ratings['title'])))\n",
        "\n",
        "csr_data"
      ],
      "execution_count": 183,
      "outputs": [
        {
          "output_type": "stream",
          "text": [
            "6040 3628\n"
          ],
          "name": "stdout"
        },
        {
          "output_type": "execute_result",
          "data": {
            "text/plain": [
              "<6040x3628 sparse matrix of type '<class 'numpy.longlong'>'\n",
              "\twith 836483 stored elements in Compressed Sparse Row format>"
            ]
          },
          "metadata": {},
          "execution_count": 183
        }
      ]
    },
    {
      "cell_type": "markdown",
      "metadata": {
        "id": "-4uq4lgbcBHG"
      },
      "source": [
        "# 5. Create ALS model and train (AlternatingLeastSquares)\n"
      ]
    },
    {
      "cell_type": "markdown",
      "metadata": {
        "id": "MvCWDnsuPNQz"
      },
      "source": [
        "Recommended from `Implicit` Library as follow:"
      ]
    },
    {
      "cell_type": "code",
      "metadata": {
        "id": "-iGxvKTTPMti"
      },
      "source": [
        "os.environ['OPENBLAS_NUM_THREADS']='1'\n",
        "os.environ['KMP_DUPLICATE_LIB_OK']='True'\n",
        "os.environ['MKL_NUM_THREADS']='1'"
      ],
      "execution_count": 184,
      "outputs": []
    },
    {
      "cell_type": "markdown",
      "metadata": {
        "id": "4h8cBPDyPUCA"
      },
      "source": [
        "Declare `als_model`"
      ]
    },
    {
      "cell_type": "code",
      "metadata": {
        "id": "faVb2EAtPTFb"
      },
      "source": [
        "als_model = AlternatingLeastSquares(factors=100, regularization=0.01, use_gpu=False, iterations=30, dtype=np.float32)\n"
      ],
      "execution_count": 185,
      "outputs": []
    },
    {
      "cell_type": "code",
      "metadata": {
        "colab": {
          "base_uri": "https://localhost:8080/"
        },
        "id": "pj669DAyPYSh",
        "outputId": "beaabfe1-665b-4d57-a2ec-e0f142653b45"
      },
      "source": [
        "csr_data_transpose = csr_data.T\n",
        "csr_data_transpose"
      ],
      "execution_count": 186,
      "outputs": [
        {
          "output_type": "execute_result",
          "data": {
            "text/plain": [
              "<3628x6040 sparse matrix of type '<class 'numpy.longlong'>'\n",
              "\twith 836483 stored elements in Compressed Sparse Column format>"
            ]
          },
          "metadata": {},
          "execution_count": 186
        }
      ]
    },
    {
      "cell_type": "code",
      "metadata": {
        "colab": {
          "base_uri": "https://localhost:8080/",
          "height": 49,
          "referenced_widgets": [
            "685dd508ca0b409b87ed40ac3023bf52",
            "e809c300017b443d8b3af026ceaecfb6",
            "9346b9bc671a43409a6f6224d80bcf46",
            "acc8cfef22bf426baf74004605105c08",
            "f94b844a48d74a4abeb9afb18bfe0433",
            "f0491a19c70f4d91865addc1b28dfcd4",
            "27d1b067339f4e7d902cb04ebc2c8803",
            "abf3462337c24ca79d2547098dddf8ac",
            "6e0571eda8994814807c0f3e9ad4347b",
            "09ac2726bebf41f7b16b27ccff4315c5",
            "56831899386c4a46ac4cf6afb094ddf7"
          ]
        },
        "id": "cZZI9qeePaW4",
        "outputId": "b59521a9-9725-466c-db29-11f97cc8a04e"
      },
      "source": [
        "als_model.fit(csr_data_transpose)"
      ],
      "execution_count": 187,
      "outputs": [
        {
          "output_type": "display_data",
          "data": {
            "application/vnd.jupyter.widget-view+json": {
              "model_id": "685dd508ca0b409b87ed40ac3023bf52",
              "version_minor": 0,
              "version_major": 2
            },
            "text/plain": [
              "  0%|          | 0/30 [00:00<?, ?it/s]"
            ]
          },
          "metadata": {}
        }
      ]
    },
    {
      "cell_type": "markdown",
      "metadata": {
        "id": "DVTckaxNcDgm"
      },
      "source": [
        "# 6. Get preference level of my fav movies from the trained model\n"
      ]
    },
    {
      "cell_type": "markdown",
      "metadata": {
        "id": "fDQ9LvlYQxYp"
      },
      "source": [
        "Predicting the preference of my favorite movies"
      ]
    },
    {
      "cell_type": "code",
      "metadata": {
        "id": "4AglzDj6Pdbv"
      },
      "source": [
        "jieun, toystory = user_to_idx[9999], 2000\n",
        "jieun_vector, toystory_vector = als_model.user_factors[jieun], als_model.item_factors[toystory]"
      ],
      "execution_count": 188,
      "outputs": []
    },
    {
      "cell_type": "code",
      "metadata": {
        "colab": {
          "base_uri": "https://localhost:8080/"
        },
        "id": "ParlgoeiRsOL",
        "outputId": "eb11148a-abba-46d5-8b1f-7f08f240fef7"
      },
      "source": [
        "jieun_vector"
      ],
      "execution_count": 189,
      "outputs": [
        {
          "output_type": "execute_result",
          "data": {
            "text/plain": [
              "array([-0.21731155, -0.16243088,  0.3459847 ,  0.7857577 , -0.67380977,\n",
              "        0.69026375, -0.12849012, -0.6673374 ,  0.4345594 ,  0.06172493,\n",
              "       -0.13035168,  0.40272513,  0.07888252,  0.84380615, -0.37019327,\n",
              "       -0.09008068,  0.09297616,  0.9707458 , -0.5767809 , -0.16720784,\n",
              "        0.0229263 , -0.39049682, -0.10922033, -0.3883964 , -0.12710854,\n",
              "        0.2884064 , -0.0467146 ,  0.22819225,  0.9771122 , -0.78253895,\n",
              "        0.7854523 , -0.26202673, -0.25814393,  0.14835005, -0.37672985,\n",
              "        0.42490304,  0.17876416,  0.2514161 ,  0.24307497, -0.39245582,\n",
              "        0.5226281 ,  0.6528023 ,  0.8273683 , -0.6731733 , -0.50528395,\n",
              "       -0.00225086, -0.6086046 , -0.12206251, -0.34630227,  0.0410092 ,\n",
              "        0.09792275, -0.05464485,  0.11516984, -0.05163636, -0.22902432,\n",
              "        0.13922457,  0.15628834, -1.4676596 , -0.34168586, -0.10798316,\n",
              "        0.22197226,  0.08388081,  0.18967581, -0.09891239, -0.16538824,\n",
              "        1.0148449 ,  0.01640047,  0.53528124, -0.22062808, -0.38093764,\n",
              "        0.3209446 ,  0.46023446, -0.1913174 ,  0.09118813, -0.06279124,\n",
              "        0.3543005 , -0.00642566,  0.39322236,  0.00543572, -0.22656909,\n",
              "       -0.6978044 , -0.24316102, -0.42768744,  0.61916375,  0.29454127,\n",
              "        0.14034732, -0.5666599 , -0.11411677,  0.9873303 , -0.67693424,\n",
              "       -0.820069  , -0.02355942,  0.2509714 , -0.17607623, -0.12999031,\n",
              "        0.08911517,  0.85678595, -0.17608455,  0.2468093 , -0.15795004],\n",
              "      dtype=float32)"
            ]
          },
          "metadata": {},
          "execution_count": 189
        }
      ]
    },
    {
      "cell_type": "code",
      "metadata": {
        "colab": {
          "base_uri": "https://localhost:8080/"
        },
        "id": "XlwA8C4kRtk6",
        "outputId": "1df16815-9e05-4d10-f680-d0ea6e81a7e2"
      },
      "source": [
        "toystory_vector"
      ],
      "execution_count": 190,
      "outputs": [
        {
          "output_type": "execute_result",
          "data": {
            "text/plain": [
              "array([ 8.7005016e-04,  1.8048884e-03,  3.4659640e-03,  2.3006853e-03,\n",
              "        5.7497732e-03,  4.8243310e-04,  6.4813625e-03,  8.0564516e-03,\n",
              "        2.1479810e-03, -2.5455949e-03, -2.5671280e-03, -5.5790627e-03,\n",
              "        3.8866813e-03, -1.3015044e-03,  2.8111271e-03,  4.4910447e-04,\n",
              "        9.7162994e-03,  4.9158428e-03, -4.4545438e-03,  2.9683104e-03,\n",
              "       -4.3224832e-03, -2.5790522e-03,  3.3652433e-03, -8.5877785e-03,\n",
              "        3.4659596e-03, -4.2457497e-03, -4.2089480e-03,  5.5026677e-03,\n",
              "        4.7180224e-03,  5.8445334e-03,  8.4327385e-03,  2.8736070e-03,\n",
              "       -4.6423841e-03,  5.1864266e-04, -8.0362447e-03, -1.6890940e-03,\n",
              "       -9.8971173e-04,  9.7194538e-03, -1.0512193e-02,  1.8122756e-03,\n",
              "        6.8663298e-03,  5.3020120e-03, -1.4738153e-03,  1.0527914e-03,\n",
              "        1.0584030e-02, -7.6987519e-04,  3.6738275e-03, -7.4431614e-04,\n",
              "       -2.6720494e-03, -2.5080428e-03,  9.4146840e-03,  4.0215207e-03,\n",
              "        5.4372535e-03,  2.5894407e-03, -5.8555813e-04,  5.1524043e-03,\n",
              "       -1.8640237e-03,  2.8188862e-03, -6.8950877e-03,  7.9751629e-03,\n",
              "        3.0833390e-03,  2.7256403e-03,  1.4377417e-02,  3.5044942e-03,\n",
              "        6.3782455e-03, -1.2330266e-03, -4.2699450e-03, -6.9835543e-04,\n",
              "       -2.5305019e-03,  2.3907688e-03,  1.4254088e-03,  6.7985142e-03,\n",
              "       -1.2309451e-04,  1.3474706e-02,  1.0055662e-03,  7.9820864e-03,\n",
              "        2.6488502e-03, -1.5851200e-04, -3.7145009e-04,  6.2657874e-03,\n",
              "       -6.8497392e-03, -2.3921976e-04, -1.5990759e-03,  6.6541979e-04,\n",
              "        3.7451917e-03,  6.6684601e-03,  5.8503230e-03,  6.7258568e-04,\n",
              "       -1.9707831e-03,  6.9593647e-03,  6.3413600e-03,  3.6736019e-03,\n",
              "       -9.0919790e-04, -1.2885029e-02, -4.9957945e-03, -1.4116432e-05,\n",
              "        2.0480724e-03,  2.7379207e-03, -7.9959637e-04,  9.2132511e-03],\n",
              "      dtype=float32)"
            ]
          },
          "metadata": {},
          "execution_count": 190
        }
      ]
    },
    {
      "cell_type": "code",
      "metadata": {
        "colab": {
          "base_uri": "https://localhost:8080/"
        },
        "id": "JROhjusnRvH7",
        "outputId": "c82717a7-0656-45df-f1a0-1aa004249a80"
      },
      "source": [
        "np.dot(jieun_vector, toystory_vector)"
      ],
      "execution_count": 191,
      "outputs": [
        {
          "output_type": "execute_result",
          "data": {
            "text/plain": [
              "0.008474321"
            ]
          },
          "metadata": {},
          "execution_count": 191
        }
      ]
    },
    {
      "cell_type": "markdown",
      "metadata": {
        "id": "nZ_L-r-tQ2na"
      },
      "source": [
        "Predicting my preference for other movies : Speed (1994) - index 1442"
      ]
    },
    {
      "cell_type": "code",
      "metadata": {
        "id": "3jZ1R7tlR8rz"
      },
      "source": [
        "jieun, speed = user_to_idx[9999], 1442\n",
        "jieun_vector, speed_vector = als_model.user_factors[jieun], als_model.item_factors[speed]"
      ],
      "execution_count": 192,
      "outputs": []
    },
    {
      "cell_type": "code",
      "metadata": {
        "colab": {
          "base_uri": "https://localhost:8080/"
        },
        "id": "47-89bBNSWmw",
        "outputId": "770d4d40-021a-42b2-8d96-f1e0d0c8eaff"
      },
      "source": [
        "np.dot(jieun_vector, speed_vector)"
      ],
      "execution_count": 193,
      "outputs": [
        {
          "output_type": "execute_result",
          "data": {
            "text/plain": [
              "-0.0078366855"
            ]
          },
          "metadata": {},
          "execution_count": 193
        }
      ]
    },
    {
      "cell_type": "markdown",
      "metadata": {
        "id": "Q7hMADw7cFTC"
      },
      "source": [
        "# 7. Get recommendations for movies that are similar to your favorite movies."
      ]
    },
    {
      "cell_type": "code",
      "metadata": {
        "id": "iRu2UgmKUCeO"
      },
      "source": [
        "idx_to_title = {v:k for k, v in title_to_idx.items()}\n",
        "\n",
        "def get_similar_movie(movie_title: str):\n",
        "    title_id = title_to_idx[movie_title]\n",
        "    similar_movie = als_model.similar_items(title_id)\n",
        "    similar_movie = [idx_to_title[i[0]] for i in similar_movie]\n",
        "    return similar_movie\n",
        "\n",
        "def get_similar_movie_by_id(title_id: int):\n",
        "    similar_movie = als_model.similar_items(movie_id)\n",
        "    similar_movie = [idx_to_title[i[0]] for i in similar_movie]\n",
        "    return similar_movie"
      ],
      "execution_count": 194,
      "outputs": []
    },
    {
      "cell_type": "markdown",
      "metadata": {
        "id": "N5GjrfLwdoxj"
      },
      "source": [
        "Get recommendations for my fav movies"
      ]
    },
    {
      "cell_type": "code",
      "metadata": {
        "colab": {
          "base_uri": "https://localhost:8080/"
        },
        "id": "sKv-h84GUNgn",
        "outputId": "89ef713b-450d-4f4f-cc82-0ff04862a6a9"
      },
      "source": [
        "get_similar_movie('Toy Story (1995)')"
      ],
      "execution_count": 195,
      "outputs": [
        {
          "output_type": "execute_result",
          "data": {
            "text/plain": [
              "['Toy Story (1995)',\n",
              " 'Toy Story 2 (1999)',\n",
              " \"Bug's Life, A (1998)\",\n",
              " 'Babe (1995)',\n",
              " 'Aladdin (1992)',\n",
              " 'Groundhog Day (1993)',\n",
              " 'Pleasantville (1998)',\n",
              " 'Lion King, The (1994)',\n",
              " 'Beauty and the Beast (1991)',\n",
              " \"There's Something About Mary (1998)\"]"
            ]
          },
          "metadata": {},
          "execution_count": 195
        }
      ]
    },
    {
      "cell_type": "markdown",
      "metadata": {
        "id": "-1ak4W-0dtTI"
      },
      "source": [
        "Get recommendations for another movie"
      ]
    },
    {
      "cell_type": "code",
      "metadata": {
        "colab": {
          "base_uri": "https://localhost:8080/"
        },
        "id": "f0ajR7jXdoXq",
        "outputId": "93a27c06-0723-44e5-aa79-045503b4df8b"
      },
      "source": [
        "get_similar_movie('Men in Black (1997)')"
      ],
      "execution_count": 196,
      "outputs": [
        {
          "output_type": "execute_result",
          "data": {
            "text/plain": [
              "['Men in Black (1997)',\n",
              " 'Jurassic Park (1993)',\n",
              " 'Terminator 2: Judgment Day (1991)',\n",
              " 'Total Recall (1990)',\n",
              " 'Independence Day (ID4) (1996)',\n",
              " 'Matrix, The (1999)',\n",
              " 'Fifth Element, The (1997)',\n",
              " 'Lost World: Jurassic Park, The (1997)',\n",
              " 'Galaxy Quest (1999)',\n",
              " 'Schlafes Bruder (Brother of Sleep) (1995)']"
            ]
          },
          "metadata": {},
          "execution_count": 196
        }
      ]
    },
    {
      "cell_type": "code",
      "metadata": {
        "colab": {
          "base_uri": "https://localhost:8080/"
        },
        "id": "lIchequEeChR",
        "outputId": "192591a7-eaa0-4989-8091-965135b770e8"
      },
      "source": [
        "user = user_to_idx[9999]\n",
        "artist_recommended = als_model.recommend(user, csr_data, N=20, filter_already_liked_items=True)\n",
        "artist_recommended"
      ],
      "execution_count": 198,
      "outputs": [
        {
          "output_type": "execute_result",
          "data": {
            "text/plain": [
              "[(50, 0.75809884),\n",
              " (64, 0.59311485),\n",
              " (44, 0.38345823),\n",
              " (110, 0.37946138),\n",
              " (322, 0.32532197),\n",
              " (5, 0.3136822),\n",
              " (120, 0.30574942),\n",
              " (22, 0.2963306),\n",
              " (26, 0.28146118),\n",
              " (99, 0.28129023),\n",
              " (87, 0.2774638),\n",
              " (33, 0.26344126),\n",
              " (126, 0.24480475),\n",
              " (1030, 0.2203416),\n",
              " (48, 0.21387866),\n",
              " (20, 0.21099932),\n",
              " (189, 0.20866719),\n",
              " (172, 0.2013833),\n",
              " (1084, 0.17556304),\n",
              " (475, 0.17154062)]"
            ]
          },
          "metadata": {},
          "execution_count": 198
        }
      ]
    },
    {
      "cell_type": "code",
      "metadata": {
        "colab": {
          "base_uri": "https://localhost:8080/"
        },
        "id": "6aRObs6YeRBO",
        "outputId": "be3d5d23-b434-4bcd-eac6-f19fffb1f42e"
      },
      "source": [
        "[idx_to_title[i[0]] for i in artist_recommended]\n"
      ],
      "execution_count": 200,
      "outputs": [
        {
          "output_type": "execute_result",
          "data": {
            "text/plain": [
              "['Toy Story 2 (1999)',\n",
              " 'Star Wars: Episode VI - Return of the Jedi (1983)',\n",
              " 'Star Wars: Episode IV - A New Hope (1977)',\n",
              " 'Groundhog Day (1993)',\n",
              " 'Babe (1995)',\n",
              " 'Princess Bride, The (1987)',\n",
              " 'Raiders of the Lost Ark (1981)',\n",
              " 'Back to the Future (1985)',\n",
              " 'E.T. the Extra-Terrestrial (1982)',\n",
              " 'American Beauty (1999)',\n",
              " 'Braveheart (1995)',\n",
              " 'Aladdin (1992)',\n",
              " 'Shakespeare in Love (1998)',\n",
              " 'Platoon (1986)',\n",
              " 'Saving Private Ryan (1998)',\n",
              " 'Pleasantville (1998)',\n",
              " 'Breakfast Club, The (1985)',\n",
              " 'Indiana Jones and the Last Crusade (1989)',\n",
              " 'Full Metal Jacket (1987)',\n",
              " 'My Cousin Vinny (1992)']"
            ]
          },
          "metadata": {},
          "execution_count": 200
        }
      ]
    },
    {
      "cell_type": "markdown",
      "metadata": {
        "id": "2mcvGfiaeZu3"
      },
      "source": [
        "Let's check movies that are contributed to this recommendations."
      ]
    },
    {
      "cell_type": "code",
      "metadata": {
        "id": "721dv8cMegqm"
      },
      "source": [
        "slam = title_to_idx['Star Wars: Episode VI - Return of the Jedi (1983)']\n",
        "explain = als_model.explain(user, csr_data, itemid=slam)"
      ],
      "execution_count": 205,
      "outputs": []
    },
    {
      "cell_type": "code",
      "metadata": {
        "colab": {
          "base_uri": "https://localhost:8080/"
        },
        "id": "XgatbvJzetuX",
        "outputId": "82a87d3e-683d-49a3-9bd2-61d027762bd3"
      },
      "source": [
        "[(idx_to_title[i[0]], i[1]) for i in explain[1]]\n"
      ],
      "execution_count": 206,
      "outputs": [
        {
          "output_type": "execute_result",
          "data": {
            "text/plain": [
              "[('Star Wars: Episode V - The Empire Strikes Back (1980)', 0.4652252443664239),\n",
              " ('Forrest Gump (1994)', 0.14910034953971713),\n",
              " (\"Bug's Life, A (1998)\", 0.02734312202215841),\n",
              " ('Toy Story (1995)', 0.004513152299155231),\n",
              " ('Stand by Me (1986)', -0.05906457799085581)]"
            ]
          },
          "metadata": {},
          "execution_count": 206
        }
      ]
    },
    {
      "cell_type": "markdown",
      "metadata": {
        "id": "R97eFijHe5X1"
      },
      "source": [
        "As expected(?), Star Wars series 5 contributed to recommend Star Wars series 6..! including other animes I chose."
      ]
    },
    {
      "cell_type": "markdown",
      "metadata": {
        "id": "C4eLtgoqfE0I"
      },
      "source": [
        "# Conclusion\n",
        "- Succesfully created a Matrix Factorization (hereinafter MF)-based recommendation model - using the implicit library.\n",
        "- Utilized CSR Matrix, a data structure frequently used in recommender systems.\n",
        "- Created my own recommendation model with a new dataset.\n",
        "- Got movie recommendations based on my fav movies."
      ]
    },
    {
      "cell_type": "markdown",
      "metadata": {
        "id": "obq3012tKhUE"
      },
      "source": [
        "# References\n",
        "- Hu, Yifan, et al. “Collaborative Filtering for Implicit Feedback Datasets.” 2008 Eighth IEEE International Conference on Data Mining, 2008, doi:10.1109/icdm.2008.22. "
      ]
    }
  ]
}